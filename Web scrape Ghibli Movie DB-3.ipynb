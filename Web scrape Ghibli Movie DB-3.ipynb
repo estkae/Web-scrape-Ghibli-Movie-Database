{
 "cells": [
  {
   "cell_type": "markdown",
   "metadata": {},
   "source": [
    "## Find a list of movies"
   ]
  },
  {
   "cell_type": "code",
   "execution_count": 199,
   "metadata": {},
   "outputs": [],
   "source": [
    "from urllib.request import urlopen\n",
    "from bs4 import BeautifulSoup\n",
    "html = urlopen('https://www.themoviedb.org/list/4309')"
   ]
  },
  {
   "cell_type": "code",
   "execution_count": 200,
   "metadata": {},
   "outputs": [],
   "source": [
    "bsObj = BeautifulSoup(html)"
   ]
  },
  {
   "cell_type": "code",
   "execution_count": 201,
   "metadata": {},
   "outputs": [
    {
     "data": {
      "text/plain": [
       "'<!DOCTYPE html>\\n<html class=\"no-js\" lang=\"en\">\\n <head>\\n  <title>\\n   The Studio Ghibli Collection — The Movie Database (TMDb)\\n  </title>\\n  <meta content=\"IE=edge\" http-equiv=\"X-UA-Compatible\"/>\\n  <meta content=\"on\" http-equiv=\"cleartype\"/>\\n  <meta charset=\"utf-8\"/>\\n  <meta content=\"#00d573\" name=\"msapplication-TileColor\"/>\\n  <meta content=\"https://www.themoviedb.org/assets/2/v4/icons/mstile-144x144-30e7905a8315a080978ad6aeb71c69222b72c2f75d26dab1224173a96fecc962.png\" name=\"msapplication-TileImage\"/>\\n  <meta content=\"Movies, TV Shows, Reviews, API, Actors, Actresses, Photos, User Ratings, Synopsis, Trailers, Teasers, Credits, Cast\" name=\"keywords\"/>\\n  <meta content=\"yes\" name=\"mobile-web-app-capable\"/>\\n  <meta content=\"yes\" name=\"apple-mobile-web-app-capable\"/>\\n  <meta content=\"True\" name=\"HandheldFriendly\"/>\\n  <meta content=\"320\" name=\"MobileOptimized\"/>\\n  <meta content=\"width=1120\" name=\"viewport\"/>\\n  <meta content=\"#071d25\" name=\"theme-color\"/>\\n  <link href=\"/apple-touch-icon.png\" rel=\"apple-touch-icon\" sizes=\"180x180\"/>\\n  <link href=\"/favicon.ico\" rel=\"shortcut icon\" type=\"image/icon\"/>\\n  <link href=\"/favicon-32x32.png\" rel=\"icon\" sizes=\"32x32\" type=\"image/png\"/>\\n  <link href=\"/manifest.json\" rel=\"manifest\"/>\\n  <link color=\"#00d474\" href=\"/safari-pinned-tab.svg\" rel=\"mask-icon\"/>\\n  <link crossorigin=\"\" href=\"https://fonts.gstatic.com/\" rel=\"preconnect\"/>\\n  <link crossorigin=\"\" href=\"https://image.tmdb.org/\" rel=\"preconnect\"/>\\n  <link href=\"https://www.themoviedb.org/list/4309\" rel=\"canonical\"/>\\n  <link href=\"/opensearch.xml\" rel=\"search\" title=\"TMDb Search\" type=\"application/opensearchdescription+xml\"/>\\n  <link href=\"https://fonts.googleapis.com/css?family=Source+Sans+Pro:300,400,400i,600,700&amp;subset=cyrillic,cyrillic-ext,greek,greek-ext,latin-ext,vietnamese\" rel=\"stylesheet\"/>\\n  <link as=\"font\" crossorigin=\"\" href=\"https://www.themoviedb.org/assets/2/glyphicons-regular-eedc7581ecfd9bb57b1af16ad7ad4428aa147de4f08e01f49a768c801a29de84.woff2\" rel=\"preload\" type=\"font/woff2\"/>\\n  <link as=\"font\" crossorigin=\"\" href=\"https://www.themoviedb.org/assets/2/glyphicons-social-regular-3b9b636e607f21a1cfd4b7ea97c940476b79c6e6319086b20cdc67695b10a2a3.woff2\" rel=\"preload\" type=\"font/woff2\"/>\\n  <link href=\"https://www.themoviedb.org/assets/2/application-397aa443c36b051bf4c28fda53b4ea69eb25b5b8e5e93b7d08a497f2cd75616d.css\" rel=\"stylesheet\"/>\\n  <link href=\"https://www.themoviedb.org/assets/2/v4/media-4afe0d38780b0d6e91c45050ae2c9e0fb1d691c2ec6796ed30c6d77a362048cf.css\" rel=\"stylesheet\"/>\\n  <link href=\"https://www.themoviedb.org/assets/2/v4/media_list-b4e0939e439da13a1c18088c782dff1e2fc61408c6fe79004c09335b2e3781ba.css\" rel=\"stylesheet\"/>\\n  <meta content=\"The Studio Ghibli Collection\" property=\"og:title\"/>\\n  <meta content=\"list\" property=\"og:type\"/>\\n  <meta content=\"https://www.themoviedb.org/list/4309\" property=\"og:url\"/>\\n  <meta content=\"The Movie Database\" property=\"og:site_name\"/>\\n  <meta content=\"141280979243998\" property=\"fb:app_id\"/>\\n  <meta content=\"summary\" name=\"twitter:card\"/>\\n  <meta content=\"The Studio Ghibli Collection\" name=\"twitter:title\"/>\\n  <meta content=\"Get more information about The Studio Ghibli Collection on TMDb.\" name=\"twitter:description\"/>\\n  <meta content=\"https://www.themoviedb.org/assets/2/v4/logos/256x256-dark-bg-01a111196ed89d59b90c31440b0f77523e9d9a9acac04a7bac00c27c6ce511a9.png\" name=\"twitter:image\"/>\\n  <meta content=\"256\" name=\"twitter:image:width\"/>\\n  <meta content=\"256\" name=\"twitter:image:height\"/>\\n  <meta content=\"@themoviedb\" name=\"twitter:site\"/>\\n  <meta content=\"https://www.themoviedb.org/list/4309\" name=\"twitter:url\"/>\\n  <meta content=\\'&lt;p&gt;Optimum Asia distributes films from the Far East in DVD format in the UK. This list is their current catalog of what they call \"The Studio Ghibli Collection.\" While not every film is directly made by Studio Ghibli, they all have a strong link to the studio or Hayao Miyazaki. Starting with Nausicauü as number one, each DVD cover has a number. This list adheres to the numbered order in the Optimum Asia collection.&lt;/p&gt;\\n\\' name=\"description\"/>\\n  <link href=\"/list/4309\" hreflang=\"x-default\" rel=\"alternate\"/>\\n  <link href=\"/list/4309/ar\" hreflang=\"ar\" rel=\"alternate\"/>\\n  <link href=\"/list/4309/be\" hreflang=\"be\" rel=\"alternate\"/>\\n  <link href=\"/list/4309/bg\" hreflang=\"bg\" rel=\"alternate\"/>\\n  <link href=\"/list/4309/bn\" hreflang=\"bn\" rel=\"alternate\"/>\\n  <link href=\"/list/4309/ca\" hreflang=\"ca\" rel=\"alternate\"/>\\n  <link href=\"/list/4309/ch\" hreflang=\"ch\" rel=\"alternate\"/>\\n  <link href=\"/list/4309/cn\" hreflang=\"cn\" rel=\"alternate\"/>\\n  <link href=\"/list/4309/cs\" hreflang=\"cs\" rel=\"alternate\"/>\\n  <link href=\"/list/4309/da\" hreflang=\"da\" rel=\"alternate\"/>\\n  <link href=\"/list/4309/de\" hreflang=\"de\" rel=\"alternate\"/>\\n  <link href=\"/list/4309/el\" hreflang=\"el\" rel=\"alternate\"/>\\n  <link href=\"/list/4309/en\" hreflang=\"en\" rel=\"alternate\"/>\\n  <link href=\"/list/4309/eo\" hreflang=\"eo\" rel=\"alternate\"/>\\n  <link href=\"/list/4309/es\" hreflang=\"es\" rel=\"alternate\"/>\\n  <link href=\"/list/4309/et\" hreflang=\"et\" rel=\"alternate\"/>\\n  <link href=\"/list/4309/eu\" hreflang=\"eu\" rel=\"alternate\"/>\\n  <link href=\"/list/4309/fa\" hreflang=\"fa\" rel=\"alternate\"/>\\n  <link href=\"/list/4309/fi\" hreflang=\"fi\" rel=\"alternate\"/>\\n  <link href=\"/list/4309/fr\" hreflang=\"fr\" rel=\"alternate\"/>\\n  <link href=\"/list/4309/gl\" hreflang=\"gl\" rel=\"alternate\"/>\\n  <link href=\"/list/4309/he\" hreflang=\"he\" rel=\"alternate\"/>\\n  <link href=\"/list/4309/hi\" hreflang=\"hi\" rel=\"alternate\"/>\\n  <link href=\"/list/4309/hu\" hreflang=\"hu\" rel=\"alternate\"/>\\n  <link href=\"/list/4309/id\" hreflang=\"id\" rel=\"alternate\"/>\\n  <link href=\"/list/4309/it\" hreflang=\"it\" rel=\"alternate\"/>\\n  <link href=\"/list/4309/ja\" hreflang=\"ja\" rel=\"alternate\"/>\\n  <link href=\"/list/4309/ka\" hreflang=\"ka\" rel=\"alternate\"/>\\n  <link href=\"/list/4309/kk\" hreflang=\"kk\" rel=\"alternate\"/>\\n  <link href=\"/list/4309/kn\" hreflang=\"kn\" rel=\"alternate\"/>\\n  <link href=\"/list/4309/ko\" hreflang=\"ko\" rel=\"alternate\"/>\\n  <link href=\"/list/4309/lt\" hreflang=\"lt\" rel=\"alternate\"/>\\n  <link href=\"/list/4309/lv\" hreflang=\"lv\" rel=\"alternate\"/>\\n  <link href=\"/list/4309/ml\" hreflang=\"ml\" rel=\"alternate\"/>\\n  <link href=\"/list/4309/ms\" hreflang=\"ms\" rel=\"alternate\"/>\\n  <link href=\"/list/4309/nb\" hreflang=\"nb\" rel=\"alternate\"/>\\n  <link href=\"/list/4309/nl\" hreflang=\"nl\" rel=\"alternate\"/>\\n  <link href=\"/list/4309/no\" hreflang=\"no\" rel=\"alternate\"/>\\n  <link href=\"/list/4309/pl\" hreflang=\"pl\" rel=\"alternate\"/>\\n  <link href=\"/list/4309/pt\" hreflang=\"pt\" rel=\"alternate\"/>\\n  <link href=\"/list/4309/ro\" hreflang=\"ro\" rel=\"alternate\"/>\\n  <link href=\"/list/4309/ru\" hreflang=\"ru\" rel=\"alternate\"/>\\n  <link href=\"/list/4309/si\" hreflang=\"si\" rel=\"alternate\"/>\\n  <link href=\"/list/4309/sk\" hreflang=\"sk\" rel=\"alternate\"/>\\n  <link href=\"/list/4309/sl\" hreflang=\"sl\" rel=\"alternate\"/>\\n  <link href=\"/list/4309/sr\" hreflang=\"sr\" rel=\"alternate\"/>\\n  <link href=\"/list/4309/sv\" hreflang=\"sv\" rel=\"alternate\"/>\\n  <link href=\"/list/4309/ta\" hreflang=\"ta\" rel=\"alternate\"/>\\n  <link href=\"/list/4309/te\" hreflang=\"te\" rel=\"alternate\"/>\\n  <link href=\"/list/4309/tl\" hreflang=\"tl\" rel=\"alternate\"/>\\n  <link href=\"/list/4309/th\" hreflang=\"th\" rel=\"alternate\"/>\\n  <link href=\"/list/4309/tr\" hreflang=\"tr\" rel=\"alternate\"/>\\n  <link href=\"/list/4309/uk\" hreflang=\"uk\" rel=\"alternate\"/>\\n  <link href=\"/list/4309/vi\" hreflang=\"vi\" rel=\"alternate\"/>\\n  <link href=\"/list/4309/zh\" hreflang=\"zh\" rel=\"alternate\"/>\\n  <link href=\"/list/4309/zu\" hreflang=\"zu\" rel=\"alternate\"/>\\n  <script async=\"\" src=\"https://www.themoviedb.org/assets/2/lazysizes.min-ecd9153f15ee5598e45550c41ad0591c3d26687f4c54eedfb66c77a8568a9c62.js\">\\n  </script>\\n  <script src=\"https://www.themoviedb.org/assets/2/application-a950042c848f42326d45e92a7bfc51223b338e74bd8d040090977d2239fad437.js\">\\n  </script>\\n  <script src=\"https://www.themoviedb.org/assets/2/pusher.min-07db6b3cb7095c3bbfd72bd98853986dd25eb0114718330c1ee6d0f20587fcbd.js\">\\n  </script>\\n  <script src=\"https://www.themoviedb.org/assets/2/jquery.waypoints.inview.min-020c5d0ff05f6c391ec83334e99df1904b2971479d4334ac94fe7bca52bf287a.js\">\\n  </script>\\n  <script src=\"https://www.themoviedb.org/assets/2/jquery.lazy.min-9bd1414ddd77ae72841b0653c1fc2fb622263bea5e2da71c504de4c3e64c23e0.js\">\\n  </script>\\n  <script>\\n   (function(w,d,s,l,i){w[l]=w[l]||[];w[l].push({\\'gtm.start\\':\\n      new Date().getTime(),event:\\'gtm.js\\'});var f=d.getElementsByTagName(s)[0],\\n      j=d.createElement(s),dl=l!=\\'dataLayer\\'?\\'&l=\\'+l:\\'\\';j.async=true;j.src=\\n      \\'https://www.googletagmanager.com/gtm.js?id=\\'+i+dl;f.parentNode.insertBefore(j,f);\\n      })(window,document,\\'script\\',\\'dataLayer\\',\\'GTM-5QWVXV\\');\\n  </script>\\n </head>\\n <body class=\"en v4\">\\n  <noscript>\\n   <iframe height=\"0\" src=\"https://www.googletagmanager.com/ns.html?id=GTM-5QWVXV\" style=\"display:none;visibility:hidden\" width=\"0\">\\n   </iframe>\\n  </noscript>\\n  <div class=\"page_wrap list_wrap\">\\n   <header class=\"normal\">\\n    <div class=\"content\">\\n     <div class=\"sub_media\">\\n      <ul class=\"small right\">\\n       <li>\\n        <a href=\"/apps\">\\n         Apps\\n        </a>\\n       </li>\\n       <li>\\n        <a href=\"/discuss\">\\n         Forums\\n        </a>\\n       </li>\\n       <li>\\n        <a href=\"/leaderboard\">\\n         Leaderboard\\n        </a>\\n       </li>\\n       <li>\\n        <a href=\"/contribute\">\\n         Contribute\\n        </a>\\n       </li>\\n       <li>\\n        <a href=\"/documentation/api\">\\n         API\\n        </a>\\n       </li>\\n       <li>\\n        <a href=\"/talk\">\\n         Support\\n        </a>\\n       </li>\\n      </ul>\\n      <div class=\"left\">\\n       <ul class=\"primary\">\\n        <li class=\"logo\">\\n         <a href=\"/\">\\n          <img alt=\"The Movie Database (TMDb)\" height=\"72\" src=\"https://www.themoviedb.org/assets/2/v4/logos/primary-green-d70eebe18a5eb5b166d5c1ef0796715b8d1a2cbc698f96d311d62f894ae87085.svg\" width=\"81\"/>\\n         </a>\\n        </li>\\n        <li>\\n         <a href=\"/discover\">\\n          Discover\\n         </a>\\n         <ul class=\"sub_menu discover hide\">\\n          <li>\\n           <a href=\"/discover/movie\">\\n            Movies\\n           </a>\\n          </li>\\n          <li>\\n           <a href=\"/discover/tv\">\\n            TV Shows\\n           </a>\\n          </li>\\n         </ul>\\n        </li>\\n        <li>\\n         <a href=\"/movie\">\\n          Movies\\n         </a>\\n         <ul class=\"sub_menu movie hide\">\\n          <li>\\n           <a href=\"/movie\">\\n            Popular\\n           </a>\\n          </li>\\n          <li>\\n           <a href=\"/movie/top-rated\">\\n            Top Rated\\n           </a>\\n          </li>\\n          <li>\\n           <a href=\"/movie/upcoming\">\\n            Upcoming\\n           </a>\\n          </li>\\n          <li>\\n           <a href=\"/movie/now-playing\">\\n            Now Playing\\n           </a>\\n          </li>\\n         </ul>\\n        </li>\\n        <li>\\n         <a href=\"/tv\">\\n          TV Shows\\n         </a>\\n         <ul class=\"sub_menu tv hide\">\\n          <li>\\n           <a href=\"/tv\">\\n            Popular\\n           </a>\\n          </li>\\n          <li>\\n           <a href=\"/tv/top-rated\">\\n            Top Rated\\n           </a>\\n          </li>\\n          <li>\\n           <a href=\"/tv/on-the-air\">\\n            On TV\\n           </a>\\n          </li>\\n          <li>\\n           <a href=\"/tv/airing-today\">\\n            Airing Today\\n           </a>\\n          </li>\\n         </ul>\\n        </li>\\n        <li>\\n         <a href=\"/person\">\\n          People\\n         </a>\\n         <ul class=\"sub_menu person hide\">\\n          <li>\\n           <a href=\"/person\">\\n            Popular People\\n           </a>\\n          </li>\\n         </ul>\\n        </li>\\n       </ul>\\n      </div>\\n      <div class=\"right\">\\n       <ul class=\"primary\">\\n        <li>\\n         <div class=\"glyph_wrapper\">\\n          <a class=\"glyph new_icon no_click\" href=\"#\">\\n           <span class=\"glyphicons glyphicons-plus\">\\n           </span>\\n           <div class=\"rollover\">\\n            <p>\\n             Can\\'t find a movie or TV show? Login to create it.\\n            </p>\\n           </div>\\n          </a>\\n         </div>\\n        </li>\\n        <li class=\"translate\">\\n         <div>\\n          en\\n         </div>\\n        </li>\\n        <li>\\n         <a href=\"/login\">\\n          Login\\n         </a>\\n        </li>\\n        <li>\\n         <a href=\"/account/signup\">\\n          Sign Up\\n         </a>\\n        </li>\\n       </ul>\\n      </div>\\n     </div>\\n    </div>\\n    <div class=\"search_bar\">\\n     <section class=\"search\">\\n      <div class=\"sub_media\">\\n       <form accept-charset=\"utf-8\" action=\"/search\" id=\"search_form\" method=\"get\">\\n        <input autocomplete=\"off\" autocorrect=\"off\" autofill=\"off\" dir=\"auto\" id=\"search_v4\" name=\"query\" placeholder=\"Search for a movie, tv show, person...\" spellcheck=\"false\" tabindex=\"0\" type=\"text\" value=\"\"/>\\n        <input disabled=\"\" type=\"submit\"/>\\n       </form>\\n      </div>\\n     </section>\\n    </div>\\n   </header>\\n   <style>\\n    html, body {\\n    background-color: #fff;\\n  }\\n   </style>\\n   <main class=\"\" id=\"main\">\\n    <style>\\n     section.inner_content.header {\\n        background-image: url(\\'https://image.tmdb.org/t/p/w1920_and_h318_bestv2/hoIqf9YjZM0oQOrFXp8DcucJ3Jg.jpg\\');\\n      }\\n    </style>\\n    <script>\\n     $(document).ready(function(){\\n\\n    $(\\'div.buttons a\\').on(\\'click\\', function(e) {\\n      e.preventDefault();\\n    });\\n\\n    \\n\\n    function loadPage(page) {\\n      $.ajax({\\n        url: \\'/list/4309\\',\\n        data: {\\n          page: page,\\n          language: \\'en-US\\',\\n          sort_by: \\'\\'\\n        }\\n      }).fail(function() {\\n        showError(\\'There was a problem.\\');\\n      }).done(function(response) {\\n        var items = $(response).find(\\'#list_page_\\' + page + \\' li\\');\\n        if (items) {\\n          $(\\'#list_page_\\' + page).html(items);\\n        }\\n\\n        \\n      });\\n    }\\n\\n    createInview($(\\'#list_page_1\\'));\\n    var last_page = 2;\\n\\n    $(\".lazy\").Lazy({\\n      threshold: 800,\\n      getPage: function(element) {\\n        var page = element.attr(\\'data-page\\');\\n        loadPage(page);\\n        createInview(element);\\n      }\\n    });\\n\\n    function createInview(element) {\\n      new Waypoint.Inview({\\n        element: element,\\n        enter: function(direction) {\\n          var page = $(this.element).attr(\\'data-page\\');\\n\\n          if (page == last_page){\\n            $(\\'div.pagination\\').remove();\\n          }\\n        }\\n      });\\n    }\\n\\n    \\n  });\\n    </script>\\n    <section class=\"inner_content header\">\\n     <div class=\"bg_filter\">\\n      <div class=\"single_column\">\\n       <h2>\\n        <a href=\"/list/4309\">\\n         The Studio Ghibli Collection\\n        </a>\\n       </h2>\\n       <ul class=\"list_menu_bar\">\\n        <li class=\"account\">\\n         <a href=\"/u/The_Stewart\">\\n          <img alt=\"Stewart Lawrence III\" class=\"avatar\" src=\"https://secure.gravatar.com/avatar/2c54a107bc9df7c38720c06e57f38119.jpg?s=50\" srcset=\"https://secure.gravatar.com/avatar/2c54a107bc9df7c38720c06e57f38119.jpg?s=50 1x, https://secure.gravatar.com/avatar/2c54a107bc9df7c38720c06e57f38119.jpg?s=100 2x, https://secure.gravatar.com/avatar/2c54a107bc9df7c38720c06e57f38119.jpg?s=150 3x\"/>\\n         </a>\\n         <p>\\n          A list by\\n          <br/>\\n          <a href=\"/u/The_Stewart\">\\n           Stewart Lawrence III\\n          </a>\\n         </p>\\n        </li>\\n        <li class=\"menu\">\\n         <a class=\"rounded white button no_click\" href=\"#\">\\n          <span class=\"glyphicons glyphicons-sort-by-attributes\">\\n          </span>\\n          Sort By\\n         </a>\\n         <ul class=\"sub_menu\">\\n          <li>\\n           <a class=\"white button\" href=\"/list/4309\">\\n            Original Order\\n           </a>\\n          </li>\\n          <li>\\n           <a class=\"white button\" href=\"/list/4309?sort_by=vote_average.desc\">\\n            Rating\\n           </a>\\n          </li>\\n          <li>\\n           <a class=\"white button\" href=\"/list/4309?sort_by=primary_release_date.desc\">\\n            Release Date\\n           </a>\\n          </li>\\n          <li>\\n           <a class=\"white button\" href=\"/list/4309?sort_by=title.asc\">\\n            Title\\n           </a>\\n          </li>\\n         </ul>\\n        </li>\\n        <li>\\n         <a class=\"rounded white button\" href=\"#\" id=\"share\">\\n          <span class=\"glyphicons glyphicons-share-alt\">\\n          </span>\\n          Share\\n         </a>\\n        </li>\\n       </ul>\\n       <h3>\\n        About this list\\n       </h3>\\n       <div class=\"description\">\\n        <p>\\n         Optimum Asia distributes films from the Far East in DVD format in the UK. This list is their current catalog of what they call \"The Studio Ghibli Collection.\" While not every film is directly made by Studio Ghibli, they all have a strong link to the studio or Hayao Miyazaki. Starting with Nausicauü as number one, each DVD cover has a number. This list adheres to the numbered order in the Optimum Asia collection.\\n        </p>\\n       </div>\\n      </div>\\n     </div>\\n    </section>\\n    <section class=\"inner_content info\">\\n     <div class=\"single_column\">\\n      <ul class=\"list_info\">\\n       <li>\\n        <span>\\n         <em>\\n          22\\n         </em>\\n        </span>\\n        <br/>\\n        items on this list\\n       </li>\\n       <li>\\n        <span>\\n         <em>\\n          7.4\\n         </em>\\n        </span>\\n        <span class=\"glyphicons glyphicons-star\">\\n        </span>\\n        <br/>\\n        Average Rating\\n       </li>\\n       <li>\\n        <span>\\n         <em>\\n          35h 16m\\n         </em>\\n        </span>\\n        <br/>\\n        Total Runtime\\n       </li>\\n       <li>\\n        <span>\\n         <em>\\n          $1.2B\\n         </em>\\n        </span>\\n        <br/>\\n        Total Revenue\\n       </li>\\n      </ul>\\n     </div>\\n    </section>\\n    <div class=\"single_column results tight\">\\n     <ul class=\"list_results\" data-loader=\"getPage\" data-page=\"1\" id=\"list_page_1\">\\n      <li class=\"\" id=\"4bc88b44017a3c122d001496\">\\n       <div class=\"item_wrapper\">\\n        <div class=\"info_wrapper\">\\n         <div class=\"image\">\\n          <a href=\"/movie/81\">\\n           <img alt=\"Nausicaä of the Valley of the Wind\" class=\"poster lazyload fade\" data-sizes=\"auto\" data-src=\"https://image.tmdb.org/t/p/w185_and_h278_bestv2/hnYowHwLq0iUWriAHtiiCWsI2dP.jpg\" data-srcset=\"https://image.tmdb.org/t/p/w185_and_h278_bestv2/hnYowHwLq0iUWriAHtiiCWsI2dP.jpg 1x, https://image.tmdb.org/t/p/w370_and_h556_bestv2/hnYowHwLq0iUWriAHtiiCWsI2dP.jpg 2x\"/>\\n          </a>\\n         </div>\\n         <div class=\"info_strip\">\\n          <div class=\"number\">\\n           <span>\\n            1\\n           </span>\\n          </div>\\n          <div class=\"meta buttons\">\\n           <a class=\"favourite no_click\" href=\"#\" title=\"Login to add this movie to your favorite list\">\\n            <span class=\"glyphicons glyphicons-heart favourite list_action\" data-media-type=\"movie\" id=\"favourite_4bc88b44017a3c122d001496\">\\n            </span>\\n           </a>\\n           <a class=\"watchlist no_click\" href=\"#\" title=\"Login to add this movie to your watchlist\">\\n            <span class=\"glyphicons glyphicons-bookmark watchlist list_action\" data-media-type=\"movie\" id=\"watchlist_4bc88b44017a3c122d001496\">\\n            </span>\\n           </a>\\n           <a href=\"#\">\\n            <span class=\"glyphicons glyphicons-star rating\" id=\"rating_4bc88b44017a3c122d001496\">\\n            </span>\\n            <span class=\"rating\">\\n             7.9\\n            </span>\\n           </a>\\n          </div>\\n         </div>\\n        </div>\\n       </div>\\n      </li>\\n      <li class=\"\" id=\"4bc8baec017a3c122d06d5d1\">\\n       <div class=\"item_wrapper\">\\n        <div class=\"info_wrapper\">\\n         <div class=\"image\">\\n          <a href=\"/movie/15370\">\\n           <img alt=\"The Cat Returns\" class=\"poster lazyload fade\" data-sizes=\"auto\" data-src=\"https://image.tmdb.org/t/p/w185_and_h278_bestv2/57rS5DXN8YfRHgh609RgCKjKbel.jpg\" data-srcset=\"https://image.tmdb.org/t/p/w185_and_h278_bestv2/57rS5DXN8YfRHgh609RgCKjKbel.jpg 1x, https://image.tmdb.org/t/p/w370_and_h556_bestv2/57rS5DXN8YfRHgh609RgCKjKbel.jpg 2x\"/>\\n          </a>\\n         </div>\\n         <div class=\"info_strip\">\\n          <div class=\"number\">\\n           <span>\\n            2\\n           </span>\\n          </div>\\n          <div class=\"meta buttons\">\\n           <a class=\"favourite no_click\" href=\"#\" title=\"Login to add this movie to your favorite list\">\\n            <span class=\"glyphicons glyphicons-heart favourite list_action\" data-media-type=\"movie\" id=\"favourite_4bc8baec017a3c122d06d5d1\">\\n            </span>\\n           </a>\\n           <a class=\"watchlist no_click\" href=\"#\" title=\"Login to add this movie to your watchlist\">\\n            <span class=\"glyphicons glyphicons-bookmark watchlist list_action\" data-media-type=\"movie\" id=\"watchlist_4bc8baec017a3c122d06d5d1\">\\n            </span>\\n           </a>\\n           <a href=\"#\">\\n            <span class=\"glyphicons glyphicons-star rating\" id=\"rating_4bc8baec017a3c122d06d5d1\">\\n            </span>\\n            <span class=\"rating\">\\n             7.2\\n            </span>\\n           </a>\\n          </div>\\n         </div>\\n        </div>\\n       </div>\\n      </li>\\n      <li class=\"\" id=\"4bc8b2d6017a3c122d05b765\">\\n       <div class=\"item_wrapper\">\\n        <div class=\"info_wrapper\">\\n         <div class=\"image\">\\n          <a href=\"/movie/11621\">\\n           <img alt=\"Porco Rosso\" class=\"poster lazyload fade\" data-sizes=\"auto\" data-src=\"https://image.tmdb.org/t/p/w185_and_h278_bestv2/d8J98dLZkfTpJY64VvtCOH2UkXP.jpg\" data-srcset=\"https://image.tmdb.org/t/p/w185_and_h278_bestv2/d8J98dLZkfTpJY64VvtCOH2UkXP.jpg 1x, https://image.tmdb.org/t/p/w370_and_h556_bestv2/d8J98dLZkfTpJY64VvtCOH2UkXP.jpg 2x\"/>\\n          </a>\\n         </div>\\n         <div class=\"info_strip\">\\n          <div class=\"number\">\\n           <span>\\n            3\\n           </span>\\n          </div>\\n          <div class=\"meta buttons\">\\n           <a class=\"favourite no_click\" href=\"#\" title=\"Login to add this movie to your favorite list\">\\n            <span class=\"glyphicons glyphicons-heart favourite list_action\" data-media-type=\"movie\" id=\"favourite_4bc8b2d6017a3c122d05b765\">\\n            </span>\\n           </a>\\n           <a class=\"watchlist no_click\" href=\"#\" title=\"Login to add this movie to your watchlist\">\\n            <span class=\"glyphicons glyphicons-bookmark watchlist list_action\" data-media-type=\"movie\" id=\"watchlist_4bc8b2d6017a3c122d05b765\">\\n            </span>\\n           </a>\\n           <a href=\"#\">\\n            <span class=\"glyphicons glyphicons-star rating\" id=\"rating_4bc8b2d6017a3c122d05b765\">\\n            </span>\\n            <span class=\"rating\">\\n             7.8\\n            </span>\\n           </a>\\n          </div>\\n         </div>\\n        </div>\\n       </div>\\n      </li>\\n      <li class=\"\" id=\"4bc8bad1017a3c122d06d1f6\">\\n       <div class=\"item_wrapper\">\\n        <div class=\"info_wrapper\">\\n         <div class=\"image\">\\n          <a href=\"/movie/15283\">\\n           <img alt=\"Pom Poko\" class=\"poster lazyload fade\" data-sizes=\"auto\" data-src=\"https://image.tmdb.org/t/p/w185_and_h278_bestv2/xbpD0l4Y4DKVMc3LjsiSCE2sC5z.jpg\" data-srcset=\"https://image.tmdb.org/t/p/w185_and_h278_bestv2/xbpD0l4Y4DKVMc3LjsiSCE2sC5z.jpg 1x, https://image.tmdb.org/t/p/w370_and_h556_bestv2/xbpD0l4Y4DKVMc3LjsiSCE2sC5z.jpg 2x\"/>\\n          </a>\\n         </div>\\n         <div class=\"info_strip\">\\n          <div class=\"number\">\\n           <span>\\n            4\\n           </span>\\n          </div>\\n          <div class=\"meta buttons\">\\n           <a class=\"favourite no_click\" href=\"#\" title=\"Login to add this movie to your favorite list\">\\n            <span class=\"glyphicons glyphicons-heart favourite list_action\" data-media-type=\"movie\" id=\"favourite_4bc8bad1017a3c122d06d1f6\">\\n            </span>\\n           </a>\\n           <a class=\"watchlist no_click\" href=\"#\" title=\"Login to add this movie to your watchlist\">\\n            <span class=\"glyphicons glyphicons-bookmark watchlist list_action\" data-media-type=\"movie\" id=\"watchlist_4bc8bad1017a3c122d06d1f6\">\\n            </span>\\n           </a>\\n           <a href=\"#\">\\n            <span class=\"glyphicons glyphicons-star rating\" id=\"rating_4bc8bad1017a3c122d06d1f6\">\\n            </span>\\n            <span class=\"rating\">\\n             7.2\\n            </span>\\n           </a>\\n          </div>\\n         </div>\\n        </div>\\n       </div>\\n      </li>\\n      <li class=\"\" id=\"4bc8bcfd017a3c122d0726c8\">\\n       <div class=\"item_wrapper\">\\n        <div class=\"info_wrapper\">\\n         <div class=\"image\">\\n          <a href=\"/movie/16859\">\\n           <img alt=\"Kiki\\'s Delivery Service\" class=\"poster lazyload fade\" data-sizes=\"auto\" data-src=\"https://image.tmdb.org/t/p/w185_and_h278_bestv2/3LvTAZayVIWke8XDmiwNR6cX6EP.jpg\" data-srcset=\"https://image.tmdb.org/t/p/w185_and_h278_bestv2/3LvTAZayVIWke8XDmiwNR6cX6EP.jpg 1x, https://image.tmdb.org/t/p/w370_and_h556_bestv2/3LvTAZayVIWke8XDmiwNR6cX6EP.jpg 2x\"/>\\n          </a>\\n         </div>\\n         <div class=\"info_strip\">\\n          <div class=\"number\">\\n           <span>\\n            5\\n           </span>\\n          </div>\\n          <div class=\"meta buttons\">\\n           <a class=\"favourite no_click\" href=\"#\" title=\"Login to add this movie to your favorite list\">\\n            <span class=\"glyphicons glyphicons-heart favourite list_action\" data-media-type=\"movie\" id=\"favourite_4bc8bcfd017a3c122d0726c8\">\\n            </span>\\n           </a>\\n           <a class=\"watchlist no_click\" href=\"#\" title=\"Login to add this movie to your watchlist\">\\n            <span class=\"glyphicons glyphicons-bookmark watchlist list_action\" data-media-type=\"movie\" id=\"watchlist_4bc8bcfd017a3c122d0726c8\">\\n            </span>\\n           </a>\\n           <a href=\"#\">\\n            <span class=\"glyphicons glyphicons-star rating\" id=\"rating_4bc8bcfd017a3c122d0726c8\">\\n            </span>\\n            <span class=\"rating\">\\n             7.8\\n            </span>\\n           </a>\\n          </div>\\n         </div>\\n        </div>\\n       </div>\\n      </li>\\n      <li class=\"\" id=\"4bc8ad91017a3c122d051b57\">\\n       <div class=\"item_wrapper\">\\n        <div class=\"info_wrapper\">\\n         <div class=\"image\">\\n          <a href=\"/movie/10515\">\\n           <img alt=\"Castle in the Sky\" class=\"poster lazyload fade\" data-sizes=\"auto\" data-src=\"https://image.tmdb.org/t/p/w185_and_h278_bestv2/4RTG2AaqZ9eleL51ryWwv78WwDu.jpg\" data-srcset=\"https://image.tmdb.org/t/p/w185_and_h278_bestv2/4RTG2AaqZ9eleL51ryWwv78WwDu.jpg 1x, https://image.tmdb.org/t/p/w370_and_h556_bestv2/4RTG2AaqZ9eleL51ryWwv78WwDu.jpg 2x\"/>\\n          </a>\\n         </div>\\n         <div class=\"info_strip\">\\n          <div class=\"number\">\\n           <span>\\n            6\\n           </span>\\n          </div>\\n          <div class=\"meta buttons\">\\n           <a class=\"favourite no_click\" href=\"#\" title=\"Login to add this movie to your favorite list\">\\n            <span class=\"glyphicons glyphicons-heart favourite list_action\" data-media-type=\"movie\" id=\"favourite_4bc8ad91017a3c122d051b57\">\\n            </span>\\n           </a>\\n           <a class=\"watchlist no_click\" href=\"#\" title=\"Login to add this movie to your watchlist\">\\n            <span class=\"glyphicons glyphicons-bookmark watchlist list_action\" data-media-type=\"movie\" id=\"watchlist_4bc8ad91017a3c122d051b57\">\\n            </span>\\n           </a>\\n           <a href=\"#\">\\n            <span class=\"glyphicons glyphicons-star rating\" id=\"rating_4bc8ad91017a3c122d051b57\">\\n            </span>\\n            <span class=\"rating\">\\n             8\\n            </span>\\n           </a>\\n          </div>\\n         </div>\\n        </div>\\n       </div>\\n      </li>\\n      <li class=\"\" id=\"4bc89f75017a3c122d02ee5f\">\\n       <div class=\"item_wrapper\">\\n        <div class=\"info_wrapper\">\\n         <div class=\"image\">\\n          <a href=\"/movie/4935\">\\n           <img alt=\"Howl\\'s Moving Castle\" class=\"poster lazyload fade\" data-sizes=\"auto\" data-src=\"https://image.tmdb.org/t/p/w185_and_h278_bestv2/iMarB2ior30OAXjPa7QIdeyUfM1.jpg\" data-srcset=\"https://image.tmdb.org/t/p/w185_and_h278_bestv2/iMarB2ior30OAXjPa7QIdeyUfM1.jpg 1x, https://image.tmdb.org/t/p/w370_and_h556_bestv2/iMarB2ior30OAXjPa7QIdeyUfM1.jpg 2x\"/>\\n          </a>\\n         </div>\\n         <div class=\"info_strip\">\\n          <div class=\"number\">\\n           <span>\\n            7\\n           </span>\\n          </div>\\n          <div class=\"meta buttons\">\\n           <a class=\"favourite no_click\" href=\"#\" title=\"Login to add this movie to your favorite list\">\\n            <span class=\"glyphicons glyphicons-heart favourite list_action\" data-media-type=\"movie\" id=\"favourite_4bc89f75017a3c122d02ee5f\">\\n            </span>\\n           </a>\\n           <a class=\"watchlist no_click\" href=\"#\" title=\"Login to add this movie to your watchlist\">\\n            <span class=\"glyphicons glyphicons-bookmark watchlist list_action\" data-media-type=\"movie\" id=\"watchlist_4bc89f75017a3c122d02ee5f\">\\n            </span>\\n           </a>\\n           <a href=\"#\">\\n            <span class=\"glyphicons glyphicons-star rating\" id=\"rating_4bc89f75017a3c122d02ee5f\">\\n            </span>\\n            <span class=\"rating\">\\n             8.4\\n            </span>\\n           </a>\\n          </div>\\n         </div>\\n        </div>\\n       </div>\\n      </li>\\n      <li class=\"\" id=\"4bc88bc8017a3c122d00246d\">\\n       <div class=\"item_wrapper\">\\n        <div class=\"info_wrapper\">\\n         <div class=\"image\">\\n          <a href=\"/movie/128\">\\n           <img alt=\"Princess Mononoke\" class=\"poster lazyload fade\" data-sizes=\"auto\" data-src=\"https://image.tmdb.org/t/p/w185_and_h278_bestv2/mNqZOtJIQfFQPjo3hmYLIn8Qqhf.jpg\" data-srcset=\"https://image.tmdb.org/t/p/w185_and_h278_bestv2/mNqZOtJIQfFQPjo3hmYLIn8Qqhf.jpg 1x, https://image.tmdb.org/t/p/w370_and_h556_bestv2/mNqZOtJIQfFQPjo3hmYLIn8Qqhf.jpg 2x\"/>\\n          </a>\\n         </div>\\n         <div class=\"info_strip\">\\n          <div class=\"number\">\\n           <span>\\n            8\\n           </span>\\n          </div>\\n          <div class=\"meta buttons\">\\n           <a class=\"favourite no_click\" href=\"#\" title=\"Login to add this movie to your favorite list\">\\n            <span class=\"glyphicons glyphicons-heart favourite list_action\" data-media-type=\"movie\" id=\"favourite_4bc88bc8017a3c122d00246d\">\\n            </span>\\n           </a>\\n           <a class=\"watchlist no_click\" href=\"#\" title=\"Login to add this movie to your watchlist\">\\n            <span class=\"glyphicons glyphicons-bookmark watchlist list_action\" data-media-type=\"movie\" id=\"watchlist_4bc88bc8017a3c122d00246d\">\\n            </span>\\n           </a>\\n           <a href=\"#\">\\n            <span class=\"glyphicons glyphicons-star rating\" id=\"rating_4bc88bc8017a3c122d00246d\">\\n            </span>\\n            <span class=\"rating\">\\n             8.4\\n            </span>\\n           </a>\\n          </div>\\n         </div>\\n        </div>\\n       </div>\\n      </li>\\n      <li class=\"\" id=\"4bc8a5cf017a3c122d03f73b\">\\n       <div class=\"item_wrapper\">\\n        <div class=\"info_wrapper\">\\n         <div class=\"image\">\\n          <a href=\"/movie/8392\">\\n           <img alt=\"My Neighbor Totoro\" class=\"poster lazyload fade\" data-sizes=\"auto\" data-src=\"https://image.tmdb.org/t/p/w185_and_h278_bestv2/rtGDOeG9LzoerkDGZF9dnVeLppL.jpg\" data-srcset=\"https://image.tmdb.org/t/p/w185_and_h278_bestv2/rtGDOeG9LzoerkDGZF9dnVeLppL.jpg 1x, https://image.tmdb.org/t/p/w370_and_h556_bestv2/rtGDOeG9LzoerkDGZF9dnVeLppL.jpg 2x\"/>\\n          </a>\\n         </div>\\n         <div class=\"info_strip\">\\n          <div class=\"number\">\\n           <span>\\n            9\\n           </span>\\n          </div>\\n          <div class=\"meta buttons\">\\n           <a class=\"favourite no_click\" href=\"#\" title=\"Login to add this movie to your favorite list\">\\n            <span class=\"glyphicons glyphicons-heart favourite list_action\" data-media-type=\"movie\" id=\"favourite_4bc8a5cf017a3c122d03f73b\">\\n            </span>\\n           </a>\\n           <a class=\"watchlist no_click\" href=\"#\" title=\"Login to add this movie to your watchlist\">\\n            <span class=\"glyphicons glyphicons-bookmark watchlist list_action\" data-media-type=\"movie\" id=\"watchlist_4bc8a5cf017a3c122d03f73b\">\\n            </span>\\n           </a>\\n           <a href=\"#\">\\n            <span class=\"glyphicons glyphicons-star rating\" id=\"rating_4bc8a5cf017a3c122d03f73b\">\\n            </span>\\n            <span class=\"rating\">\\n             8.1\\n            </span>\\n           </a>\\n          </div>\\n         </div>\\n        </div>\\n       </div>\\n      </li>\\n      <li class=\"\" id=\"4bc8b572017a3c122d06086c\">\\n       <div class=\"item_wrapper\">\\n        <div class=\"info_wrapper\">\\n         <div class=\"image\">\\n          <a href=\"/movie/12477\">\\n           <img alt=\"Grave of the Fireflies\" class=\"poster lazyload fade\" data-sizes=\"auto\" data-src=\"https://image.tmdb.org/t/p/w185_and_h278_bestv2/wcNkHDbyc290hcWk7KXbBZUuXpq.jpg\" data-srcset=\"https://image.tmdb.org/t/p/w185_and_h278_bestv2/wcNkHDbyc290hcWk7KXbBZUuXpq.jpg 1x, https://image.tmdb.org/t/p/w370_and_h556_bestv2/wcNkHDbyc290hcWk7KXbBZUuXpq.jpg 2x\"/>\\n          </a>\\n         </div>\\n         <div class=\"info_strip\">\\n          <div class=\"number\">\\n           <span>\\n            10\\n           </span>\\n          </div>\\n          <div class=\"meta buttons\">\\n           <a class=\"favourite no_click\" href=\"#\" title=\"Login to add this movie to your favorite list\">\\n            <span class=\"glyphicons glyphicons-heart favourite list_action\" data-media-type=\"movie\" id=\"favourite_4bc8b572017a3c122d06086c\">\\n            </span>\\n           </a>\\n           <a class=\"watchlist no_click\" href=\"#\" title=\"Login to add this movie to your watchlist\">\\n            <span class=\"glyphicons glyphicons-bookmark watchlist list_action\" data-media-type=\"movie\" id=\"watchlist_4bc8b572017a3c122d06086c\">\\n            </span>\\n           </a>\\n           <a href=\"#\">\\n            <span class=\"glyphicons glyphicons-star rating\" id=\"rating_4bc8b572017a3c122d06086c\">\\n            </span>\\n            <span class=\"rating\">\\n             8.4\\n            </span>\\n           </a>\\n          </div>\\n         </div>\\n        </div>\\n       </div>\\n      </li>\\n      <li class=\"\" id=\"4beecba1017a3c458d00027b\">\\n       <div class=\"item_wrapper\">\\n        <div class=\"info_wrapper\">\\n         <div class=\"image\">\\n          <a href=\"/movie/37797\">\\n           <img alt=\"Whisper of the Heart\" class=\"poster lazyload fade\" data-sizes=\"auto\" data-src=\"https://image.tmdb.org/t/p/w185_and_h278_bestv2/2R1Ffu4V7azxXkRcBKtVCW8AXA7.jpg\" data-srcset=\"https://image.tmdb.org/t/p/w185_and_h278_bestv2/2R1Ffu4V7azxXkRcBKtVCW8AXA7.jpg 1x, https://image.tmdb.org/t/p/w370_and_h556_bestv2/2R1Ffu4V7azxXkRcBKtVCW8AXA7.jpg 2x\"/>\\n          </a>\\n         </div>\\n         <div class=\"info_strip\">\\n          <div class=\"number\">\\n           <span>\\n            11\\n           </span>\\n          </div>\\n          <div class=\"meta buttons\">\\n           <a class=\"favourite no_click\" href=\"#\" title=\"Login to add this movie to your favorite list\">\\n            <span class=\"glyphicons glyphicons-heart favourite list_action\" data-media-type=\"movie\" id=\"favourite_4beecba1017a3c458d00027b\">\\n            </span>\\n           </a>\\n           <a class=\"watchlist no_click\" href=\"#\" title=\"Login to add this movie to your watchlist\">\\n            <span class=\"glyphicons glyphicons-bookmark watchlist list_action\" data-media-type=\"movie\" id=\"watchlist_4beecba1017a3c458d00027b\">\\n            </span>\\n           </a>\\n           <a href=\"#\">\\n            <span class=\"glyphicons glyphicons-star rating\" id=\"rating_4beecba1017a3c458d00027b\">\\n            </span>\\n            <span class=\"rating\">\\n             7.9\\n            </span>\\n           </a>\\n          </div>\\n         </div>\\n        </div>\\n       </div>\\n      </li>\\n      <li class=\"\" id=\"4bc8bc1f017a3c122d070803\">\\n       <div class=\"item_wrapper\">\\n        <div class=\"info_wrapper\">\\n         <div class=\"image\">\\n          <a href=\"/movie/16198\">\\n           <img alt=\"My Neighbors the Yamadas\" class=\"poster lazyload fade\" data-sizes=\"auto\" data-src=\"https://image.tmdb.org/t/p/w185_and_h278_bestv2/qV2DNDMfryHrDi0kZSe1BOUnMV5.jpg\" data-srcset=\"https://image.tmdb.org/t/p/w185_and_h278_bestv2/qV2DNDMfryHrDi0kZSe1BOUnMV5.jpg 1x, https://image.tmdb.org/t/p/w370_and_h556_bestv2/qV2DNDMfryHrDi0kZSe1BOUnMV5.jpg 2x\"/>\\n          </a>\\n         </div>\\n         <div class=\"info_strip\">\\n          <div class=\"number\">\\n           <span>\\n            12\\n           </span>\\n          </div>\\n          <div class=\"meta buttons\">\\n           <a class=\"favourite no_click\" href=\"#\" title=\"Login to add this movie to your favorite list\">\\n            <span class=\"glyphicons glyphicons-heart favourite list_action\" data-media-type=\"movie\" id=\"favourite_4bc8bc1f017a3c122d070803\">\\n            </span>\\n           </a>\\n           <a class=\"watchlist no_click\" href=\"#\" title=\"Login to add this movie to your watchlist\">\\n            <span class=\"glyphicons glyphicons-bookmark watchlist list_action\" data-media-type=\"movie\" id=\"watchlist_4bc8bc1f017a3c122d070803\">\\n            </span>\\n           </a>\\n           <a href=\"#\">\\n            <span class=\"glyphicons glyphicons-star rating\" id=\"rating_4bc8bc1f017a3c122d070803\">\\n            </span>\\n            <span class=\"rating\">\\n             6.9\\n            </span>\\n           </a>\\n          </div>\\n         </div>\\n        </div>\\n       </div>\\n      </li>\\n      <li class=\"\" id=\"4bc88bcc017a3c122d0024c9\">\\n       <div class=\"item_wrapper\">\\n        <div class=\"info_wrapper\">\\n         <div class=\"image\">\\n          <a href=\"/movie/129\">\\n           <img alt=\"Spirited Away\" class=\"poster lazyload fade\" data-sizes=\"auto\" data-src=\"https://image.tmdb.org/t/p/w185_and_h278_bestv2/oRvMaJOmapypFUcQqpgHMZA6qL9.jpg\" data-srcset=\"https://image.tmdb.org/t/p/w185_and_h278_bestv2/oRvMaJOmapypFUcQqpgHMZA6qL9.jpg 1x, https://image.tmdb.org/t/p/w370_and_h556_bestv2/oRvMaJOmapypFUcQqpgHMZA6qL9.jpg 2x\"/>\\n          </a>\\n         </div>\\n         <div class=\"info_strip\">\\n          <div class=\"number\">\\n           <span>\\n            13\\n           </span>\\n          </div>\\n          <div class=\"meta buttons\">\\n           <a class=\"favourite no_click\" href=\"#\" title=\"Login to add this movie to your favorite list\">\\n            <span class=\"glyphicons glyphicons-heart favourite list_action\" data-media-type=\"movie\" id=\"favourite_4bc88bcc017a3c122d0024c9\">\\n            </span>\\n           </a>\\n           <a class=\"watchlist no_click\" href=\"#\" title=\"Login to add this movie to your watchlist\">\\n            <span class=\"glyphicons glyphicons-bookmark watchlist list_action\" data-media-type=\"movie\" id=\"watchlist_4bc88bcc017a3c122d0024c9\">\\n            </span>\\n           </a>\\n           <a href=\"#\">\\n            <span class=\"glyphicons glyphicons-star rating\" id=\"rating_4bc88bcc017a3c122d0024c9\">\\n            </span>\\n            <span class=\"rating\">\\n             8.5\\n            </span>\\n           </a>\\n          </div>\\n         </div>\\n        </div>\\n       </div>\\n      </li>\\n      <li class=\"\" id=\"4bc8ba8c017a3c122d06c81f\">\\n       <div class=\"item_wrapper\">\\n        <div class=\"info_wrapper\">\\n         <div class=\"image\">\\n          <a href=\"/movie/15080\">\\n           <img alt=\"Only Yesterday\" class=\"poster lazyload fade\" data-sizes=\"auto\" data-src=\"https://image.tmdb.org/t/p/w185_and_h278_bestv2/24DqWbbkKI0ReUooSJiIqzURp3g.jpg\" data-srcset=\"https://image.tmdb.org/t/p/w185_and_h278_bestv2/24DqWbbkKI0ReUooSJiIqzURp3g.jpg 1x, https://image.tmdb.org/t/p/w370_and_h556_bestv2/24DqWbbkKI0ReUooSJiIqzURp3g.jpg 2x\"/>\\n          </a>\\n         </div>\\n         <div class=\"info_strip\">\\n          <div class=\"number\">\\n           <span>\\n            14\\n           </span>\\n          </div>\\n          <div class=\"meta buttons\">\\n           <a class=\"favourite no_click\" href=\"#\" title=\"Login to add this movie to your favorite list\">\\n            <span class=\"glyphicons glyphicons-heart favourite list_action\" data-media-type=\"movie\" id=\"favourite_4bc8ba8c017a3c122d06c81f\">\\n            </span>\\n           </a>\\n           <a class=\"watchlist no_click\" href=\"#\" title=\"Login to add this movie to your watchlist\">\\n            <span class=\"glyphicons glyphicons-bookmark watchlist list_action\" data-media-type=\"movie\" id=\"watchlist_4bc8ba8c017a3c122d06c81f\">\\n            </span>\\n           </a>\\n           <a href=\"#\">\\n            <span class=\"glyphicons glyphicons-star rating\" id=\"rating_4bc8ba8c017a3c122d06c81f\">\\n            </span>\\n            <span class=\"rating\">\\n             7.3\\n            </span>\\n           </a>\\n          </div>\\n         </div>\\n        </div>\\n       </div>\\n      </li>\\n      <li class=\"\" id=\"4bf21b21017a3c32170002e1\">\\n       <div class=\"item_wrapper\">\\n        <div class=\"info_wrapper\">\\n         <div class=\"image\">\\n          <a href=\"/movie/37933\">\\n           <img alt=\"Tales from Earthsea\" class=\"poster lazyload fade\" data-sizes=\"auto\" data-src=\"https://image.tmdb.org/t/p/w185_and_h278_bestv2/deB7rfqZXpVxdRinyaCeyhwNPbg.jpg\" data-srcset=\"https://image.tmdb.org/t/p/w185_and_h278_bestv2/deB7rfqZXpVxdRinyaCeyhwNPbg.jpg 1x, https://image.tmdb.org/t/p/w370_and_h556_bestv2/deB7rfqZXpVxdRinyaCeyhwNPbg.jpg 2x\"/>\\n          </a>\\n         </div>\\n         <div class=\"info_strip\">\\n          <div class=\"number\">\\n           <span>\\n            15\\n           </span>\\n          </div>\\n          <div class=\"meta buttons\">\\n           <a class=\"favourite no_click\" href=\"#\" title=\"Login to add this movie to your favorite list\">\\n            <span class=\"glyphicons glyphicons-heart favourite list_action\" data-media-type=\"movie\" id=\"favourite_4bf21b21017a3c32170002e1\">\\n            </span>\\n           </a>\\n           <a class=\"watchlist no_click\" href=\"#\" title=\"Login to add this movie to your watchlist\">\\n            <span class=\"glyphicons glyphicons-bookmark watchlist list_action\" data-media-type=\"movie\" id=\"watchlist_4bf21b21017a3c32170002e1\">\\n            </span>\\n           </a>\\n           <a href=\"#\">\\n            <span class=\"glyphicons glyphicons-star rating\" id=\"rating_4bf21b21017a3c32170002e1\">\\n            </span>\\n            <span class=\"rating\">\\n             6.6\\n            </span>\\n           </a>\\n          </div>\\n         </div>\\n        </div>\\n       </div>\\n      </li>\\n      <li class=\"\" id=\"4bc8c20f017a3c122d07ecf9\">\\n       <div class=\"item_wrapper\">\\n        <div class=\"info_wrapper\">\\n         <div class=\"image\">\\n          <a href=\"/movie/21057\">\\n           <img alt=\"Ocean Waves\" class=\"poster lazyload fade\" data-sizes=\"auto\" data-src=\"https://image.tmdb.org/t/p/w185_and_h278_bestv2/wrb9I8zOVQ4Ij9dc66l3tYbjE1N.jpg\" data-srcset=\"https://image.tmdb.org/t/p/w185_and_h278_bestv2/wrb9I8zOVQ4Ij9dc66l3tYbjE1N.jpg 1x, https://image.tmdb.org/t/p/w370_and_h556_bestv2/wrb9I8zOVQ4Ij9dc66l3tYbjE1N.jpg 2x\"/>\\n          </a>\\n         </div>\\n         <div class=\"info_strip\">\\n          <div class=\"number\">\\n           <span>\\n            16\\n           </span>\\n          </div>\\n          <div class=\"meta buttons\">\\n           <a class=\"favourite no_click\" href=\"#\" title=\"Login to add this movie to your favorite list\">\\n            <span class=\"glyphicons glyphicons-heart favourite list_action\" data-media-type=\"movie\" id=\"favourite_4bc8c20f017a3c122d07ecf9\">\\n            </span>\\n           </a>\\n           <a class=\"watchlist no_click\" href=\"#\" title=\"Login to add this movie to your watchlist\">\\n            <span class=\"glyphicons glyphicons-bookmark watchlist list_action\" data-media-type=\"movie\" id=\"watchlist_4bc8c20f017a3c122d07ecf9\">\\n            </span>\\n           </a>\\n           <a href=\"#\">\\n            <span class=\"glyphicons glyphicons-star rating\" id=\"rating_4bc8c20f017a3c122d07ecf9\">\\n            </span>\\n            <span class=\"rating\">\\n             6.4\\n            </span>\\n           </a>\\n          </div>\\n         </div>\\n        </div>\\n       </div>\\n      </li>\\n      <li class=\"\" id=\"4bc8b557017a3c122d060371\">\\n       <div class=\"item_wrapper\">\\n        <div class=\"info_wrapper\">\\n         <div class=\"image\">\\n          <a href=\"/movie/12429\">\\n           <img alt=\"Ponyo\" class=\"poster lazyload fade\" data-sizes=\"auto\" data-src=\"https://image.tmdb.org/t/p/w185_and_h278_bestv2/3s0mpSpLkI7cIhqWGrGbsiyvlsH.jpg\" data-srcset=\"https://image.tmdb.org/t/p/w185_and_h278_bestv2/3s0mpSpLkI7cIhqWGrGbsiyvlsH.jpg 1x, https://image.tmdb.org/t/p/w370_and_h556_bestv2/3s0mpSpLkI7cIhqWGrGbsiyvlsH.jpg 2x\"/>\\n          </a>\\n         </div>\\n         <div class=\"info_strip\">\\n          <div class=\"number\">\\n           <span>\\n            17\\n           </span>\\n          </div>\\n          <div class=\"meta buttons\">\\n           <a class=\"favourite no_click\" href=\"#\" title=\"Login to add this movie to your favorite list\">\\n            <span class=\"glyphicons glyphicons-heart favourite list_action\" data-media-type=\"movie\" id=\"favourite_4bc8b557017a3c122d060371\">\\n            </span>\\n           </a>\\n           <a class=\"watchlist no_click\" href=\"#\" title=\"Login to add this movie to your watchlist\">\\n            <span class=\"glyphicons glyphicons-bookmark watchlist list_action\" data-media-type=\"movie\" id=\"watchlist_4bc8b557017a3c122d060371\">\\n            </span>\\n           </a>\\n           <a href=\"#\">\\n            <span class=\"glyphicons glyphicons-star rating\" id=\"rating_4bc8b557017a3c122d060371\">\\n            </span>\\n            <span class=\"rating\">\\n             7.7\\n            </span>\\n           </a>\\n          </div>\\n         </div>\\n        </div>\\n       </div>\\n      </li>\\n      <li class=\"\" id=\"4d0c85fd5e73d6370a0005ae\">\\n       <div class=\"item_wrapper\">\\n        <div class=\"info_wrapper\">\\n         <div class=\"image\">\\n          <a href=\"/movie/51739\">\\n           <img alt=\"The Secret World of Arrietty\" class=\"poster lazyload fade\" data-sizes=\"auto\" data-src=\"https://image.tmdb.org/t/p/w185_and_h278_bestv2/A4w9oSNQUwtkaucy3K7LbSngKrk.jpg\" data-srcset=\"https://image.tmdb.org/t/p/w185_and_h278_bestv2/A4w9oSNQUwtkaucy3K7LbSngKrk.jpg 1x, https://image.tmdb.org/t/p/w370_and_h556_bestv2/A4w9oSNQUwtkaucy3K7LbSngKrk.jpg 2x\"/>\\n          </a>\\n         </div>\\n         <div class=\"info_strip\">\\n          <div class=\"number\">\\n           <span>\\n            18\\n           </span>\\n          </div>\\n          <div class=\"meta buttons\">\\n           <a class=\"favourite no_click\" href=\"#\" title=\"Login to add this movie to your favorite list\">\\n            <span class=\"glyphicons glyphicons-heart favourite list_action\" data-media-type=\"movie\" id=\"favourite_4d0c85fd5e73d6370a0005ae\">\\n            </span>\\n           </a>\\n           <a class=\"watchlist no_click\" href=\"#\" title=\"Login to add this movie to your watchlist\">\\n            <span class=\"glyphicons glyphicons-bookmark watchlist list_action\" data-media-type=\"movie\" id=\"watchlist_4d0c85fd5e73d6370a0005ae\">\\n            </span>\\n           </a>\\n           <a href=\"#\">\\n            <span class=\"glyphicons glyphicons-star rating\" id=\"rating_4d0c85fd5e73d6370a0005ae\">\\n            </span>\\n            <span class=\"rating\">\\n             7.5\\n            </span>\\n           </a>\\n          </div>\\n         </div>\\n        </div>\\n       </div>\\n      </li>\\n      <li class=\"\" id=\"4f0b7a6319c2950c0600004e\">\\n       <div class=\"item_wrapper\">\\n        <div class=\"info_wrapper\">\\n         <div class=\"image\">\\n          <a href=\"/movie/83389\">\\n           <img alt=\"From Up on Poppy Hill\" class=\"poster lazyload fade\" data-sizes=\"auto\" data-src=\"https://image.tmdb.org/t/p/w185_and_h278_bestv2/mVlosCi4Kckj1iXACJdpSrA9alR.jpg\" data-srcset=\"https://image.tmdb.org/t/p/w185_and_h278_bestv2/mVlosCi4Kckj1iXACJdpSrA9alR.jpg 1x, https://image.tmdb.org/t/p/w370_and_h556_bestv2/mVlosCi4Kckj1iXACJdpSrA9alR.jpg 2x\"/>\\n          </a>\\n         </div>\\n         <div class=\"info_strip\">\\n          <div class=\"number\">\\n           <span>\\n            19\\n           </span>\\n          </div>\\n          <div class=\"meta buttons\">\\n           <a class=\"favourite no_click\" href=\"#\" title=\"Login to add this movie to your favorite list\">\\n            <span class=\"glyphicons glyphicons-heart favourite list_action\" data-media-type=\"movie\" id=\"favourite_4f0b7a6319c2950c0600004e\">\\n            </span>\\n           </a>\\n           <a class=\"watchlist no_click\" href=\"#\" title=\"Login to add this movie to your watchlist\">\\n            <span class=\"glyphicons glyphicons-bookmark watchlist list_action\" data-media-type=\"movie\" id=\"watchlist_4f0b7a6319c2950c0600004e\">\\n            </span>\\n           </a>\\n           <a href=\"#\">\\n            <span class=\"glyphicons glyphicons-star rating\" id=\"rating_4f0b7a6319c2950c0600004e\">\\n            </span>\\n            <span class=\"rating\">\\n             7.6\\n            </span>\\n           </a>\\n          </div>\\n         </div>\\n        </div>\\n       </div>\\n      </li>\\n      <li class=\"\" id=\"50c9d5e719c29573b1135846\">\\n       <div class=\"item_wrapper\">\\n        <div class=\"info_wrapper\">\\n         <div class=\"image\">\\n          <a href=\"/movie/149870\">\\n           <img alt=\"The Wind Rises\" class=\"poster lazyload fade\" data-sizes=\"auto\" data-src=\"https://image.tmdb.org/t/p/w185_and_h278_bestv2/3OTcCyf7QbGdVxsS8GLtaSsTZtP.jpg\" data-srcset=\"https://image.tmdb.org/t/p/w185_and_h278_bestv2/3OTcCyf7QbGdVxsS8GLtaSsTZtP.jpg 1x, https://image.tmdb.org/t/p/w370_and_h556_bestv2/3OTcCyf7QbGdVxsS8GLtaSsTZtP.jpg 2x\"/>\\n          </a>\\n         </div>\\n         <div class=\"info_strip\">\\n          <div class=\"number\">\\n           <span>\\n            20\\n           </span>\\n          </div>\\n          <div class=\"meta buttons\">\\n           <a class=\"favourite no_click\" href=\"#\" title=\"Login to add this movie to your favorite list\">\\n            <span class=\"glyphicons glyphicons-heart favourite list_action\" data-media-type=\"movie\" id=\"favourite_50c9d5e719c29573b1135846\">\\n            </span>\\n           </a>\\n           <a class=\"watchlist no_click\" href=\"#\" title=\"Login to add this movie to your watchlist\">\\n            <span class=\"glyphicons glyphicons-bookmark watchlist list_action\" data-media-type=\"movie\" id=\"watchlist_50c9d5e719c29573b1135846\">\\n            </span>\\n           </a>\\n           <a href=\"#\">\\n            <span class=\"glyphicons glyphicons-star rating\" id=\"rating_50c9d5e719c29573b1135846\">\\n            </span>\\n            <span class=\"rating\">\\n             7.8\\n            </span>\\n           </a>\\n          </div>\\n         </div>\\n        </div>\\n       </div>\\n      </li>\\n      <li class=\"filler\">\\n      </li>\\n      <li class=\"filler\">\\n      </li>\\n      <li class=\"filler\">\\n      </li>\\n      <li class=\"filler\">\\n      </li>\\n      <li class=\"filler\">\\n      </li>\\n     </ul>\\n     <ul class=\"lazy list_results\" data-loader=\"getPage\" data-page=\"2\" id=\"list_page_2\">\\n      <li class=\"filler\">\\n      </li>\\n      <li class=\"filler\">\\n      </li>\\n      <li class=\"filler\">\\n      </li>\\n      <li class=\"filler\">\\n      </li>\\n      <li class=\"filler\">\\n      </li>\\n     </ul>\\n     <div class=\"end_of_the_line\">\\n      <div class=\"button\">\\n       <p>\\n        <a class=\"button rounded\" href=\"/login\">\\n         Login to create your own list!\\n        </a>\\n       </p>\\n      </div>\\n     </div>\\n     <div class=\"pagination\">\\n      <p class=\"left\">\\n       Currently on page: 1 of 2\\n       <span class=\"total_results grey\">\\n        (22 results)\\n       </span>\\n      </p>\\n      <p class=\"right pagination\">\\n       <a class=\"next_page\" href=\"/list/4309?page=2&amp;sort_by=\">\\n        <span class=\"glyphicons glyphicons-circle-arrow-right x1\">\\n        </span>\\n       </a>\\n      </p>\\n      <div class=\"clear\">\\n      </div>\\n     </div>\\n    </div>\\n   </main>\\n   <div class=\"hide\" id=\"share_window\">\\n    <section class=\"main_content content\" style=\"padding: 0;\">\\n     <form class=\"k-form\">\\n      <fieldset>\\n       <label class=\"k-form-field\" for=\"short_url\">\\n        <span>\\n         <span class=\"glyphicons glyphicons-link x1\">\\n         </span>\\n         URL\\n        </span>\\n        <input class=\"k-textbox\" name=\"short_url\" onclick=\"this.select()\" type=\"text\" value=\"https://www.themoviedb.org/list/4309\"/>\\n       </label>\\n      </fieldset>\\n     </form>\\n     <p style=\"margin-top: 16px; margin-bottom: 4px;\">\\n      By\\n      <a href=\"/account/signup\">\\n       signing up\\n      </a>\\n      for an account on TMDb, you can post directly to Twitter and Facebook.\\n     </p>\\n    </section>\\n    <script charset=\"utf-8\" type=\"text/javascript\">\\n     $(document).ready(function(){\\n\\n    $(\\'#service_select\\').on(\\'change\\', function(e){\\n      selected_item = $(this).val();\\n      $(\\'#\\' + selected_item + \\'_share\\').removeClass(\\'hide\\');\\n      $(\"#share_window\").data(\"kendoWindow\").center();\\n\\n      if (selected_item == \\'twitter\\') {\\n        $(\\'#facebook_share\\').addClass(\\'hide\\');\\n      }\\n\\n      if (selected_item == \\'facebook\\') {\\n        $(\\'#twitter_share\\').addClass(\\'hide\\');\\n      }\\n    });\\n\\n    $(\\'input.share.submit\\').on(\\'click\\', function(e) {\\n      e.preventDefault();\\n      var selected_submit_button = $(this);\\n      selected_submit_button.prop(\\'disabled\\', true);\\n\\n      if ($(this).hasClass(\\'twitter\\')) {\\n        var selected_service = \\'twitter\\';\\n      } else if ($(this).hasClass(\\'facebook\\')) {\\n        var selected_service = \\'facebook\\';\\n      }\\n\\n      $.ajax({\\n        url: \\'/share/\\' + selected_service,\\n        type: \\'POST\\',\\n        data: $(\\'#\\' + selected_service + \\'_form\\').serialize()\\n      }).fail(function() {\\n        showError(\\'There was a problem.\\');\\n        selected_submit_button.prop(\\'disabled\\', false);\\n      }).done(function(response) {\\n        selected_submit_button.prop(\\'disabled\\', false);\\n\\n        if (response.failure) {\\n          showError(\\'There was a problem sharing your message.\\');\\n        }\\n\\n        if (response.success) {\\n          showSuccess(\\'Your message has successfully been shared.\\');\\n          $(\\'#share_window\\').data(\"kendoWindow\").close();\\n        }\\n      });\\n    });\\n\\n  });\\n    </script>\\n   </div>\\n   <div class=\"hide\" id=\"list_report_window\">\\n    <p style=\"margin: 0 0 2px 0;\">\\n     You need to be logged in to continue. Click\\n     <a href=\"/login\">\\n      here\\n     </a>\\n     to login or\\n     <a href=\"/account/signup\">\\n      here\\n     </a>\\n     to sign up.\\n    </p>\\n   </div>\\n   <script>\\n    $(document).ready(function(){\\n    $(\\'#share\\').on(\\'click\\', function(e){\\n      e.preventDefault();\\n\\n      $(\"#share_window\").kendoWindow({\\n        title: \\'Share The Studio Ghibli Collection\\',\\n        modal: true,\\n        draggable: false,\\n        resizable: false,\\n        width: 500,\\n        visible: false,\\n        pinned: true,\\n        animation: {\\n          open: {\\n            effects: \"fade:in\"\\n          },\\n          close: {\\n            effects: \"fade:out\"\\n          }\\n        },\\n        open: function() {\\n          $(\\'body\\').addClass(\\'blur\\');\\n        },\\n        close: function() {\\n          $(\\'body\\').removeClass(\\'blur\\');\\n        }\\n      }).data(\"kendoWindow\").center().open();\\n    });\\n\\n    $(\\'a.report\\').on(\\'click\\', function(e){\\n      e.preventDefault();\\n\\n      $(\\'#\\' + $(this).attr(\\'window\\') + \\'_report_window\\').kendoWindow({\\n        title: \\'Report an Issue\\',\\n        modal: true,\\n        draggable: false,\\n        resizable: false,\\n        width: 600,\\n        visible: false,\\n        pinned: true,\\n        animation: {\\n          open: {\\n            effects: \"fade:in\"\\n          },\\n          close: {\\n            effects: \"fade:out\"\\n          }\\n        },\\n        open: function() {\\n          $(\\'body\\').addClass(\\'blur\\');\\n        },\\n        close: function() {\\n          $(\\'body\\').removeClass(\\'blur\\');\\n        }\\n      }).data(\"kendoWindow\").center().open();\\n    });\\n\\n  });\\n   </script>\\n  </div>\\n  <!-- page_wrap opened in html_head -->\\n  <style>\\n   footer {\\n        \\n          background-image: url(\\'https://www.themoviedb.org/assets/2/v4/footers_v2/ToyStory-8a52629a740122f599c3d21599897a219ecb936efd6131b0a4667103ffff6375.jpg\\'), radial-gradient(at 30% top, rgba(7, 64, 52, 1) 0%, rgba(8, 28, 36, 1) 70%);\\n        \\n      }\\n  </style>\\n  <footer class=\"single_column list lazyload\">\\n   <nav>\\n    <div class=\"join\">\\n     <img alt=\"The Movie Database (TMDb)\" height=\"116\" src=\"https://www.themoviedb.org/assets/2/v4/logos/primary-green-d70eebe18a5eb5b166d5c1ef0796715b8d1a2cbc698f96d311d62f894ae87085.svg\" width=\"130\"/>\\n     <a class=\"rounded\" href=\"/account/signup\">\\n      Join the Community\\n     </a>\\n    </div>\\n    <div>\\n     <h3>\\n      The Basics\\n     </h3>\\n     <ul>\\n      <li>\\n       <a href=\"/about\">\\n        About TMDb\\n       </a>\\n      </li>\\n      <li>\\n       <a href=\"/about/staying-in-touch\">\\n        Contact Us\\n       </a>\\n      </li>\\n      <li>\\n       <a href=\"/talk\">\\n        Support Forums\\n       </a>\\n      </li>\\n      <li>\\n       <a href=\"/documentation/api\">\\n        API\\n       </a>\\n      </li>\\n      <li>\\n       <a href=\"https://blog.themoviedb.org/\" rel=\"noopener\" target=\"_blank\">\\n        Blog\\n       </a>\\n      </li>\\n     </ul>\\n    </div>\\n    <div>\\n     <h3>\\n      Get Involved\\n     </h3>\\n     <ul>\\n      <li>\\n       <a href=\"/bible\">\\n        <span class=\"glyphicons glyphicons-asterisk\">\\n        </span>\\n        Contribution Bible\\n       </a>\\n      </li>\\n      <li>\\n       <a href=\"/apps\">\\n        3rd Party Applications\\n       </a>\\n      </li>\\n      <li>\\n       <a href=\"/movie/new\">\\n        Add New Movie\\n       </a>\\n      </li>\\n      <li>\\n       <a href=\"/tv/new\">\\n        Add New TV Show\\n       </a>\\n      </li>\\n     </ul>\\n    </div>\\n    <div>\\n     <h3>\\n      Community\\n     </h3>\\n     <ul>\\n      <li>\\n       <a href=\"/documentation/community/guidelines\">\\n        Guidelines\\n       </a>\\n      </li>\\n      <li>\\n       <a href=\"/leaderboard\">\\n        Leaderboard\\n       </a>\\n      </li>\\n      <li>\\n       <a href=\"/discuss\">\\n        Forums\\n       </a>\\n      </li>\\n      <li>\\n       <a href=\"https://twitter.com/themoviedb\" rel=\"noopener\" target=\"_blank\">\\n        Twitter\\n       </a>\\n      </li>\\n     </ul>\\n    </div>\\n    <div>\\n     <h3>\\n      Legal\\n     </h3>\\n     <ul>\\n      <li>\\n       <a href=\"/documentation/website/terms-of-use\">\\n        Terms of Use\\n       </a>\\n      </li>\\n      <li>\\n       <a href=\"/privacy-policy\">\\n        Privacy Policy\\n       </a>\\n      </li>\\n     </ul>\\n    </div>\\n   </nav>\\n  </footer>\\n  <script>\\n   function appendStyle(styles) {\\n        var css = document.createElement(\\'style\\');\\n        css.type = \\'text/css\\';\\n\\n        if (css.styleSheet) {\\n          css.styleSheet.cssText = styles;\\n        } else {\\n          css.appendChild(document.createTextNode(styles));\\n        }\\n\\n        document.getElementsByTagName(\"head\")[0].appendChild(css);\\n      }\\n  </script>\\n  <div class=\"hide\" id=\"settings_tooltip\">\\n   <div class=\"settings_content\">\\n    <div class=\"group no_pad\">\\n     <p>\\n      <a href=\"/login\">\\n       Login\\n      </a>\\n     </p>\\n    </div>\\n    <div class=\"group\">\\n     <p>\\n      <a href=\"/account/signup\">\\n       Sign Up\\n      </a>\\n     </p>\\n    </div>\\n   </div>\\n  </div>\\n  <div class=\"hide\" id=\"keyboard_shortcuts_popup\">\\n   <div class=\"content keyboard_shortcuts\">\\n    <div class=\"column\">\\n     <h3>\\n      Global\\n     </h3>\\n     <div>\\n      <span>\\n       s\\n      </span>\\n      focus the search bar\\n     </div>\\n     <div>\\n      <span>\\n       p\\n      </span>\\n      open profile menu\\n     </div>\\n     <div>\\n      <span>\\n       esc\\n      </span>\\n      close an open window\\n     </div>\\n     <div>\\n      <span>\\n       ?\\n      </span>\\n      open keyboard shortcut window\\n     </div>\\n     <h3>\\n      On media pages\\n     </h3>\\n     <div>\\n      <span>\\n       b\\n      </span>\\n      go back (or to parent when applicable)\\n     </div>\\n     <div>\\n      <span>\\n       e\\n      </span>\\n      go to edit page\\n     </div>\\n     <h3>\\n      On TV season pages\\n     </h3>\\n     <div>\\n      <span>\\n       →\\n      </span>\\n      (right arrow) go to next season\\n     </div>\\n     <div>\\n      <span>\\n       ←\\n      </span>\\n      (left arrow) go to previous season\\n     </div>\\n     <h3>\\n      On TV episode pages\\n     </h3>\\n     <div>\\n      <span>\\n       →\\n      </span>\\n      (right arrow) go to next episode\\n     </div>\\n     <div>\\n      <span>\\n       ←\\n      </span>\\n      (left arrow) go to previous episode\\n     </div>\\n     <h3>\\n      On all image pages\\n     </h3>\\n     <div>\\n      <span>\\n       a\\n      </span>\\n      open add image window\\n     </div>\\n    </div>\\n    <div class=\"column\">\\n     <h3>\\n      On all edit pages\\n     </h3>\\n     <div>\\n      <span>\\n       t\\n      </span>\\n      open translation selector\\n     </div>\\n     <div>\\n      <span>\\n       ctrl\\n      </span>\\n      +\\n      <span>\\n       s\\n      </span>\\n      submit form\\n     </div>\\n     <h3>\\n      On discussion pages\\n     </h3>\\n     <div>\\n      <span>\\n       n\\n      </span>\\n      create new discussion\\n     </div>\\n     <div>\\n      <span>\\n       w\\n      </span>\\n      toggle watching status\\n     </div>\\n     <div>\\n      <span>\\n       p\\n      </span>\\n      toggle public/private\\n     </div>\\n     <div>\\n      <span>\\n       c\\n      </span>\\n      toggle close/open\\n     </div>\\n     <div>\\n      <span>\\n       a\\n      </span>\\n      open activity\\n     </div>\\n     <div>\\n      <span>\\n       r\\n      </span>\\n      reply to discussion\\n     </div>\\n     <div>\\n      <span>\\n       l\\n      </span>\\n      go to last reply\\n     </div>\\n     <div>\\n      <span>\\n       ctrl\\n      </span>\\n      +\\n      <span>\\n       enter\\n      </span>\\n      submit your message\\n     </div>\\n     <div>\\n      <span>\\n       →\\n      </span>\\n      (right arrow) next page\\n     </div>\\n     <div>\\n      <span>\\n       ←\\n      </span>\\n      (left arrow) previous page\\n     </div>\\n    </div>\\n   </div>\\n  </div>\\n  <div class=\"hide\">\\n   <div id=\"video_popup\">\\n   </div>\\n  </div>\\n  <script src=\"https://www.themoviedb.org/assets/2/progressive.min-b7700026dd68db00344c999ba373d235771d76f758310dc3a48a20ff94beab11.js\">\\n  </script>\\n  <script src=\"https://www.themoviedb.org/assets/2/footer-045190bee931e60ab4cf194dccc581f255f94e156ef6392562d74017b682b93a.js\">\\n  </script>\\n  <script src=\"https://www.themoviedb.org/assets/2/timeago/locales/jquery.timeago.en-US-f9d144e55407ca11f35de7a0d44b0d54ec1ffc6c4039dffd5a11c0a12e6a9482.js\">\\n  </script>\\n  <script src=\"https://www.themoviedb.org/assets/2/kendo-2018.3.1017/cultures/kendo.culture.en-US.min-16651d326ca6eba9d5643ae6b5f537ae83ee3d434b48f4f74200e7fd446a255d.js\">\\n  </script>\\n  <script charset=\"utf-8\" type=\"text/javascript\">\\n   kendo.culture(\"en-US\");\\n\\n      $(\\'#cookie_notice a.accept\\').on(\\'click\\', function(e) {\\n        e.preventDefault();\\n        var set_cookie = Cookies.set(\\'cookie_policy\\', \\'true\\', { domain: \\'.www.themoviedb.org\\', expires: 15551999 });\\n        $(\\'#cookie_notice\\').fadeOut(\\'fast\\');\\n      });\\n\\n      function convertEmoji() {\\n        $(\".convert_emoji\").each(function() {\\n          var original = $(this).html();\\n          var converted = emojione.shortnameToImage(original);\\n          $(this).html(converted);\\n        });\\n      }\\n\\n      emojione.imageType = \\'svg\\';\\n      emojione.imagePathSVG = \\'/emojis/static_cache/v2/\\';\\n\\n      $(document).ready(function() {\\n        jQuery.timeago.settings.allowFuture = true;\\n        $(\"time.timeago\").timeago();\\n\\n        convertEmoji();\\n\\n        $(\"section.inner_content ul.shortcut_bar li\").each(function(index) {\\n          $(this).css({ \\'z-index\\': index + 2 });\\n\\n          if ( menu = $(this).attr(\\'data-sub-menu\\') ) {\\n            $(\\'#\\' + menu).css({ \\'z-index\\': index + 2 });\\n          }\\n        });\\n\\n        function getMenuItem(object) {\\n          var currentItem = $(object);\\n          var menu = $(\\'#\\' + currentItem.attr(\\'data-sub-menu\\'));\\n          var position = currentItem.offset();\\n\\n          return { currentItem: currentItem, menu: menu, position: position }\\n        }\\n\\n        \\n          var entered = false;\\n\\n          $(\\'section.inner_content ul.shortcut_bar li.no_hover\\').on({\\n            mouseenter: function(e) {\\n              $(\\'section.inner_content ul.shortcut_bar li.no_hover\\').removeClass(\\'open\\');\\n              $(\\'section.inner_content div.inner_sub_menu\\').removeClass(\\'visible\\');\\n\\n              var menu_item = getMenuItem(this);\\n              var nav_item = $(this);\\n              var spacer = 0;\\n              if ( $(\\'#media_v4\\').hasClass(\\'person_v4 header_medium\\') ) {\\n                spacer = 553;\\n              }\\n\\n              nav_item.toggleClass(\\'open\\');\\n              menu_item.menu.find(\\'li.primary\\').height(menu_item.currentItem.parent().height())\\n              menu_item.menu.toggleClass(\\'visible\\').css({ top: (menu_item.position.top - spacer), left: (menu_item.position.left - 10), \\'min-width\\': (menu_item.currentItem.width() + 10) });\\n\\n              menu_item.menu.on(\\'mouseleave\\', function() {\\n                nav_item.removeClass(\\'open\\');\\n                menu_item.menu.removeClass(\\'visible\\');\\n              });\\n            }\\n          });\\n        \\n\\n        var hover_tooltip = $(\\'li.user a.no_click.tooltip_hover\\').kendoTooltip({\\n          position: \\'bottom\\',\\n          show: function(e) {\\n            $(\"div.k-tooltip-button\").addClass(\\'hide\\');\\n            this.popup.element.addClass(\"tmdb_theme_white\");\\n            this.element.removeClass(\\'keyboard\\');\\n          }\\n        }).data(\"kendoTooltip\");\\n\\n        $(\\'li.user a.no_click\\').kendoTooltip({\\n          autoHide: false,\\n          showOn: \\'click\\',\\n          width: 180,\\n          position: \\'bottom\\',\\n          content: function() {\\n            return $(\"#settings_tooltip\").html();\\n          },\\n          show: function(e) {\\n            hover_tooltip.hide();\\n            $(\"div.k-tooltip-button\").addClass(\\'hide\\');\\n            this.popup.element.addClass(\"tmdb_theme_white no_pad\");\\n\\n            if (this.element.hasClass(\\'keyboard\\')) {\\n              this.popup.element.find(\\'p a\\')[0].focus();\\n            }\\n          }\\n        });\\n\\n        $(\\'li.translate\\').kendoTooltip({\\n          autoHide: false,\\n          content: {\\n            url: \"/translation_popup?language=en-US&media_type=&media_id=&referral=%2Flist%2F4309\",\\n            cache: true,\\n            headers: {\\n              \\'Accept-Language\\': \\'en-US\\',\\n              \\'Content-Type\\': \\'text/html;charset=utf-8\\'\\n            }\\n          },\\n          showOn: \\'click\\',\\n          width: 300,\\n          position: \\'bottom\\',\\n          show: function(e) {\\n            $(\"div.k-tooltip-button\").addClass(\\'hide\\');\\n            this.popup.element.addClass(\"min_100px_height\");\\n            this.popup.element.addClass(\"tmdb_theme_light\");\\n          }\\n        });\\n\\n        $(\\'li.new\\').kendoTooltip({\\n          autoHide: false,\\n          showOn: \\'click\\',\\n          width: 240,\\n          position: \\'bottom\\',\\n          content: function() {\\n            return $(\"div.new_buttons\");\\n          },\\n          show: function(e) {\\n            this.popup.element.addClass(\"tmdb_theme_light\");\\n            $(\"div.k-tooltip-button\").addClass(\\'hide\\');\\n            $(\"div.new_buttons\").toggleClass(\\'hide\\');\\n          },\\n          hide: function(e) {\\n            $(\"div.new_buttons\").toggleClass(\\'hide\\');\\n          }\\n        });\\n\\n        \\n\\n        $(\"body *\").on(\\'click\\', \\'a.no_click\\', function(e) {\\n          e.preventDefault();\\n        });\\n\\n        $(\"ul > li\").hover(function() {\\n          $(this).find(\"ul.sub_nav.hide\").toggle();\\n        });\\n\\n        \\n          $(\"header ul.primary li\").hover(function(e) {\\n            if ($(\\'header\\').hasClass(\\'normal\\')) {\\n              $(this).find(\"ul.hide\").toggle();\\n            }\\n          });\\n        \\n\\n        \\n          function init() {\\n            window.addEventListener(\\'scroll\\', function(e) {\\n              var distanceY = window.pageYOffset || document.documentElement.scrollTop,\\n                shrinkOn = 60,\\n                header = document.querySelector(\"header\");\\n              if (distanceY > shrinkOn) {\\n                $(\\'header\\').removeClass(\"normal\").removeClass(\"regular\").addClass(\"smaller\");\\n              } else {\\n                if ($(\\'header\\').hasClass(\"smaller\")) {\\n                  $(\\'header\\').addClass(\"normal\").addClass(\"regular\").removeClass(\"smaller\");\\n                }\\n              }\\n            });\\n          }\\n          window.onload = init();\\n        \\n\\n        showSuccess = function(message, title) {\\n          if (title === undefined) {\\n            title = \\'Success\\';\\n          }\\n\\n          showNotification({\\n            title: title,\\n            message: message\\n          }, \"success\");\\n        };\\n\\n        showError = function(message, title) {\\n          if (title === undefined) {\\n            title = \\'Error\\';\\n          }\\n\\n          showNotification({\\n            title: title,\\n            message: message\\n          }, \"error\");\\n        };\\n\\n        var showNotification = (function() {\\n          var notification = $(\"span#notification\").kendoNotification({\\n            stacking: \"down\",\\n            \\n              position: {\\n                top: 20,\\n                left: null,\\n                bottom: null,\\n                right: 20\\n              },\\n            \\n            autoHideAfter: 5000,\\n            show: function(e) {\\n              e.element.parent().css({\\n                zIndex: 99999\\n              });\\n            },\\n            templates: [{\\n              type: \"error\",\\n              template: $(\"#errorTemplate\").html()\\n            },{\\n              type: \"success\",\\n              template: $(\"#successTemplate\").html()\\n            }]\\n          }).data(\"kendoNotification\");\\n\\n          return function(msg, type) {\\n            notification.show(msg, type);\\n          };\\n        })();\\n\\n        var keyboard_shortcut_popup = $(\\'#keyboard_shortcuts_popup div.content\\').kendoWindow({\\n          title: \\'Keyboard Shortcuts\\',\\n          actions: [ \"Close\" ],\\n          modal: true,\\n          draggable: false,\\n          resizable: false,\\n          visible: false,\\n          pinned: true,\\n          animation: {\\n            open: {\\n              effects: \"fade:in\"\\n            },\\n            close: {\\n              effects: \"fade:out\"\\n            }\\n          },\\n          open: function() {\\n            $(\\'body\\').addClass(\\'blur\\');\\n          },\\n          close: function() {\\n            $(\\'body\\').removeClass(\\'blur\\');\\n          }\\n        }).data(\"kendoWindow\").center();\\n\\n        $(\\'#keyboard_shortcuts\\').on(\\'click\\', function() {\\n          keyboard_shortcut_popup.open();\\n        });\\n\\n        var seach_redirect_template = \"/search{0}?query={1}&language=en-US\";\\n        var selected_item = null;\\n\\n        function processSelectedItem(e) {\\n          if (selected_item) {\\n            return\\n          } else {\\n            if (e) {\\n              var dataItem = this.dataItem(e.item.index());\\n              switch(dataItem.media_type) {\\n                case \\'movie\\':\\n                  selected_item = kendo.format(seach_redirect_template, \\'/movie\\', encodeURIComponent(dataItem.title));\\n                  break;\\n                case \\'tv\\':\\n                  selected_item = kendo.format(seach_redirect_template, \\'/tv\\', encodeURIComponent(dataItem.name));\\n                  break;\\n                case \\'person\\':\\n                  selected_item = kendo.format(seach_redirect_template, \\'/person\\', encodeURIComponent(dataItem.name));\\n                  break;\\n                default:\\n                  selected_item = kendo.format(seach_redirect_template, \\'\\', encodeURIComponent(dataItem));\\n              }\\n            } else {\\n              selected_item = kendo.format(seach_redirect_template, \\'\\', encodeURIComponent($(\"#search_v4\").data(\"kendoAutoComplete\").value()));\\n            }\\n          }\\n\\n          window.location = selected_item;\\n        }\\n\\n        $(\"#search_v4\").kendoAutoComplete({\\n          highlightFirst: false,\\n          animation: false,\\n          minLength: 1,\\n          dataTextField: \"title\",\\n          template: kendo.template($(\"#slim_multi_search_template\").html()),\\n          noDataTemplate: $(\"#search_no_data_template\").html(),\\n          ignoreCase: false,\\n          dataSource: {\\n            type: \"json\",\\n            serverFiltering: true,\\n            transport: {\\n              read: \\'/search/trending?language=en-US\\',\\n              parameterMap: function() {\\n                return { query: $(\"#search_v4\").data(\"kendoAutoComplete\").value() };\\n              }\\n            },\\n            schema: {\\n              data: \"results\"\\n            }\\n          },\\n          popup: {\\n            appendTo: $(\"header\")\\n          },\\n          filtering: function(e) {\\n            var filter = e.filter;\\n            if (filter.value == \\'\\') {\\n              if( ($(\\'#search_v4-list #trending_search_header_template\\').length) == 0 ) {\\n                $(\\'#search_v4_listbox\\').empty();\\n                $(\\'#search_v4-list\\').prepend($(\"#search_v4_headerTemplate\").html());\\n              }\\n            } else {\\n              $(\"#trending_search_header_template\").remove();\\n            }\\n          },\\n          select: processSelectedItem\\n        }).data(\"kendoAutoComplete\");\\n\\n        $(\\'header #search_form\\').submit(function() {\\n          return false;\\n        });\\n\\n        $(\\'#search_v4\\').keydown(function(event) {\\n          if(event.keyCode == 13) {\\n            processSelectedItem();\\n          }\\n        });\\n\\n        var autocompleteInput = $(\\'section.search .k-autocomplete input\\');\\n        autocompleteInput.on(\\'focus\\', function (e) {\\n          var value = autocompleteInput.val();\\n          if (value == null || value == \\'\\') {\\n            $(\"#search_v4\").data(\"kendoAutoComplete\").search(\\'\\');\\n          }\\n        });\\n\\n        $(\\'header span.k-i-close[title=\"clear\"]\\').on(\\'click\\', function(e) {\\n          $(\\'#search_v4\\').data(\"kendoAutoComplete\").focus();\\n        });\\n\\n        \\n\\n        public_media_type_map = { \\'movie\\': \\'Movie\\', \\'tv\\': \\'TV Show\\', \\'person\\': \\'Person\\' };\\n\\n        \\n\\n        $(document).on(\\'keydown\\', null, \\'b\\', function() {\\n          if ( $(\\'a.keyboard_s.parent\\').length ) {\\n            $(\\'a.keyboard_s.parent\\')[0].click();\\n          }\\n        });\\n\\n        $(document).on(\\'keyup\\', null, \\'s\\', function() {\\n          if ( $(\\'#search_v4\\').length ) {\\n            $(\"#search_v4\").data(\"kendoAutoComplete\").focus(\\'\\').value(\\'\\');\\n          }\\n        });\\n\\n        $(document).on(\\'keyup\\', null, \\'shift+/\\', function() {\\n          keyboard_shortcut_popup.open();\\n        });\\n\\n        $(document).on(\\'keydown\\', null, \\'left\\', function() {\\n          if ( $(\\'span.previous a.keyboard_s\\').length ) {\\n            $(\\'span.previous a.keyboard_s\\')[0].click();\\n          }\\n        });\\n\\n        $(document).on(\\'keydown\\', null, \\'right\\', function() {\\n          if ( $(\\'span.next a.keyboard_s\\').length ) {\\n            $(\\'span.next a.keyboard_s\\')[0].click();\\n          }\\n        });\\n\\n      });\\n  </script>\\n  <script id=\"person_template_with_known_for\" type=\"text/x-kendo-tmpl\">\\n   <div class=\"item profile list_item known_for\">\\n        <div class=\"image_content profile\">\\n          # if (data.profile_path) { #\\n            <img class=\"lazyload fade\" data-src=\"https://image.tmdb.org/t/p/w66_and_h66_face${data.profile_path}\" alt=\"${data.name}\" width=\"45\" height=\"45\" data-srcset=\"https://image.tmdb.org/t/p/w66_and_h66_face${data.profile_path} 1x, https://image.tmdb.org/t/p/w132_and_h132_face${data.profile_path} 2x\">\\n          # } else { #\\n            <div class=\"no_image_holder w45_and_h45 profile\"></div>\\n          # } #\\n        </div>\\n\\n        <div class=\"content\">\\n          <p class=\"name\">${data.name}</p>\\n          # if (data.known_for) { #\\n            <p class=\"sub\">${data.known_for_department} &bull; ${data.known_for}</p>\\n          # } else { #\\n            <p class=\"sub\">No known credits.</p>\\n          # } #\\n        </div>\\n        <div class=\"clear\"></div>\\n      </div>\\n  </script>\\n  <script id=\"person_result_template\" type=\"text/x-kendo-tmpl\">\\n   <div class=\"ac_item profile list_item known_for\">\\n        <div class=\"image_content profile\">\\n          # if (data.profile_path) { #\\n            <img class=\"lazyload fade\" data-src=\"https://image.tmdb.org/t/p/w66_and_h66_face${data.profile_path}\" alt=\"${data.name}\" width=\"45\" height=\"45\" data-srcset=\"https://image.tmdb.org/t/p/w66_and_h66_face${data.profile_path} 1x, https://image.tmdb.org/t/p/w132_and_h132_bestv2${data.profile_path} 2x\">\\n          # } else { #\\n            <div class=\"no_image_holder w45_and_h45 profile\"></div>\\n          # } #\\n        </div>\\n\\n        <div class=\"content\">\\n          <p class=\"name\">${data.name}</p>\\n          # if (data.known_for) { #\\n            <p class=\"sub\">\\n              # for (var i = 0; i < data.known_for.length; i++) { #\\n              <span class=\"comma\">#= data.known_for[i].title ? data.known_for[i].title : data.known_for[i].name #</span>\\n              # } #\\n            </p>\\n          # } else { #\\n            <p class=\"sub\">No known credits.</p>\\n          # } #\\n        </div>\\n\\n        <p><span class=\"media_type person\">#= public_media_type_map[data.media_type] #</span></p>\\n      </div>\\n  </script>\\n  <script id=\"movie_result_template\" type=\"text/x-kendo-tmpl\">\\n   <div class=\"ac_item poster list_item\">\\n        <div class=\"image_content poster\">\\n          # if (data.poster_path) { #\\n            <img class=\"lazyload fade\" data-src=\"https://image.tmdb.org/t/p/w45_and_h67_bestv2${data.poster_path}\" alt=\"${data.title}\" width=\"45\" height=\"67\" data-srcset=\"https://image.tmdb.org/t/p/w45_and_h67_bestv2${data.poster_path} 1x, https://image.tmdb.org/t/p/w90_and_h134_bestv2${data.poster_path} 2x\">\\n          # } else { #\\n            <div class=\"no_image_holder w45_and_h67\"></div>\\n          # } #\\n        </div>\\n\\n        <div class=\"content\">\\n          <p class=\"name\">${data.title}</p>\\n          <p class=\"sub\">\\n            # if (data.original_title !== data.title) { #\\n              <span class=\"comma\"><span class=\"original_title\">#= data.original_title #</span></span>\\n            # } #\\n            # if (data.release_date) { #\\n              <span class=\"comma\"><span class=\"release_date\">#= data.release_date #</span></span>\\n            # } #\\n          </p>\\n        </div>\\n\\n        <p><span class=\"media_type movie\">#= public_media_type_map[data.media_type] #</span></p>\\n      </div>\\n  </script>\\n  <script id=\"tv_show_result_template\" type=\"text/x-kendo-tmpl\">\\n   <div class=\"ac_item poster list_item\">\\n        <div class=\"image_content poster\">\\n          # if (data.poster_path) { #\\n            <img class=\"lazyload fade\" data-src=\"https://image.tmdb.org/t/p/w45_and_h67_bestv2${data.poster_path}\" alt=\"${data.title}\" width=\"45\" height=\"67\" data-srcset=\"https://image.tmdb.org/t/p/w45_and_h67_bestv2${data.poster_path} 1x, https://image.tmdb.org/t/p/w90_and_h134_bestv2${data.poster_path} 2x\">\\n          # } else { #\\n            <div class=\"no_image_holder w45_and_h67\"></div>\\n          # } #\\n        </div>\\n\\n        <div class=\"content\">\\n          <p class=\"name\">${data.name}</p>\\n          <p class=\"sub\">\\n            # if (data.original_name !== data.name) { #\\n              <span class=\"comma\"><span class=\"original_title\">#= data.original_name #</span></span>\\n            # } #\\n            # if (data.first_air_date) { #\\n              <span class=\"comma\"><span class=\"release_date\">#= data.first_air_date #</span></span>\\n            # } #\\n          </p>\\n        </div>\\n\\n        <p><span class=\"media_type tv\">#= public_media_type_map[data.media_type] #</span></p>\\n      </div>\\n  </script>\\n  <script id=\"slim_movie_result_template\" type=\"text/x-kendo-tmpl\">\\n   <div class=\"ac_item poster list_item\">\\n        <div class=\"image_content poster\">\\n          # if (data.poster_path) { #\\n            <img class=\"lazyload fade\" data-src=\"https://image.tmdb.org/t/p/w45_and_h67_bestv2${data.poster_path}\" alt=\"${data.title}\" width=\"45\" height=\"67\" data-srcset=\"https://image.tmdb.org/t/p/w45_and_h67_bestv2${data.poster_path} 1x, https://image.tmdb.org/t/p/w90_and_h134_bestv2${data.poster_path} 2x\">\\n          # } else { #\\n            <div class=\"no_image_holder w45_and_h67\"></div>\\n          # } #\\n        </div>\\n\\n        <div class=\"content\">\\n          <p class=\"name\">${data.title}</p>\\n          <p class=\"sub\">\\n            # if (data.original_title !== data.title) { #\\n              <span class=\"comma\"><span class=\"original_title\">#= data.original_title #</span></span>\\n            # } #\\n            # if (data.release_date) { #\\n              <span class=\"comma\"><span class=\"release_date\">#= data.release_date #</span></span>\\n            # } #\\n          </p>\\n        </div>\\n\\n        <p><span class=\"media_type movie\">#= public_media_type_map[data.media_type] #</span></p>\\n      </div>\\n  </script>\\n  <script id=\"multi_search_template\" type=\"text/x-kendo-tmpl\">\\n   <div class=\"ac_results\">\\n        # if (data.media_type == \\'movie\\') { #\\n          #= kendo.render(kendo.template($(\"\\\\\\\\#movie_result_template\").html()), [data]) #\\n        # } else if (data.media_type == \\'tv\\') { #\\n          #= kendo.render(kendo.template($(\"\\\\\\\\#tv_show_result_template\").html()), [data]) #\\n        # } else if (data.media_type == \\'person\\') { #\\n          #= kendo.render(kendo.template($(\"\\\\\\\\#person_result_template\").html()), [data]) #\\n        # } #\\n      </div>\\n  </script>\\n  <script id=\"search_v4_headerTemplate\" type=\"text/x-kendo-template\">\\n   <div id=\"trending_search_header_template\" class=\"slim_search_results_header\">\\n        <div class=\"wrapper\">\\n          <h2>Trending Searches</h2>\\n        </div>\\n      </div>\\n  </script>\\n  <script id=\"search_no_data_template\" type=\"text/x-kendo-template\">\\n   <div class=\"slim_search_results_header no_data\">\\n        <div class=\"wrapper\">\\n          <h2>No Results</h2>\\n        </div>\\n      </div>\\n  </script>\\n  <script id=\"slim_multi_search_template\" type=\"text/x-kendo-tmpl\">\\n   # if (data.media_type == \\'movie\\') { #\\n        <div class=\"slim_search_results slim\">\\n          <div class=\"wrapper\">\\n            <div class=\"glyphicons glyphicons-film\"></div>\\n            <p>#= data.title # <span>in Movies</span></p>\\n          </div>\\n        </div>\\n      # } else if (data.media_type == \\'tv\\') { #\\n        <div class=\"slim_search_results slim\">\\n          <div class=\"wrapper\">\\n            <div class=\"glyphicons glyphicons-tv\"></div>\\n            <p>#= data.name # <span>in TV Shows</span></p>\\n          </div>\\n        </div>\\n      # } else if (data.media_type == \\'person\\') { #\\n        <div class=\"slim_search_results slim\">\\n          <div class=\"wrapper\">\\n            <div class=\"glyphicons glyphicons-user\"></div>\\n            <p>#= data.name # <span>in People</span></p>\\n          </div>\\n        </div>\\n      # } else { #\\n        <div class=\"slim_search_results slim\">\\n          <div class=\"wrapper\">\\n            <div class=\"glyphicons glyphicons-search\"></div>\\n            <p>#= data #</p>\\n          </div>\\n        </div>\\n      # } #\\n  </script>\\n  <script id=\"delete-confirmation\" type=\"text/x-kendo-template\">\\n   <section class=\"window_content\">\\n        <p class=\"delete-message\">Are you sure?</p>\\n\\n        <button class=\"delete-cancel k-button\">No</button>\\n        <button class=\"delete-confirm k-button\">Yes</button>\\n      </section>\\n  </script>\\n  <div id=\"dialog_window\">\\n  </div>\\n  <span class=\"hide\" id=\"notification\">\\n  </span>\\n  <script id=\"errorTemplate\" type=\"text/x-kendo-template\">\\n   <div class=\"notification error\">\\n        <span class=\"glyphicons glyphicons-exclamation-sign x1\"></span>\\n        <span class=\"left\">\\n          <h2>#= title #</h2>\\n          # if (message instanceof Array) { #\\n            <ul>\\n              # for (var i = 0; i < message.length; i++) { #\\n                <li>#= message[i] #</li>\\n              # } #\\n            </ul>\\n          # } else { #\\n            <p>#= message #</p>\\n          # } #\\n        </span>\\n        <div class=\"clear\"></div>\\n      </div>\\n  </script>\\n  <script id=\"successTemplate\" type=\"text/x-kendo-template\">\\n   <div class=\"notification success\">\\n        <span class=\"glyphicons glyphicons-ok x1\"></span>\\n        <span class=\"left\">\\n          <h2>#= title #</h2>\\n          <p>#= message #</p>\\n        </span>\\n        <div class=\"clear\"></div>\\n      </div>\\n  </script>\\n  <script type=\"application/ld+json\">\\n   {\\n        \"@context\": \"http://schema.org\",\\n        \"@type\": \"WebSite\",\\n        \"name\": \"The Movie Database\",\\n        \"alternateName\": \"TMDb\",\\n        \"url\": \"https://www.themoviedb.org\"\\n      }\\n  </script>\\n  <script type=\"application/ld+json\">\\n   {\\n         \"@context\": \"http://schema.org\",\\n         \"@type\": \"WebSite\",\\n         \"url\": \"https://www.themoviedb.org/\",\\n         \"potentialAction\": {\\n           \"@type\": \"SearchAction\",\\n           \"target\": \"https://www.themoviedb.org/search?query={search_term_string}\",\\n           \"query-input\": \"required name=search_term_string\"\\n         }\\n      }\\n  </script>\\n </body>\\n</html>'"
      ]
     },
     "execution_count": 201,
     "metadata": {},
     "output_type": "execute_result"
    }
   ],
   "source": [
    "bsObj.prettify()"
   ]
  },
  {
   "cell_type": "markdown",
   "metadata": {},
   "source": [
    "Pay attention that the list of the movies are wrapped in unordered list <ul> tag with id = \"list_page_1\". Let's extract movies with findAll(tag, attribute). Then retrieve a list of all <li> tags within <ul> tag "
   ]
  },
  {
   "cell_type": "code",
   "execution_count": 400,
   "metadata": {},
   "outputs": [
    {
     "name": "stdout",
     "output_type": "stream",
     "text": [
      "<li class=\"\" id=\"4bc88b44017a3c122d001496\">\n",
      "<div class=\"item_wrapper\">\n",
      "<div class=\"info_wrapper\">\n",
      "<div class=\"image\">\n",
      "<a href=\"/movie/81\">\n",
      "<img alt=\"Nausicaä of the Valley of the Wind\" class=\"poster lazyload fade\" data-sizes=\"auto\" data-src=\"https://image.tmdb.org/t/p/w185_and_h278_bestv2/hnYowHwLq0iUWriAHtiiCWsI2dP.jpg\" data-srcset=\"https://image.tmdb.org/t/p/w185_and_h278_bestv2/hnYowHwLq0iUWriAHtiiCWsI2dP.jpg 1x, https://image.tmdb.org/t/p/w370_and_h556_bestv2/hnYowHwLq0iUWriAHtiiCWsI2dP.jpg 2x\"/>\n",
      "</a>\n",
      "</div>\n",
      "<div class=\"info_strip\">\n",
      "<div class=\"number\">\n",
      "<span>1</span>\n",
      "</div>\n",
      "<div class=\"meta buttons\">\n",
      "<a class=\"favourite no_click\" href=\"#\" title=\"Login to add this movie to your favorite list\">\n",
      "<span class=\"glyphicons glyphicons-heart favourite list_action\" data-media-type=\"movie\" id=\"favourite_4bc88b44017a3c122d001496\"></span>\n",
      "</a>\n",
      "<a class=\"watchlist no_click\" href=\"#\" title=\"Login to add this movie to your watchlist\">\n",
      "<span class=\"glyphicons glyphicons-bookmark watchlist list_action\" data-media-type=\"movie\" id=\"watchlist_4bc88b44017a3c122d001496\"></span>\n",
      "</a>\n",
      "<a href=\"#\">\n",
      "<span class=\"glyphicons glyphicons-star rating\" id=\"rating_4bc88b44017a3c122d001496\"></span> <span class=\"rating\">7.9</span>\n",
      "</a>\n",
      "</div>\n",
      "</div>\n",
      "</div>\n",
      "</div>\n",
      "</li> 3 \n",
      "\n",
      "\n",
      "<li class=\"\" id=\"4bc8baec017a3c122d06d5d1\">\n",
      "<div class=\"item_wrapper\">\n",
      "<div class=\"info_wrapper\">\n",
      "<div class=\"image\">\n",
      "<a href=\"/movie/15370\">\n",
      "<img alt=\"The Cat Returns\" class=\"poster lazyload fade\" data-sizes=\"auto\" data-src=\"https://image.tmdb.org/t/p/w185_and_h278_bestv2/57rS5DXN8YfRHgh609RgCKjKbel.jpg\" data-srcset=\"https://image.tmdb.org/t/p/w185_and_h278_bestv2/57rS5DXN8YfRHgh609RgCKjKbel.jpg 1x, https://image.tmdb.org/t/p/w370_and_h556_bestv2/57rS5DXN8YfRHgh609RgCKjKbel.jpg 2x\"/>\n",
      "</a>\n",
      "</div>\n",
      "<div class=\"info_strip\">\n",
      "<div class=\"number\">\n",
      "<span>2</span>\n",
      "</div>\n",
      "<div class=\"meta buttons\">\n",
      "<a class=\"favourite no_click\" href=\"#\" title=\"Login to add this movie to your favorite list\">\n",
      "<span class=\"glyphicons glyphicons-heart favourite list_action\" data-media-type=\"movie\" id=\"favourite_4bc8baec017a3c122d06d5d1\"></span>\n",
      "</a>\n",
      "<a class=\"watchlist no_click\" href=\"#\" title=\"Login to add this movie to your watchlist\">\n",
      "<span class=\"glyphicons glyphicons-bookmark watchlist list_action\" data-media-type=\"movie\" id=\"watchlist_4bc8baec017a3c122d06d5d1\"></span>\n",
      "</a>\n",
      "<a href=\"#\">\n",
      "<span class=\"glyphicons glyphicons-star rating\" id=\"rating_4bc8baec017a3c122d06d5d1\"></span> <span class=\"rating\">7.2</span>\n",
      "</a>\n",
      "</div>\n",
      "</div>\n",
      "</div>\n",
      "</div>\n",
      "</li> 3 \n",
      "\n",
      "\n",
      "<li class=\"\" id=\"4bc8b2d6017a3c122d05b765\">\n",
      "<div class=\"item_wrapper\">\n",
      "<div class=\"info_wrapper\">\n",
      "<div class=\"image\">\n",
      "<a href=\"/movie/11621\">\n",
      "<img alt=\"Porco Rosso\" class=\"poster lazyload fade\" data-sizes=\"auto\" data-src=\"https://image.tmdb.org/t/p/w185_and_h278_bestv2/d8J98dLZkfTpJY64VvtCOH2UkXP.jpg\" data-srcset=\"https://image.tmdb.org/t/p/w185_and_h278_bestv2/d8J98dLZkfTpJY64VvtCOH2UkXP.jpg 1x, https://image.tmdb.org/t/p/w370_and_h556_bestv2/d8J98dLZkfTpJY64VvtCOH2UkXP.jpg 2x\"/>\n",
      "</a>\n",
      "</div>\n",
      "<div class=\"info_strip\">\n",
      "<div class=\"number\">\n",
      "<span>3</span>\n",
      "</div>\n",
      "<div class=\"meta buttons\">\n",
      "<a class=\"favourite no_click\" href=\"#\" title=\"Login to add this movie to your favorite list\">\n",
      "<span class=\"glyphicons glyphicons-heart favourite list_action\" data-media-type=\"movie\" id=\"favourite_4bc8b2d6017a3c122d05b765\"></span>\n",
      "</a>\n",
      "<a class=\"watchlist no_click\" href=\"#\" title=\"Login to add this movie to your watchlist\">\n",
      "<span class=\"glyphicons glyphicons-bookmark watchlist list_action\" data-media-type=\"movie\" id=\"watchlist_4bc8b2d6017a3c122d05b765\"></span>\n",
      "</a>\n",
      "<a href=\"#\">\n",
      "<span class=\"glyphicons glyphicons-star rating\" id=\"rating_4bc8b2d6017a3c122d05b765\"></span> <span class=\"rating\">7.8</span>\n",
      "</a>\n",
      "</div>\n",
      "</div>\n",
      "</div>\n",
      "</div>\n",
      "</li> 3 \n",
      "\n",
      "\n",
      "<li class=\"\" id=\"4bc8bad1017a3c122d06d1f6\">\n",
      "<div class=\"item_wrapper\">\n",
      "<div class=\"info_wrapper\">\n",
      "<div class=\"image\">\n",
      "<a href=\"/movie/15283\">\n",
      "<img alt=\"Pom Poko\" class=\"poster lazyload fade\" data-sizes=\"auto\" data-src=\"https://image.tmdb.org/t/p/w185_and_h278_bestv2/xbpD0l4Y4DKVMc3LjsiSCE2sC5z.jpg\" data-srcset=\"https://image.tmdb.org/t/p/w185_and_h278_bestv2/xbpD0l4Y4DKVMc3LjsiSCE2sC5z.jpg 1x, https://image.tmdb.org/t/p/w370_and_h556_bestv2/xbpD0l4Y4DKVMc3LjsiSCE2sC5z.jpg 2x\"/>\n",
      "</a>\n",
      "</div>\n",
      "<div class=\"info_strip\">\n",
      "<div class=\"number\">\n",
      "<span>4</span>\n",
      "</div>\n",
      "<div class=\"meta buttons\">\n",
      "<a class=\"favourite no_click\" href=\"#\" title=\"Login to add this movie to your favorite list\">\n",
      "<span class=\"glyphicons glyphicons-heart favourite list_action\" data-media-type=\"movie\" id=\"favourite_4bc8bad1017a3c122d06d1f6\"></span>\n",
      "</a>\n",
      "<a class=\"watchlist no_click\" href=\"#\" title=\"Login to add this movie to your watchlist\">\n",
      "<span class=\"glyphicons glyphicons-bookmark watchlist list_action\" data-media-type=\"movie\" id=\"watchlist_4bc8bad1017a3c122d06d1f6\"></span>\n",
      "</a>\n",
      "<a href=\"#\">\n",
      "<span class=\"glyphicons glyphicons-star rating\" id=\"rating_4bc8bad1017a3c122d06d1f6\"></span> <span class=\"rating\">7.2</span>\n",
      "</a>\n",
      "</div>\n",
      "</div>\n",
      "</div>\n",
      "</div>\n",
      "</li> 3 \n",
      "\n",
      "\n",
      "<li class=\"\" id=\"4bc8bcfd017a3c122d0726c8\">\n",
      "<div class=\"item_wrapper\">\n",
      "<div class=\"info_wrapper\">\n",
      "<div class=\"image\">\n",
      "<a href=\"/movie/16859\">\n",
      "<img alt=\"Kiki's Delivery Service\" class=\"poster lazyload fade\" data-sizes=\"auto\" data-src=\"https://image.tmdb.org/t/p/w185_and_h278_bestv2/3LvTAZayVIWke8XDmiwNR6cX6EP.jpg\" data-srcset=\"https://image.tmdb.org/t/p/w185_and_h278_bestv2/3LvTAZayVIWke8XDmiwNR6cX6EP.jpg 1x, https://image.tmdb.org/t/p/w370_and_h556_bestv2/3LvTAZayVIWke8XDmiwNR6cX6EP.jpg 2x\"/>\n",
      "</a>\n",
      "</div>\n",
      "<div class=\"info_strip\">\n",
      "<div class=\"number\">\n",
      "<span>5</span>\n",
      "</div>\n",
      "<div class=\"meta buttons\">\n",
      "<a class=\"favourite no_click\" href=\"#\" title=\"Login to add this movie to your favorite list\">\n",
      "<span class=\"glyphicons glyphicons-heart favourite list_action\" data-media-type=\"movie\" id=\"favourite_4bc8bcfd017a3c122d0726c8\"></span>\n",
      "</a>\n",
      "<a class=\"watchlist no_click\" href=\"#\" title=\"Login to add this movie to your watchlist\">\n",
      "<span class=\"glyphicons glyphicons-bookmark watchlist list_action\" data-media-type=\"movie\" id=\"watchlist_4bc8bcfd017a3c122d0726c8\"></span>\n",
      "</a>\n",
      "<a href=\"#\">\n",
      "<span class=\"glyphicons glyphicons-star rating\" id=\"rating_4bc8bcfd017a3c122d0726c8\"></span> <span class=\"rating\">7.8</span>\n",
      "</a>\n",
      "</div>\n",
      "</div>\n",
      "</div>\n",
      "</div>\n",
      "</li> 3 \n",
      "\n",
      "\n",
      "<li class=\"\" id=\"4bc8ad91017a3c122d051b57\">\n",
      "<div class=\"item_wrapper\">\n",
      "<div class=\"info_wrapper\">\n",
      "<div class=\"image\">\n",
      "<a href=\"/movie/10515\">\n",
      "<img alt=\"Castle in the Sky\" class=\"poster lazyload fade\" data-sizes=\"auto\" data-src=\"https://image.tmdb.org/t/p/w185_and_h278_bestv2/4RTG2AaqZ9eleL51ryWwv78WwDu.jpg\" data-srcset=\"https://image.tmdb.org/t/p/w185_and_h278_bestv2/4RTG2AaqZ9eleL51ryWwv78WwDu.jpg 1x, https://image.tmdb.org/t/p/w370_and_h556_bestv2/4RTG2AaqZ9eleL51ryWwv78WwDu.jpg 2x\"/>\n",
      "</a>\n",
      "</div>\n",
      "<div class=\"info_strip\">\n",
      "<div class=\"number\">\n",
      "<span>6</span>\n",
      "</div>\n",
      "<div class=\"meta buttons\">\n",
      "<a class=\"favourite no_click\" href=\"#\" title=\"Login to add this movie to your favorite list\">\n",
      "<span class=\"glyphicons glyphicons-heart favourite list_action\" data-media-type=\"movie\" id=\"favourite_4bc8ad91017a3c122d051b57\"></span>\n",
      "</a>\n",
      "<a class=\"watchlist no_click\" href=\"#\" title=\"Login to add this movie to your watchlist\">\n",
      "<span class=\"glyphicons glyphicons-bookmark watchlist list_action\" data-media-type=\"movie\" id=\"watchlist_4bc8ad91017a3c122d051b57\"></span>\n",
      "</a>\n",
      "<a href=\"#\">\n",
      "<span class=\"glyphicons glyphicons-star rating\" id=\"rating_4bc8ad91017a3c122d051b57\"></span> <span class=\"rating\">8</span>\n",
      "</a>\n",
      "</div>\n",
      "</div>\n",
      "</div>\n",
      "</div>\n",
      "</li> 3 \n",
      "\n",
      "\n",
      "<li class=\"\" id=\"4bc89f75017a3c122d02ee5f\">\n",
      "<div class=\"item_wrapper\">\n",
      "<div class=\"info_wrapper\">\n",
      "<div class=\"image\">\n",
      "<a href=\"/movie/4935\">\n",
      "<img alt=\"Howl's Moving Castle\" class=\"poster lazyload fade\" data-sizes=\"auto\" data-src=\"https://image.tmdb.org/t/p/w185_and_h278_bestv2/iMarB2ior30OAXjPa7QIdeyUfM1.jpg\" data-srcset=\"https://image.tmdb.org/t/p/w185_and_h278_bestv2/iMarB2ior30OAXjPa7QIdeyUfM1.jpg 1x, https://image.tmdb.org/t/p/w370_and_h556_bestv2/iMarB2ior30OAXjPa7QIdeyUfM1.jpg 2x\"/>\n",
      "</a>\n",
      "</div>\n",
      "<div class=\"info_strip\">\n",
      "<div class=\"number\">\n",
      "<span>7</span>\n",
      "</div>\n",
      "<div class=\"meta buttons\">\n",
      "<a class=\"favourite no_click\" href=\"#\" title=\"Login to add this movie to your favorite list\">\n",
      "<span class=\"glyphicons glyphicons-heart favourite list_action\" data-media-type=\"movie\" id=\"favourite_4bc89f75017a3c122d02ee5f\"></span>\n",
      "</a>\n",
      "<a class=\"watchlist no_click\" href=\"#\" title=\"Login to add this movie to your watchlist\">\n",
      "<span class=\"glyphicons glyphicons-bookmark watchlist list_action\" data-media-type=\"movie\" id=\"watchlist_4bc89f75017a3c122d02ee5f\"></span>\n",
      "</a>\n",
      "<a href=\"#\">\n",
      "<span class=\"glyphicons glyphicons-star rating\" id=\"rating_4bc89f75017a3c122d02ee5f\"></span> <span class=\"rating\">8.4</span>\n",
      "</a>\n",
      "</div>\n",
      "</div>\n",
      "</div>\n",
      "</div>\n",
      "</li> 3 \n",
      "\n",
      "\n",
      "<li class=\"\" id=\"4bc88bc8017a3c122d00246d\">\n",
      "<div class=\"item_wrapper\">\n",
      "<div class=\"info_wrapper\">\n",
      "<div class=\"image\">\n",
      "<a href=\"/movie/128\">\n",
      "<img alt=\"Princess Mononoke\" class=\"poster lazyload fade\" data-sizes=\"auto\" data-src=\"https://image.tmdb.org/t/p/w185_and_h278_bestv2/mNqZOtJIQfFQPjo3hmYLIn8Qqhf.jpg\" data-srcset=\"https://image.tmdb.org/t/p/w185_and_h278_bestv2/mNqZOtJIQfFQPjo3hmYLIn8Qqhf.jpg 1x, https://image.tmdb.org/t/p/w370_and_h556_bestv2/mNqZOtJIQfFQPjo3hmYLIn8Qqhf.jpg 2x\"/>\n",
      "</a>\n",
      "</div>\n",
      "<div class=\"info_strip\">\n",
      "<div class=\"number\">\n",
      "<span>8</span>\n",
      "</div>\n",
      "<div class=\"meta buttons\">\n",
      "<a class=\"favourite no_click\" href=\"#\" title=\"Login to add this movie to your favorite list\">\n",
      "<span class=\"glyphicons glyphicons-heart favourite list_action\" data-media-type=\"movie\" id=\"favourite_4bc88bc8017a3c122d00246d\"></span>\n",
      "</a>\n",
      "<a class=\"watchlist no_click\" href=\"#\" title=\"Login to add this movie to your watchlist\">\n",
      "<span class=\"glyphicons glyphicons-bookmark watchlist list_action\" data-media-type=\"movie\" id=\"watchlist_4bc88bc8017a3c122d00246d\"></span>\n",
      "</a>\n",
      "<a href=\"#\">\n",
      "<span class=\"glyphicons glyphicons-star rating\" id=\"rating_4bc88bc8017a3c122d00246d\"></span> <span class=\"rating\">8.4</span>\n",
      "</a>\n",
      "</div>\n",
      "</div>\n",
      "</div>\n",
      "</div>\n",
      "</li> 3 \n",
      "\n",
      "\n",
      "<li class=\"\" id=\"4bc8a5cf017a3c122d03f73b\">\n",
      "<div class=\"item_wrapper\">\n",
      "<div class=\"info_wrapper\">\n",
      "<div class=\"image\">\n",
      "<a href=\"/movie/8392\">\n",
      "<img alt=\"My Neighbor Totoro\" class=\"poster lazyload fade\" data-sizes=\"auto\" data-src=\"https://image.tmdb.org/t/p/w185_and_h278_bestv2/rtGDOeG9LzoerkDGZF9dnVeLppL.jpg\" data-srcset=\"https://image.tmdb.org/t/p/w185_and_h278_bestv2/rtGDOeG9LzoerkDGZF9dnVeLppL.jpg 1x, https://image.tmdb.org/t/p/w370_and_h556_bestv2/rtGDOeG9LzoerkDGZF9dnVeLppL.jpg 2x\"/>\n",
      "</a>\n",
      "</div>\n",
      "<div class=\"info_strip\">\n",
      "<div class=\"number\">\n",
      "<span>9</span>\n",
      "</div>\n",
      "<div class=\"meta buttons\">\n",
      "<a class=\"favourite no_click\" href=\"#\" title=\"Login to add this movie to your favorite list\">\n",
      "<span class=\"glyphicons glyphicons-heart favourite list_action\" data-media-type=\"movie\" id=\"favourite_4bc8a5cf017a3c122d03f73b\"></span>\n",
      "</a>\n",
      "<a class=\"watchlist no_click\" href=\"#\" title=\"Login to add this movie to your watchlist\">\n",
      "<span class=\"glyphicons glyphicons-bookmark watchlist list_action\" data-media-type=\"movie\" id=\"watchlist_4bc8a5cf017a3c122d03f73b\"></span>\n",
      "</a>\n",
      "<a href=\"#\">\n",
      "<span class=\"glyphicons glyphicons-star rating\" id=\"rating_4bc8a5cf017a3c122d03f73b\"></span> <span class=\"rating\">8.1</span>\n",
      "</a>\n",
      "</div>\n",
      "</div>\n",
      "</div>\n",
      "</div>\n",
      "</li> 3 \n",
      "\n",
      "\n",
      "<li class=\"\" id=\"4bc8b572017a3c122d06086c\">\n",
      "<div class=\"item_wrapper\">\n",
      "<div class=\"info_wrapper\">\n",
      "<div class=\"image\">\n",
      "<a href=\"/movie/12477\">\n",
      "<img alt=\"Grave of the Fireflies\" class=\"poster lazyload fade\" data-sizes=\"auto\" data-src=\"https://image.tmdb.org/t/p/w185_and_h278_bestv2/wcNkHDbyc290hcWk7KXbBZUuXpq.jpg\" data-srcset=\"https://image.tmdb.org/t/p/w185_and_h278_bestv2/wcNkHDbyc290hcWk7KXbBZUuXpq.jpg 1x, https://image.tmdb.org/t/p/w370_and_h556_bestv2/wcNkHDbyc290hcWk7KXbBZUuXpq.jpg 2x\"/>\n",
      "</a>\n",
      "</div>\n",
      "<div class=\"info_strip\">\n",
      "<div class=\"number\">\n",
      "<span>10</span>\n",
      "</div>\n",
      "<div class=\"meta buttons\">\n",
      "<a class=\"favourite no_click\" href=\"#\" title=\"Login to add this movie to your favorite list\">\n",
      "<span class=\"glyphicons glyphicons-heart favourite list_action\" data-media-type=\"movie\" id=\"favourite_4bc8b572017a3c122d06086c\"></span>\n",
      "</a>\n",
      "<a class=\"watchlist no_click\" href=\"#\" title=\"Login to add this movie to your watchlist\">\n",
      "<span class=\"glyphicons glyphicons-bookmark watchlist list_action\" data-media-type=\"movie\" id=\"watchlist_4bc8b572017a3c122d06086c\"></span>\n",
      "</a>\n",
      "<a href=\"#\">\n",
      "<span class=\"glyphicons glyphicons-star rating\" id=\"rating_4bc8b572017a3c122d06086c\"></span> <span class=\"rating\">8.4</span>\n",
      "</a>\n",
      "</div>\n",
      "</div>\n",
      "</div>\n",
      "</div>\n",
      "</li> 3 \n",
      "\n",
      "\n",
      "<li class=\"\" id=\"4beecba1017a3c458d00027b\">\n",
      "<div class=\"item_wrapper\">\n",
      "<div class=\"info_wrapper\">\n",
      "<div class=\"image\">\n",
      "<a href=\"/movie/37797\">\n",
      "<img alt=\"Whisper of the Heart\" class=\"poster lazyload fade\" data-sizes=\"auto\" data-src=\"https://image.tmdb.org/t/p/w185_and_h278_bestv2/2R1Ffu4V7azxXkRcBKtVCW8AXA7.jpg\" data-srcset=\"https://image.tmdb.org/t/p/w185_and_h278_bestv2/2R1Ffu4V7azxXkRcBKtVCW8AXA7.jpg 1x, https://image.tmdb.org/t/p/w370_and_h556_bestv2/2R1Ffu4V7azxXkRcBKtVCW8AXA7.jpg 2x\"/>\n",
      "</a>\n",
      "</div>\n",
      "<div class=\"info_strip\">\n",
      "<div class=\"number\">\n",
      "<span>11</span>\n",
      "</div>\n",
      "<div class=\"meta buttons\">\n",
      "<a class=\"favourite no_click\" href=\"#\" title=\"Login to add this movie to your favorite list\">\n",
      "<span class=\"glyphicons glyphicons-heart favourite list_action\" data-media-type=\"movie\" id=\"favourite_4beecba1017a3c458d00027b\"></span>\n",
      "</a>\n",
      "<a class=\"watchlist no_click\" href=\"#\" title=\"Login to add this movie to your watchlist\">\n",
      "<span class=\"glyphicons glyphicons-bookmark watchlist list_action\" data-media-type=\"movie\" id=\"watchlist_4beecba1017a3c458d00027b\"></span>\n",
      "</a>\n",
      "<a href=\"#\">\n",
      "<span class=\"glyphicons glyphicons-star rating\" id=\"rating_4beecba1017a3c458d00027b\"></span> <span class=\"rating\">7.9</span>\n",
      "</a>\n",
      "</div>\n",
      "</div>\n",
      "</div>\n",
      "</div>\n",
      "</li> 3 \n",
      "\n",
      "\n",
      "<li class=\"\" id=\"4bc8bc1f017a3c122d070803\">\n",
      "<div class=\"item_wrapper\">\n",
      "<div class=\"info_wrapper\">\n",
      "<div class=\"image\">\n",
      "<a href=\"/movie/16198\">\n",
      "<img alt=\"My Neighbors the Yamadas\" class=\"poster lazyload fade\" data-sizes=\"auto\" data-src=\"https://image.tmdb.org/t/p/w185_and_h278_bestv2/qV2DNDMfryHrDi0kZSe1BOUnMV5.jpg\" data-srcset=\"https://image.tmdb.org/t/p/w185_and_h278_bestv2/qV2DNDMfryHrDi0kZSe1BOUnMV5.jpg 1x, https://image.tmdb.org/t/p/w370_and_h556_bestv2/qV2DNDMfryHrDi0kZSe1BOUnMV5.jpg 2x\"/>\n",
      "</a>\n",
      "</div>\n",
      "<div class=\"info_strip\">\n",
      "<div class=\"number\">\n",
      "<span>12</span>\n",
      "</div>\n",
      "<div class=\"meta buttons\">\n",
      "<a class=\"favourite no_click\" href=\"#\" title=\"Login to add this movie to your favorite list\">\n",
      "<span class=\"glyphicons glyphicons-heart favourite list_action\" data-media-type=\"movie\" id=\"favourite_4bc8bc1f017a3c122d070803\"></span>\n",
      "</a>\n",
      "<a class=\"watchlist no_click\" href=\"#\" title=\"Login to add this movie to your watchlist\">\n",
      "<span class=\"glyphicons glyphicons-bookmark watchlist list_action\" data-media-type=\"movie\" id=\"watchlist_4bc8bc1f017a3c122d070803\"></span>\n",
      "</a>\n",
      "<a href=\"#\">\n",
      "<span class=\"glyphicons glyphicons-star rating\" id=\"rating_4bc8bc1f017a3c122d070803\"></span> <span class=\"rating\">6.9</span>\n",
      "</a>\n",
      "</div>\n",
      "</div>\n",
      "</div>\n",
      "</div>\n",
      "</li> 3 \n",
      "\n",
      "\n",
      "<li class=\"\" id=\"4bc88bcc017a3c122d0024c9\">\n",
      "<div class=\"item_wrapper\">\n",
      "<div class=\"info_wrapper\">\n",
      "<div class=\"image\">\n",
      "<a href=\"/movie/129\">\n",
      "<img alt=\"Spirited Away\" class=\"poster lazyload fade\" data-sizes=\"auto\" data-src=\"https://image.tmdb.org/t/p/w185_and_h278_bestv2/oRvMaJOmapypFUcQqpgHMZA6qL9.jpg\" data-srcset=\"https://image.tmdb.org/t/p/w185_and_h278_bestv2/oRvMaJOmapypFUcQqpgHMZA6qL9.jpg 1x, https://image.tmdb.org/t/p/w370_and_h556_bestv2/oRvMaJOmapypFUcQqpgHMZA6qL9.jpg 2x\"/>\n",
      "</a>\n",
      "</div>\n",
      "<div class=\"info_strip\">\n",
      "<div class=\"number\">\n",
      "<span>13</span>\n",
      "</div>\n",
      "<div class=\"meta buttons\">\n",
      "<a class=\"favourite no_click\" href=\"#\" title=\"Login to add this movie to your favorite list\">\n",
      "<span class=\"glyphicons glyphicons-heart favourite list_action\" data-media-type=\"movie\" id=\"favourite_4bc88bcc017a3c122d0024c9\"></span>\n",
      "</a>\n",
      "<a class=\"watchlist no_click\" href=\"#\" title=\"Login to add this movie to your watchlist\">\n",
      "<span class=\"glyphicons glyphicons-bookmark watchlist list_action\" data-media-type=\"movie\" id=\"watchlist_4bc88bcc017a3c122d0024c9\"></span>\n",
      "</a>\n",
      "<a href=\"#\">\n",
      "<span class=\"glyphicons glyphicons-star rating\" id=\"rating_4bc88bcc017a3c122d0024c9\"></span> <span class=\"rating\">8.5</span>\n",
      "</a>\n",
      "</div>\n",
      "</div>\n",
      "</div>\n",
      "</div>\n",
      "</li> 3 \n",
      "\n",
      "\n",
      "<li class=\"\" id=\"4bc8ba8c017a3c122d06c81f\">\n",
      "<div class=\"item_wrapper\">\n",
      "<div class=\"info_wrapper\">\n",
      "<div class=\"image\">\n",
      "<a href=\"/movie/15080\">\n",
      "<img alt=\"Only Yesterday\" class=\"poster lazyload fade\" data-sizes=\"auto\" data-src=\"https://image.tmdb.org/t/p/w185_and_h278_bestv2/24DqWbbkKI0ReUooSJiIqzURp3g.jpg\" data-srcset=\"https://image.tmdb.org/t/p/w185_and_h278_bestv2/24DqWbbkKI0ReUooSJiIqzURp3g.jpg 1x, https://image.tmdb.org/t/p/w370_and_h556_bestv2/24DqWbbkKI0ReUooSJiIqzURp3g.jpg 2x\"/>\n",
      "</a>\n",
      "</div>\n",
      "<div class=\"info_strip\">\n",
      "<div class=\"number\">\n",
      "<span>14</span>\n",
      "</div>\n",
      "<div class=\"meta buttons\">\n",
      "<a class=\"favourite no_click\" href=\"#\" title=\"Login to add this movie to your favorite list\">\n",
      "<span class=\"glyphicons glyphicons-heart favourite list_action\" data-media-type=\"movie\" id=\"favourite_4bc8ba8c017a3c122d06c81f\"></span>\n",
      "</a>\n",
      "<a class=\"watchlist no_click\" href=\"#\" title=\"Login to add this movie to your watchlist\">\n",
      "<span class=\"glyphicons glyphicons-bookmark watchlist list_action\" data-media-type=\"movie\" id=\"watchlist_4bc8ba8c017a3c122d06c81f\"></span>\n",
      "</a>\n",
      "<a href=\"#\">\n",
      "<span class=\"glyphicons glyphicons-star rating\" id=\"rating_4bc8ba8c017a3c122d06c81f\"></span> <span class=\"rating\">7.3</span>\n",
      "</a>\n",
      "</div>\n",
      "</div>\n",
      "</div>\n",
      "</div>\n",
      "</li> 3 \n",
      "\n",
      "\n",
      "<li class=\"\" id=\"4bf21b21017a3c32170002e1\">\n",
      "<div class=\"item_wrapper\">\n",
      "<div class=\"info_wrapper\">\n",
      "<div class=\"image\">\n",
      "<a href=\"/movie/37933\">\n",
      "<img alt=\"Tales from Earthsea\" class=\"poster lazyload fade\" data-sizes=\"auto\" data-src=\"https://image.tmdb.org/t/p/w185_and_h278_bestv2/deB7rfqZXpVxdRinyaCeyhwNPbg.jpg\" data-srcset=\"https://image.tmdb.org/t/p/w185_and_h278_bestv2/deB7rfqZXpVxdRinyaCeyhwNPbg.jpg 1x, https://image.tmdb.org/t/p/w370_and_h556_bestv2/deB7rfqZXpVxdRinyaCeyhwNPbg.jpg 2x\"/>\n",
      "</a>\n",
      "</div>\n",
      "<div class=\"info_strip\">\n",
      "<div class=\"number\">\n",
      "<span>15</span>\n",
      "</div>\n",
      "<div class=\"meta buttons\">\n",
      "<a class=\"favourite no_click\" href=\"#\" title=\"Login to add this movie to your favorite list\">\n",
      "<span class=\"glyphicons glyphicons-heart favourite list_action\" data-media-type=\"movie\" id=\"favourite_4bf21b21017a3c32170002e1\"></span>\n",
      "</a>\n",
      "<a class=\"watchlist no_click\" href=\"#\" title=\"Login to add this movie to your watchlist\">\n",
      "<span class=\"glyphicons glyphicons-bookmark watchlist list_action\" data-media-type=\"movie\" id=\"watchlist_4bf21b21017a3c32170002e1\"></span>\n",
      "</a>\n",
      "<a href=\"#\">\n",
      "<span class=\"glyphicons glyphicons-star rating\" id=\"rating_4bf21b21017a3c32170002e1\"></span> <span class=\"rating\">6.6</span>\n",
      "</a>\n",
      "</div>\n",
      "</div>\n",
      "</div>\n",
      "</div>\n",
      "</li> 3 \n",
      "\n",
      "\n",
      "<li class=\"\" id=\"4bc8c20f017a3c122d07ecf9\">\n",
      "<div class=\"item_wrapper\">\n",
      "<div class=\"info_wrapper\">\n",
      "<div class=\"image\">\n",
      "<a href=\"/movie/21057\">\n",
      "<img alt=\"Ocean Waves\" class=\"poster lazyload fade\" data-sizes=\"auto\" data-src=\"https://image.tmdb.org/t/p/w185_and_h278_bestv2/wrb9I8zOVQ4Ij9dc66l3tYbjE1N.jpg\" data-srcset=\"https://image.tmdb.org/t/p/w185_and_h278_bestv2/wrb9I8zOVQ4Ij9dc66l3tYbjE1N.jpg 1x, https://image.tmdb.org/t/p/w370_and_h556_bestv2/wrb9I8zOVQ4Ij9dc66l3tYbjE1N.jpg 2x\"/>\n",
      "</a>\n",
      "</div>\n",
      "<div class=\"info_strip\">\n",
      "<div class=\"number\">\n",
      "<span>16</span>\n",
      "</div>\n",
      "<div class=\"meta buttons\">\n",
      "<a class=\"favourite no_click\" href=\"#\" title=\"Login to add this movie to your favorite list\">\n",
      "<span class=\"glyphicons glyphicons-heart favourite list_action\" data-media-type=\"movie\" id=\"favourite_4bc8c20f017a3c122d07ecf9\"></span>\n",
      "</a>\n",
      "<a class=\"watchlist no_click\" href=\"#\" title=\"Login to add this movie to your watchlist\">\n",
      "<span class=\"glyphicons glyphicons-bookmark watchlist list_action\" data-media-type=\"movie\" id=\"watchlist_4bc8c20f017a3c122d07ecf9\"></span>\n",
      "</a>\n",
      "<a href=\"#\">\n",
      "<span class=\"glyphicons glyphicons-star rating\" id=\"rating_4bc8c20f017a3c122d07ecf9\"></span> <span class=\"rating\">6.4</span>\n",
      "</a>\n",
      "</div>\n",
      "</div>\n",
      "</div>\n",
      "</div>\n",
      "</li> 3 \n",
      "\n",
      "\n",
      "<li class=\"\" id=\"4bc8b557017a3c122d060371\">\n",
      "<div class=\"item_wrapper\">\n",
      "<div class=\"info_wrapper\">\n",
      "<div class=\"image\">\n",
      "<a href=\"/movie/12429\">\n",
      "<img alt=\"Ponyo\" class=\"poster lazyload fade\" data-sizes=\"auto\" data-src=\"https://image.tmdb.org/t/p/w185_and_h278_bestv2/3s0mpSpLkI7cIhqWGrGbsiyvlsH.jpg\" data-srcset=\"https://image.tmdb.org/t/p/w185_and_h278_bestv2/3s0mpSpLkI7cIhqWGrGbsiyvlsH.jpg 1x, https://image.tmdb.org/t/p/w370_and_h556_bestv2/3s0mpSpLkI7cIhqWGrGbsiyvlsH.jpg 2x\"/>\n",
      "</a>\n",
      "</div>\n",
      "<div class=\"info_strip\">\n",
      "<div class=\"number\">\n",
      "<span>17</span>\n",
      "</div>\n",
      "<div class=\"meta buttons\">\n",
      "<a class=\"favourite no_click\" href=\"#\" title=\"Login to add this movie to your favorite list\">\n",
      "<span class=\"glyphicons glyphicons-heart favourite list_action\" data-media-type=\"movie\" id=\"favourite_4bc8b557017a3c122d060371\"></span>\n",
      "</a>\n",
      "<a class=\"watchlist no_click\" href=\"#\" title=\"Login to add this movie to your watchlist\">\n",
      "<span class=\"glyphicons glyphicons-bookmark watchlist list_action\" data-media-type=\"movie\" id=\"watchlist_4bc8b557017a3c122d060371\"></span>\n",
      "</a>\n",
      "<a href=\"#\">\n",
      "<span class=\"glyphicons glyphicons-star rating\" id=\"rating_4bc8b557017a3c122d060371\"></span> <span class=\"rating\">7.7</span>\n",
      "</a>\n",
      "</div>\n",
      "</div>\n",
      "</div>\n",
      "</div>\n",
      "</li> 3 \n",
      "\n",
      "\n",
      "<li class=\"\" id=\"4d0c85fd5e73d6370a0005ae\">\n",
      "<div class=\"item_wrapper\">\n",
      "<div class=\"info_wrapper\">\n",
      "<div class=\"image\">\n",
      "<a href=\"/movie/51739\">\n",
      "<img alt=\"The Secret World of Arrietty\" class=\"poster lazyload fade\" data-sizes=\"auto\" data-src=\"https://image.tmdb.org/t/p/w185_and_h278_bestv2/A4w9oSNQUwtkaucy3K7LbSngKrk.jpg\" data-srcset=\"https://image.tmdb.org/t/p/w185_and_h278_bestv2/A4w9oSNQUwtkaucy3K7LbSngKrk.jpg 1x, https://image.tmdb.org/t/p/w370_and_h556_bestv2/A4w9oSNQUwtkaucy3K7LbSngKrk.jpg 2x\"/>\n",
      "</a>\n",
      "</div>\n",
      "<div class=\"info_strip\">\n",
      "<div class=\"number\">\n",
      "<span>18</span>\n",
      "</div>\n",
      "<div class=\"meta buttons\">\n",
      "<a class=\"favourite no_click\" href=\"#\" title=\"Login to add this movie to your favorite list\">\n",
      "<span class=\"glyphicons glyphicons-heart favourite list_action\" data-media-type=\"movie\" id=\"favourite_4d0c85fd5e73d6370a0005ae\"></span>\n",
      "</a>\n",
      "<a class=\"watchlist no_click\" href=\"#\" title=\"Login to add this movie to your watchlist\">\n",
      "<span class=\"glyphicons glyphicons-bookmark watchlist list_action\" data-media-type=\"movie\" id=\"watchlist_4d0c85fd5e73d6370a0005ae\"></span>\n",
      "</a>\n",
      "<a href=\"#\">\n",
      "<span class=\"glyphicons glyphicons-star rating\" id=\"rating_4d0c85fd5e73d6370a0005ae\"></span> <span class=\"rating\">7.5</span>\n",
      "</a>\n",
      "</div>\n",
      "</div>\n",
      "</div>\n",
      "</div>\n",
      "</li> 3 \n",
      "\n",
      "\n",
      "<li class=\"\" id=\"4f0b7a6319c2950c0600004e\">\n",
      "<div class=\"item_wrapper\">\n",
      "<div class=\"info_wrapper\">\n",
      "<div class=\"image\">\n",
      "<a href=\"/movie/83389\">\n",
      "<img alt=\"From Up on Poppy Hill\" class=\"poster lazyload fade\" data-sizes=\"auto\" data-src=\"https://image.tmdb.org/t/p/w185_and_h278_bestv2/mVlosCi4Kckj1iXACJdpSrA9alR.jpg\" data-srcset=\"https://image.tmdb.org/t/p/w185_and_h278_bestv2/mVlosCi4Kckj1iXACJdpSrA9alR.jpg 1x, https://image.tmdb.org/t/p/w370_and_h556_bestv2/mVlosCi4Kckj1iXACJdpSrA9alR.jpg 2x\"/>\n",
      "</a>\n",
      "</div>\n",
      "<div class=\"info_strip\">\n",
      "<div class=\"number\">\n",
      "<span>19</span>\n",
      "</div>\n",
      "<div class=\"meta buttons\">\n",
      "<a class=\"favourite no_click\" href=\"#\" title=\"Login to add this movie to your favorite list\">\n",
      "<span class=\"glyphicons glyphicons-heart favourite list_action\" data-media-type=\"movie\" id=\"favourite_4f0b7a6319c2950c0600004e\"></span>\n",
      "</a>\n",
      "<a class=\"watchlist no_click\" href=\"#\" title=\"Login to add this movie to your watchlist\">\n",
      "<span class=\"glyphicons glyphicons-bookmark watchlist list_action\" data-media-type=\"movie\" id=\"watchlist_4f0b7a6319c2950c0600004e\"></span>\n",
      "</a>\n",
      "<a href=\"#\">\n",
      "<span class=\"glyphicons glyphicons-star rating\" id=\"rating_4f0b7a6319c2950c0600004e\"></span> <span class=\"rating\">7.6</span>\n",
      "</a>\n",
      "</div>\n",
      "</div>\n",
      "</div>\n",
      "</div>\n",
      "</li> 3 \n",
      "\n",
      "\n",
      "<li class=\"\" id=\"50c9d5e719c29573b1135846\">\n",
      "<div class=\"item_wrapper\">\n",
      "<div class=\"info_wrapper\">\n",
      "<div class=\"image\">\n",
      "<a href=\"/movie/149870\">\n",
      "<img alt=\"The Wind Rises\" class=\"poster lazyload fade\" data-sizes=\"auto\" data-src=\"https://image.tmdb.org/t/p/w185_and_h278_bestv2/3OTcCyf7QbGdVxsS8GLtaSsTZtP.jpg\" data-srcset=\"https://image.tmdb.org/t/p/w185_and_h278_bestv2/3OTcCyf7QbGdVxsS8GLtaSsTZtP.jpg 1x, https://image.tmdb.org/t/p/w370_and_h556_bestv2/3OTcCyf7QbGdVxsS8GLtaSsTZtP.jpg 2x\"/>\n",
      "</a>\n",
      "</div>\n",
      "<div class=\"info_strip\">\n",
      "<div class=\"number\">\n",
      "<span>20</span>\n",
      "</div>\n",
      "<div class=\"meta buttons\">\n",
      "<a class=\"favourite no_click\" href=\"#\" title=\"Login to add this movie to your favorite list\">\n",
      "<span class=\"glyphicons glyphicons-heart favourite list_action\" data-media-type=\"movie\" id=\"favourite_50c9d5e719c29573b1135846\"></span>\n",
      "</a>\n",
      "<a class=\"watchlist no_click\" href=\"#\" title=\"Login to add this movie to your watchlist\">\n",
      "<span class=\"glyphicons glyphicons-bookmark watchlist list_action\" data-media-type=\"movie\" id=\"watchlist_50c9d5e719c29573b1135846\"></span>\n",
      "</a>\n",
      "<a href=\"#\">\n",
      "<span class=\"glyphicons glyphicons-star rating\" id=\"rating_50c9d5e719c29573b1135846\"></span> <span class=\"rating\">7.8</span>\n",
      "</a>\n",
      "</div>\n",
      "</div>\n",
      "</div>\n",
      "</div>\n",
      "</li> 3 \n",
      "\n",
      "\n",
      "<li class=\"filler\"></li> 0 \n",
      "\n",
      "\n",
      "<li class=\"filler\"></li> 0 \n",
      "\n",
      "\n",
      "<li class=\"filler\"></li> 0 \n",
      "\n",
      "\n",
      "<li class=\"filler\"></li> 0 \n",
      "\n",
      "\n",
      "<li class=\"filler\"></li> 0 \n",
      "\n",
      "\n"
     ]
    }
   ],
   "source": [
    "movies = bsObj.find('ul', id = \"list_page_1\")\n",
    "movies = movies.find_all('li')\n",
    "len(movies)\n",
    "for movie in movies:\n",
    "    print(movie, len(movie), \"\\n\\n\")"
   ]
  },
  {
   "cell_type": "markdown",
   "metadata": {},
   "source": [
    "The function find_all() returns a list of objects with tag specified in the parenthesis. From analyzing the length of each item in the list, we know that the length of the movie item is 3. Thus, the items with length > 0 would give us the information about the movies"
   ]
  },
  {
   "cell_type": "code",
   "execution_count": 226,
   "metadata": {},
   "outputs": [],
   "source": [
    "movies = [movie for movie in movies if len(movie) > 0]"
   ]
  },
  {
   "cell_type": "markdown",
   "metadata": {},
   "source": [
    "## Extract information from the first movie"
   ]
  },
  {
   "cell_type": "markdown",
   "metadata": {},
   "source": [
    "First try to extract information from the first movie in the movie list such as title, url, image, rank, and rating"
   ]
  },
  {
   "cell_type": "code",
   "execution_count": 227,
   "metadata": {},
   "outputs": [
    {
     "data": {
      "text/plain": [
       "{'class': ['poster', 'lazyload', 'fade'],\n",
       " 'data-sizes': 'auto',\n",
       " 'data-src': 'https://image.tmdb.org/t/p/w185_and_h278_bestv2/hnYowHwLq0iUWriAHtiiCWsI2dP.jpg',\n",
       " 'data-srcset': 'https://image.tmdb.org/t/p/w185_and_h278_bestv2/hnYowHwLq0iUWriAHtiiCWsI2dP.jpg 1x, https://image.tmdb.org/t/p/w370_and_h556_bestv2/hnYowHwLq0iUWriAHtiiCWsI2dP.jpg 2x',\n",
       " 'alt': 'Nausicaä of the Valley of the Wind'}"
      ]
     },
     "execution_count": 227,
     "metadata": {},
     "output_type": "execute_result"
    }
   ],
   "source": [
    "movie_1 = movies[0]\n",
    "movie_1.img.attrs"
   ]
  },
  {
   "cell_type": "code",
   "execution_count": 228,
   "metadata": {},
   "outputs": [
    {
     "data": {
      "text/plain": [
       "'Nausicaä of the Valley of the Wind'"
      ]
     },
     "execution_count": 228,
     "metadata": {},
     "output_type": "execute_result"
    }
   ],
   "source": [
    "#Title\n",
    "movie_1.img.attrs['alt']"
   ]
  },
  {
   "cell_type": "code",
   "execution_count": 229,
   "metadata": {},
   "outputs": [
    {
     "data": {
      "text/html": [
       "<img src=\"https://image.tmdb.org/t/p/w185_and_h278_bestv2/hnYowHwLq0iUWriAHtiiCWsI2dP.jpg\"/>"
      ],
      "text/plain": [
       "<IPython.core.display.Image object>"
      ]
     },
     "execution_count": 229,
     "metadata": {},
     "output_type": "execute_result"
    }
   ],
   "source": [
    "#Find the link to movie's image\n",
    "#Use Image to display the image to make sure the link is working properly\n",
    "from IPython.display import Image\n",
    "image_url = movie_1.find('img').attrs['data-src']\n",
    "Image(url= image_url)"
   ]
  },
  {
   "cell_type": "code",
   "execution_count": 267,
   "metadata": {},
   "outputs": [
    {
     "data": {
      "text/plain": [
       "{'href': '/movie/81'}"
      ]
     },
     "execution_count": 267,
     "metadata": {},
     "output_type": "execute_result"
    }
   ],
   "source": [
    "#Extract url by accessing to <a> tag then to its attribute href\n",
    "a = movie_1.a.attrs\n",
    "a"
   ]
  },
  {
   "cell_type": "code",
   "execution_count": 232,
   "metadata": {},
   "outputs": [
    {
     "name": "stdout",
     "output_type": "stream",
     "text": [
      "/movie/81\n"
     ]
    }
   ],
   "source": [
    "#Extract the value to get the url link\n",
    "for value in a.values():\n",
    "    url = value\n",
    "print(url)"
   ]
  },
  {
   "cell_type": "markdown",
   "metadata": {},
   "source": [
    "The link to the movie is \"https://www.themoviedb.org/movie/81\". Thus, we contenate the string \"https://www.themoviedb.org\" with \"/movie/81\" to get the url of the first movie"
   ]
  },
  {
   "cell_type": "code",
   "execution_count": 230,
   "metadata": {},
   "outputs": [
    {
     "name": "stdout",
     "output_type": "stream",
     "text": [
      "https://www.themoviedb.org/movie/81\n"
     ]
    }
   ],
   "source": [
    "full_url = \"https://www.themoviedb.org\" + url\n",
    "print(full_url)"
   ]
  },
  {
   "cell_type": "markdown",
   "metadata": {},
   "source": [
    "Find rank by accessing div tag with class='number'\n",
    "Then access the span tag\n",
    ".text returns the text inside the tag"
   ]
  },
  {
   "cell_type": "code",
   "execution_count": 237,
   "metadata": {},
   "outputs": [
    {
     "data": {
      "text/plain": [
       "1"
      ]
     },
     "execution_count": 237,
     "metadata": {},
     "output_type": "execute_result"
    }
   ],
   "source": [
    "#rank\n",
    "int(movie_1.find('div', {'class':'number'}).span.text)"
   ]
  },
  {
   "cell_type": "markdown",
   "metadata": {},
   "source": [
    "Perform the same steps to find rating"
   ]
  },
  {
   "cell_type": "code",
   "execution_count": 259,
   "metadata": {},
   "outputs": [
    {
     "data": {
      "text/plain": [
       "7.9"
      ]
     },
     "execution_count": 259,
     "metadata": {},
     "output_type": "execute_result"
    }
   ],
   "source": [
    "#Rating\n",
    "float(movie_1.find_all('span',{'class':'rating'})[1].text)\n"
   ]
  },
  {
   "cell_type": "markdown",
   "metadata": {},
   "source": [
    "## Iterate through all the movies"
   ]
  },
  {
   "cell_type": "markdown",
   "metadata": {},
   "source": [
    "It is time to apply the methods we use for extracting the information from the first movie to extract all the movies\n"
   ]
  },
  {
   "cell_type": "code",
   "execution_count": 274,
   "metadata": {},
   "outputs": [],
   "source": [
    "#Create 4 lists that contains all the url, movie's name, rank, and rating\n",
    "urls = []\n",
    "names = []\n",
    "ranks = []\n",
    "ratings = []\n",
    "images = []\n",
    "\n",
    "for movie in movies:\n",
    "    for value in movie.a.attrs.values():\n",
    "        url = value\n",
    "    urls.append(\"https://www.themoviedb.org\" +url)\n",
    "    \n",
    "    names.append(movie.img.attrs['alt'])\n",
    "    \n",
    "    ranks.append(int(movie.find('div', {'class':'number'}).span.text))\n",
    "    \n",
    "    ratings.append(float(movie.find_all('span',{'class':'rating'})[1].text))\n",
    "    \n",
    "    images.append(movie.find('img').attrs['data-src'])\n"
   ]
  },
  {
   "cell_type": "markdown",
   "metadata": {},
   "source": [
    "# Web scrap multiple webpages"
   ]
  },
  {
   "cell_type": "markdown",
   "metadata": {},
   "source": [
    "Loop through each page to find summary, director, year, run time, budget, revenue, genres, keywords"
   ]
  },
  {
   "cell_type": "markdown",
   "metadata": {},
   "source": [
    "Try with the first link"
   ]
  },
  {
   "cell_type": "code",
   "execution_count": 382,
   "metadata": {},
   "outputs": [],
   "source": [
    "url = urlopen(\"https://www.themoviedb.org/movie/81\")\n",
    "soup = BeautifulSoup(url)\n"
   ]
  },
  {
   "cell_type": "code",
   "execution_count": 311,
   "metadata": {},
   "outputs": [
    {
     "data": {
      "text/plain": [
       "'After a global war, the seaside kingdom known as the Valley of the Wind remains one of the last strongholds on Earth untouched by a poisonous jungle and the powerful insects that guard it. Led by the courageous Princess Nausicaä, the people of the Valley engage in an epic struggle to restore the bond between humanity and Earth.'"
      ]
     },
     "execution_count": 311,
     "metadata": {},
     "output_type": "execute_result"
    }
   ],
   "source": [
    "#find summary\n",
    "soup.find('div', {'class':'overview'}).p.get_text()"
   ]
  },
  {
   "cell_type": "code",
   "execution_count": 396,
   "metadata": {},
   "outputs": [
    {
     "data": {
      "text/plain": [
       "'Hayao Miyazaki'"
      ]
     },
     "execution_count": 396,
     "metadata": {},
     "output_type": "execute_result"
    }
   ],
   "source": [
    "#find director\n",
    "soup.find('li', {'class':'profile'}).a.get_text()"
   ]
  },
  {
   "cell_type": "code",
   "execution_count": 352,
   "metadata": {},
   "outputs": [],
   "source": [
    "#Find language, runtime, budget, revenue, and genre\n",
    "inf = soup.find('ul', {'class':'releases'}).find_next_siblings()\n",
    "language = inf[0].text\n",
    "runtime = inf[1].text\n",
    "budget = inf[2].text\n",
    "rev = inf[3].text    "
   ]
  },
  {
   "cell_type": "code",
   "execution_count": 386,
   "metadata": {},
   "outputs": [
    {
     "data": {
      "text/plain": [
       "['Adventure', 'Animation', 'Fantasy']"
      ]
     },
     "execution_count": 386,
     "metadata": {},
     "output_type": "execute_result"
    }
   ],
   "source": [
    "#Find Genre\n",
    "section = soup.find('section',{'class':'genres right_column'})\n",
    "[li.text for li in section.find_all('li')]"
   ]
  },
  {
   "cell_type": "markdown",
   "metadata": {},
   "source": [
    "Scrap every page"
   ]
  },
  {
   "cell_type": "code",
   "execution_count": 397,
   "metadata": {},
   "outputs": [],
   "source": [
    "summaries = []\n",
    "languages = []\n",
    "runtimes = []\n",
    "budgets = []\n",
    "revenues = []\n",
    "genres = []\n",
    "directors = []\n",
    "for url in urls:\n",
    "    soup = BeautifulSoup(urlopen(url))\n",
    "    \n",
    "    summaries.append(soup.find('div', {'class':'overview'}).p.get_text())\n",
    "    \n",
    "    inf = soup.find('ul', {'class':'releases'}).find_next_siblings()\n",
    "    \n",
    "    languages.append(inf[0].text)\n",
    "    \n",
    "    runtimes.append(inf[1].text)\n",
    "    \n",
    "    budgets.append(inf[2].text)\n",
    "    \n",
    "    revenues.append(inf[3].text)\n",
    "    \n",
    "    directors.append(soup.find('li', {'class':'profile'}).a.get_text())\n",
    "    \n",
    "    section = soup.find('section',{'class':'genres right_column'})\n",
    "    genres.append([li.text for li in section.find_all('li')])"
   ]
  },
  {
   "cell_type": "markdown",
   "metadata": {},
   "source": [
    "# Pandas DataFrame"
   ]
  },
  {
   "cell_type": "code",
   "execution_count": 278,
   "metadata": {},
   "outputs": [],
   "source": [
    "import pandas as pd"
   ]
  },
  {
   "cell_type": "code",
   "execution_count": 394,
   "metadata": {},
   "outputs": [
    {
     "data": {
      "text/html": [
       "<div>\n",
       "<style scoped>\n",
       "    .dataframe tbody tr th:only-of-type {\n",
       "        vertical-align: middle;\n",
       "    }\n",
       "\n",
       "    .dataframe tbody tr th {\n",
       "        vertical-align: top;\n",
       "    }\n",
       "\n",
       "    .dataframe thead th {\n",
       "        text-align: right;\n",
       "    }\n",
       "</style>\n",
       "<table border=\"1\" class=\"dataframe\">\n",
       "  <thead>\n",
       "    <tr style=\"text-align: right;\">\n",
       "      <th></th>\n",
       "      <th>name</th>\n",
       "      <th>rank</th>\n",
       "      <th>rating</th>\n",
       "      <th>language</th>\n",
       "      <th>runtime</th>\n",
       "      <th>budget</th>\n",
       "      <th>revenue</th>\n",
       "      <th>genre</th>\n",
       "      <th>summary</th>\n",
       "    </tr>\n",
       "  </thead>\n",
       "  <tbody>\n",
       "    <tr>\n",
       "      <td>0</td>\n",
       "      <td>Nausicaä of the Valley of the Wind</td>\n",
       "      <td>1</td>\n",
       "      <td>7.9</td>\n",
       "      <td>Original Language Japanese</td>\n",
       "      <td>Runtime 1h 57m</td>\n",
       "      <td>Budget $1,000,000.00</td>\n",
       "      <td>Revenue $3,301,446.00</td>\n",
       "      <td>[Adventure, Animation, Fantasy]</td>\n",
       "      <td>After a global war, the seaside kingdom known ...</td>\n",
       "    </tr>\n",
       "    <tr>\n",
       "      <td>1</td>\n",
       "      <td>The Cat Returns</td>\n",
       "      <td>2</td>\n",
       "      <td>7.2</td>\n",
       "      <td>Original Language Japanese</td>\n",
       "      <td>Runtime 1h 15m</td>\n",
       "      <td>Budget -</td>\n",
       "      <td>Revenue $522,911.00</td>\n",
       "      <td>[Adventure, Fantasy, Animation, Drama, Family]</td>\n",
       "      <td>Haru, a schoolgirl bored by her ordinary routi...</td>\n",
       "    </tr>\n",
       "    <tr>\n",
       "      <td>2</td>\n",
       "      <td>Porco Rosso</td>\n",
       "      <td>3</td>\n",
       "      <td>7.8</td>\n",
       "      <td>Original Language Japanese</td>\n",
       "      <td>Runtime 1h 34m</td>\n",
       "      <td>Budget -</td>\n",
       "      <td>Revenue -</td>\n",
       "      <td>[Comedy, Animation, Adventure]</td>\n",
       "      <td>Porco Rosso, known in Japan as Crimson Pig (Ku...</td>\n",
       "    </tr>\n",
       "    <tr>\n",
       "      <td>3</td>\n",
       "      <td>Pom Poko</td>\n",
       "      <td>4</td>\n",
       "      <td>7.2</td>\n",
       "      <td>Original Language Japanese</td>\n",
       "      <td>Runtime 1h 59m</td>\n",
       "      <td>Budget -</td>\n",
       "      <td>Revenue -</td>\n",
       "      <td>[Adventure, Animation, Fantasy]</td>\n",
       "      <td>The Raccoons of the Tama Hills are being force...</td>\n",
       "    </tr>\n",
       "    <tr>\n",
       "      <td>4</td>\n",
       "      <td>Kiki's Delivery Service</td>\n",
       "      <td>5</td>\n",
       "      <td>7.8</td>\n",
       "      <td>Original Language Japanese</td>\n",
       "      <td>Runtime 1h 43m</td>\n",
       "      <td>Budget $6,900,000.00</td>\n",
       "      <td>Revenue $18,172,849.00</td>\n",
       "      <td>[Animation, Adventure, Drama, Fantasy, Family]</td>\n",
       "      <td>A young witch, on her mandatory year of indepe...</td>\n",
       "    </tr>\n",
       "    <tr>\n",
       "      <td>5</td>\n",
       "      <td>Castle in the Sky</td>\n",
       "      <td>6</td>\n",
       "      <td>8.0</td>\n",
       "      <td>Original Language Japanese</td>\n",
       "      <td>Runtime 2h 4m</td>\n",
       "      <td>Budget -</td>\n",
       "      <td>Revenue -</td>\n",
       "      <td>[Adventure, Fantasy, Animation, Action, Family...</td>\n",
       "      <td>A young boy and a girl with a magic crystal mu...</td>\n",
       "    </tr>\n",
       "    <tr>\n",
       "      <td>6</td>\n",
       "      <td>Howl's Moving Castle</td>\n",
       "      <td>7</td>\n",
       "      <td>8.4</td>\n",
       "      <td>Original Language Japanese</td>\n",
       "      <td>Runtime 1h 59m</td>\n",
       "      <td>Budget $24,000,000.00</td>\n",
       "      <td>Revenue $236,049,757.00</td>\n",
       "      <td>[Fantasy, Animation, Adventure]</td>\n",
       "      <td>When Sophie, a shy young woman, is cursed with...</td>\n",
       "    </tr>\n",
       "    <tr>\n",
       "      <td>7</td>\n",
       "      <td>Princess Mononoke</td>\n",
       "      <td>8</td>\n",
       "      <td>8.4</td>\n",
       "      <td>Original Language Japanese</td>\n",
       "      <td>Runtime 2h 14m</td>\n",
       "      <td>Budget $26,500,000.00</td>\n",
       "      <td>Revenue $159,375,308.00</td>\n",
       "      <td>[Adventure, Fantasy, Animation]</td>\n",
       "      <td>Ashitaka, a prince of the disappearing Emishi ...</td>\n",
       "    </tr>\n",
       "    <tr>\n",
       "      <td>8</td>\n",
       "      <td>My Neighbor Totoro</td>\n",
       "      <td>9</td>\n",
       "      <td>8.1</td>\n",
       "      <td>Original Language Japanese</td>\n",
       "      <td>Runtime 1h 26m</td>\n",
       "      <td>Budget -</td>\n",
       "      <td>Revenue -</td>\n",
       "      <td>[Fantasy, Animation, Family]</td>\n",
       "      <td>Two sisters move to the country with their fat...</td>\n",
       "    </tr>\n",
       "    <tr>\n",
       "      <td>9</td>\n",
       "      <td>Grave of the Fireflies</td>\n",
       "      <td>10</td>\n",
       "      <td>8.4</td>\n",
       "      <td>Original Language Japanese</td>\n",
       "      <td>Runtime 1h 29m</td>\n",
       "      <td>Budget $3,700,000.00</td>\n",
       "      <td>Revenue -</td>\n",
       "      <td>[Animation, Drama, War]</td>\n",
       "      <td>In the final months of World War II, 14-year-o...</td>\n",
       "    </tr>\n",
       "  </tbody>\n",
       "</table>\n",
       "</div>"
      ],
      "text/plain": [
       "                                 name  rank  rating  \\\n",
       "0  Nausicaä of the Valley of the Wind     1     7.9   \n",
       "1                     The Cat Returns     2     7.2   \n",
       "2                         Porco Rosso     3     7.8   \n",
       "3                            Pom Poko     4     7.2   \n",
       "4             Kiki's Delivery Service     5     7.8   \n",
       "5                   Castle in the Sky     6     8.0   \n",
       "6                Howl's Moving Castle     7     8.4   \n",
       "7                   Princess Mononoke     8     8.4   \n",
       "8                  My Neighbor Totoro     9     8.1   \n",
       "9              Grave of the Fireflies    10     8.4   \n",
       "\n",
       "                     language         runtime                 budget  \\\n",
       "0  Original Language Japanese  Runtime 1h 57m   Budget $1,000,000.00   \n",
       "1  Original Language Japanese  Runtime 1h 15m               Budget -   \n",
       "2  Original Language Japanese  Runtime 1h 34m               Budget -   \n",
       "3  Original Language Japanese  Runtime 1h 59m               Budget -   \n",
       "4  Original Language Japanese  Runtime 1h 43m   Budget $6,900,000.00   \n",
       "5  Original Language Japanese   Runtime 2h 4m               Budget -   \n",
       "6  Original Language Japanese  Runtime 1h 59m  Budget $24,000,000.00   \n",
       "7  Original Language Japanese  Runtime 2h 14m  Budget $26,500,000.00   \n",
       "8  Original Language Japanese  Runtime 1h 26m               Budget -   \n",
       "9  Original Language Japanese  Runtime 1h 29m   Budget $3,700,000.00   \n",
       "\n",
       "                   revenue                                              genre  \\\n",
       "0    Revenue $3,301,446.00                    [Adventure, Animation, Fantasy]   \n",
       "1      Revenue $522,911.00     [Adventure, Fantasy, Animation, Drama, Family]   \n",
       "2                Revenue -                     [Comedy, Animation, Adventure]   \n",
       "3                Revenue -                    [Adventure, Animation, Fantasy]   \n",
       "4   Revenue $18,172,849.00     [Animation, Adventure, Drama, Fantasy, Family]   \n",
       "5                Revenue -  [Adventure, Fantasy, Animation, Action, Family...   \n",
       "6  Revenue $236,049,757.00                    [Fantasy, Animation, Adventure]   \n",
       "7  Revenue $159,375,308.00                    [Adventure, Fantasy, Animation]   \n",
       "8                Revenue -                       [Fantasy, Animation, Family]   \n",
       "9                Revenue -                            [Animation, Drama, War]   \n",
       "\n",
       "                                             summary  \n",
       "0  After a global war, the seaside kingdom known ...  \n",
       "1  Haru, a schoolgirl bored by her ordinary routi...  \n",
       "2  Porco Rosso, known in Japan as Crimson Pig (Ku...  \n",
       "3  The Raccoons of the Tama Hills are being force...  \n",
       "4  A young witch, on her mandatory year of indepe...  \n",
       "5  A young boy and a girl with a magic crystal mu...  \n",
       "6  When Sophie, a shy young woman, is cursed with...  \n",
       "7  Ashitaka, a prince of the disappearing Emishi ...  \n",
       "8  Two sisters move to the country with their fat...  \n",
       "9  In the final months of World War II, 14-year-o...  "
      ]
     },
     "execution_count": 394,
     "metadata": {},
     "output_type": "execute_result"
    }
   ],
   "source": [
    "ghibli = pd.DataFrame(list(zip(names, ranks, ratings, languages, runtimes, budgets, revenues, genres, summaries)),\n",
    "             columns=['name','rank','rating','language','runtime', 'budget','revenue','genre','summary'])\n",
    "ghibli.head(10)"
   ]
  },
  {
   "cell_type": "markdown",
   "metadata": {},
   "source": [
    "# Convert string into numerical values"
   ]
  },
  {
   "cell_type": "code",
   "execution_count": 438,
   "metadata": {},
   "outputs": [
    {
     "name": "stdout",
     "output_type": "stream",
     "text": [
      "1000000.0\n",
      "nan\n",
      "nan\n",
      "nan\n",
      "6900000.0\n",
      "nan\n",
      "24000000.0\n",
      "26500000.0\n",
      "nan\n",
      "3700000.0\n",
      "nan\n",
      "nan\n",
      "19000000.0\n",
      "nan\n",
      "22000000.0\n",
      "nan\n",
      "41677699.0\n",
      "23000000.0\n",
      "22000000.0\n",
      "30000000.0\n"
     ]
    }
   ],
   "source": [
    "import re\n",
    "import numpy as np\n",
    "def processNum(num):\n",
    "    if len(num) >1:\n",
    "        return float(re.sub(r'[^\\w\\s.]','',num))\n",
    "    else:\n",
    "        return np.NaN\n",
    "    \n",
    "for budget in ghibli.budget:\n",
    "    print(processNum(budget.split()[1]))"
   ]
  },
  {
   "cell_type": "code",
   "execution_count": 418,
   "metadata": {},
   "outputs": [],
   "source": [
    "budgets = ghibli.budget"
   ]
  },
  {
   "cell_type": "code",
   "execution_count": 427,
   "metadata": {},
   "outputs": [
    {
     "data": {
      "text/plain": [
       "0      Budget $1,000,000.00\n",
       "1                  Budget -\n",
       "2                  Budget -\n",
       "3                  Budget -\n",
       "4      Budget $6,900,000.00\n",
       "5                  Budget -\n",
       "6     Budget $24,000,000.00\n",
       "7     Budget $26,500,000.00\n",
       "8                  Budget -\n",
       "9      Budget $3,700,000.00\n",
       "10                 Budget -\n",
       "11                 Budget -\n",
       "12    Budget $19,000,000.00\n",
       "13                 Budget -\n",
       "14    Budget $22,000,000.00\n",
       "15                 Budget -\n",
       "16    Budget $41,677,699.00\n",
       "17    Budget $23,000,000.00\n",
       "18    Budget $22,000,000.00\n",
       "19    Budget $30,000,000.00\n",
       "Name: budget, dtype: object"
      ]
     },
     "execution_count": 427,
     "metadata": {},
     "output_type": "execute_result"
    }
   ],
   "source": [
    "budgets"
   ]
  },
  {
   "cell_type": "code",
   "execution_count": 423,
   "metadata": {},
   "outputs": [
    {
     "data": {
      "text/plain": [
       "1000000.0"
      ]
     },
     "execution_count": 423,
     "metadata": {},
     "output_type": "execute_result"
    }
   ],
   "source": [
    "processNum(budgets[0].split()[1])"
   ]
  },
  {
   "cell_type": "code",
   "execution_count": 439,
   "metadata": {},
   "outputs": [],
   "source": [
    "ghibli['budget'] = ghibli['budget'].map(lambda x: processNum(x.split()[1]))"
   ]
  },
  {
   "cell_type": "code",
   "execution_count": 441,
   "metadata": {},
   "outputs": [],
   "source": [
    "ghibli['revenue'] = ghibli['revenue'].map(lambda x: processNum(x.split()[1]))"
   ]
  },
  {
   "cell_type": "markdown",
   "metadata": {},
   "source": [
    "# Transform Categorical Variables"
   ]
  },
  {
   "cell_type": "code",
   "execution_count": 456,
   "metadata": {},
   "outputs": [
    {
     "data": {
      "text/plain": [
       "['Action',\n",
       " 'Adventure',\n",
       " 'Animation',\n",
       " 'Comedy',\n",
       " 'Drama',\n",
       " 'Family',\n",
       " 'Fantasy',\n",
       " 'Romance',\n",
       " 'Science Fiction',\n",
       " 'TV Movie',\n",
       " 'War']"
      ]
     },
     "execution_count": 456,
     "metadata": {},
     "output_type": "execute_result"
    }
   ],
   "source": [
    "#Create unique variables\n",
    "genre = sorted(set(y for x in ghibli.genre for y in x))\n",
    "genre\n"
   ]
  },
  {
   "cell_type": "code",
   "execution_count": 464,
   "metadata": {},
   "outputs": [],
   "source": [
    "#Start with creating DataFrame of all zeros\n",
    "dummies = pd.DataFrame(np.zeros((len(ghibli), len(genre))), columns=genre)"
   ]
  },
  {
   "cell_type": "code",
   "execution_count": 466,
   "metadata": {},
   "outputs": [
    {
     "name": "stderr",
     "output_type": "stream",
     "text": [
      "/Users/khuyentran/opt/anaconda3/lib/python3.7/site-packages/ipykernel_launcher.py:3: FutureWarning: \n",
      ".ix is deprecated. Please use\n",
      ".loc for label based indexing or\n",
      ".iloc for positional indexing\n",
      "\n",
      "See the documentation here:\n",
      "http://pandas.pydata.org/pandas-docs/stable/user_guide/indexing.html#ix-indexer-is-deprecated\n",
      "  This is separate from the ipykernel package so we can avoid doing imports until\n"
     ]
    }
   ],
   "source": [
    "#itereate through each movie and set entries in each row of dummies to 1\n",
    "for i, gen in enumerate(ghibli.genre):\n",
    "    dummies.ix[i, gen] = 1"
   ]
  },
  {
   "cell_type": "code",
   "execution_count": 467,
   "metadata": {},
   "outputs": [
    {
     "data": {
      "text/html": [
       "<div>\n",
       "<style scoped>\n",
       "    .dataframe tbody tr th:only-of-type {\n",
       "        vertical-align: middle;\n",
       "    }\n",
       "\n",
       "    .dataframe tbody tr th {\n",
       "        vertical-align: top;\n",
       "    }\n",
       "\n",
       "    .dataframe thead th {\n",
       "        text-align: right;\n",
       "    }\n",
       "</style>\n",
       "<table border=\"1\" class=\"dataframe\">\n",
       "  <thead>\n",
       "    <tr style=\"text-align: right;\">\n",
       "      <th></th>\n",
       "      <th>Action</th>\n",
       "      <th>Adventure</th>\n",
       "      <th>Animation</th>\n",
       "      <th>Comedy</th>\n",
       "      <th>Drama</th>\n",
       "      <th>Family</th>\n",
       "      <th>Fantasy</th>\n",
       "      <th>Romance</th>\n",
       "      <th>Science Fiction</th>\n",
       "      <th>TV Movie</th>\n",
       "      <th>War</th>\n",
       "    </tr>\n",
       "  </thead>\n",
       "  <tbody>\n",
       "    <tr>\n",
       "      <td>0</td>\n",
       "      <td>0.0</td>\n",
       "      <td>1.0</td>\n",
       "      <td>1.0</td>\n",
       "      <td>0.0</td>\n",
       "      <td>0.0</td>\n",
       "      <td>0.0</td>\n",
       "      <td>1.0</td>\n",
       "      <td>0.0</td>\n",
       "      <td>0.0</td>\n",
       "      <td>0.0</td>\n",
       "      <td>0.0</td>\n",
       "    </tr>\n",
       "    <tr>\n",
       "      <td>1</td>\n",
       "      <td>0.0</td>\n",
       "      <td>1.0</td>\n",
       "      <td>1.0</td>\n",
       "      <td>0.0</td>\n",
       "      <td>1.0</td>\n",
       "      <td>1.0</td>\n",
       "      <td>1.0</td>\n",
       "      <td>0.0</td>\n",
       "      <td>0.0</td>\n",
       "      <td>0.0</td>\n",
       "      <td>0.0</td>\n",
       "    </tr>\n",
       "    <tr>\n",
       "      <td>2</td>\n",
       "      <td>0.0</td>\n",
       "      <td>1.0</td>\n",
       "      <td>1.0</td>\n",
       "      <td>1.0</td>\n",
       "      <td>0.0</td>\n",
       "      <td>0.0</td>\n",
       "      <td>0.0</td>\n",
       "      <td>0.0</td>\n",
       "      <td>0.0</td>\n",
       "      <td>0.0</td>\n",
       "      <td>0.0</td>\n",
       "    </tr>\n",
       "    <tr>\n",
       "      <td>3</td>\n",
       "      <td>0.0</td>\n",
       "      <td>1.0</td>\n",
       "      <td>1.0</td>\n",
       "      <td>0.0</td>\n",
       "      <td>0.0</td>\n",
       "      <td>0.0</td>\n",
       "      <td>1.0</td>\n",
       "      <td>0.0</td>\n",
       "      <td>0.0</td>\n",
       "      <td>0.0</td>\n",
       "      <td>0.0</td>\n",
       "    </tr>\n",
       "    <tr>\n",
       "      <td>4</td>\n",
       "      <td>0.0</td>\n",
       "      <td>1.0</td>\n",
       "      <td>1.0</td>\n",
       "      <td>0.0</td>\n",
       "      <td>1.0</td>\n",
       "      <td>1.0</td>\n",
       "      <td>1.0</td>\n",
       "      <td>0.0</td>\n",
       "      <td>0.0</td>\n",
       "      <td>0.0</td>\n",
       "      <td>0.0</td>\n",
       "    </tr>\n",
       "    <tr>\n",
       "      <td>5</td>\n",
       "      <td>1.0</td>\n",
       "      <td>1.0</td>\n",
       "      <td>1.0</td>\n",
       "      <td>0.0</td>\n",
       "      <td>0.0</td>\n",
       "      <td>1.0</td>\n",
       "      <td>1.0</td>\n",
       "      <td>1.0</td>\n",
       "      <td>0.0</td>\n",
       "      <td>0.0</td>\n",
       "      <td>0.0</td>\n",
       "    </tr>\n",
       "    <tr>\n",
       "      <td>6</td>\n",
       "      <td>0.0</td>\n",
       "      <td>1.0</td>\n",
       "      <td>1.0</td>\n",
       "      <td>0.0</td>\n",
       "      <td>0.0</td>\n",
       "      <td>0.0</td>\n",
       "      <td>1.0</td>\n",
       "      <td>0.0</td>\n",
       "      <td>0.0</td>\n",
       "      <td>0.0</td>\n",
       "      <td>0.0</td>\n",
       "    </tr>\n",
       "    <tr>\n",
       "      <td>7</td>\n",
       "      <td>0.0</td>\n",
       "      <td>1.0</td>\n",
       "      <td>1.0</td>\n",
       "      <td>0.0</td>\n",
       "      <td>0.0</td>\n",
       "      <td>0.0</td>\n",
       "      <td>1.0</td>\n",
       "      <td>0.0</td>\n",
       "      <td>0.0</td>\n",
       "      <td>0.0</td>\n",
       "      <td>0.0</td>\n",
       "    </tr>\n",
       "    <tr>\n",
       "      <td>8</td>\n",
       "      <td>0.0</td>\n",
       "      <td>0.0</td>\n",
       "      <td>1.0</td>\n",
       "      <td>0.0</td>\n",
       "      <td>0.0</td>\n",
       "      <td>1.0</td>\n",
       "      <td>1.0</td>\n",
       "      <td>0.0</td>\n",
       "      <td>0.0</td>\n",
       "      <td>0.0</td>\n",
       "      <td>0.0</td>\n",
       "    </tr>\n",
       "    <tr>\n",
       "      <td>9</td>\n",
       "      <td>0.0</td>\n",
       "      <td>0.0</td>\n",
       "      <td>1.0</td>\n",
       "      <td>0.0</td>\n",
       "      <td>1.0</td>\n",
       "      <td>0.0</td>\n",
       "      <td>0.0</td>\n",
       "      <td>0.0</td>\n",
       "      <td>0.0</td>\n",
       "      <td>0.0</td>\n",
       "      <td>1.0</td>\n",
       "    </tr>\n",
       "    <tr>\n",
       "      <td>10</td>\n",
       "      <td>0.0</td>\n",
       "      <td>0.0</td>\n",
       "      <td>1.0</td>\n",
       "      <td>0.0</td>\n",
       "      <td>1.0</td>\n",
       "      <td>1.0</td>\n",
       "      <td>0.0</td>\n",
       "      <td>0.0</td>\n",
       "      <td>0.0</td>\n",
       "      <td>0.0</td>\n",
       "      <td>0.0</td>\n",
       "    </tr>\n",
       "    <tr>\n",
       "      <td>11</td>\n",
       "      <td>0.0</td>\n",
       "      <td>0.0</td>\n",
       "      <td>1.0</td>\n",
       "      <td>0.0</td>\n",
       "      <td>0.0</td>\n",
       "      <td>1.0</td>\n",
       "      <td>0.0</td>\n",
       "      <td>0.0</td>\n",
       "      <td>0.0</td>\n",
       "      <td>0.0</td>\n",
       "      <td>0.0</td>\n",
       "    </tr>\n",
       "    <tr>\n",
       "      <td>12</td>\n",
       "      <td>0.0</td>\n",
       "      <td>0.0</td>\n",
       "      <td>1.0</td>\n",
       "      <td>0.0</td>\n",
       "      <td>0.0</td>\n",
       "      <td>1.0</td>\n",
       "      <td>1.0</td>\n",
       "      <td>0.0</td>\n",
       "      <td>0.0</td>\n",
       "      <td>0.0</td>\n",
       "      <td>0.0</td>\n",
       "    </tr>\n",
       "    <tr>\n",
       "      <td>13</td>\n",
       "      <td>0.0</td>\n",
       "      <td>0.0</td>\n",
       "      <td>1.0</td>\n",
       "      <td>0.0</td>\n",
       "      <td>1.0</td>\n",
       "      <td>0.0</td>\n",
       "      <td>0.0</td>\n",
       "      <td>1.0</td>\n",
       "      <td>0.0</td>\n",
       "      <td>0.0</td>\n",
       "      <td>0.0</td>\n",
       "    </tr>\n",
       "    <tr>\n",
       "      <td>14</td>\n",
       "      <td>0.0</td>\n",
       "      <td>1.0</td>\n",
       "      <td>1.0</td>\n",
       "      <td>0.0</td>\n",
       "      <td>0.0</td>\n",
       "      <td>0.0</td>\n",
       "      <td>1.0</td>\n",
       "      <td>0.0</td>\n",
       "      <td>1.0</td>\n",
       "      <td>0.0</td>\n",
       "      <td>0.0</td>\n",
       "    </tr>\n",
       "    <tr>\n",
       "      <td>15</td>\n",
       "      <td>0.0</td>\n",
       "      <td>0.0</td>\n",
       "      <td>1.0</td>\n",
       "      <td>0.0</td>\n",
       "      <td>1.0</td>\n",
       "      <td>0.0</td>\n",
       "      <td>0.0</td>\n",
       "      <td>1.0</td>\n",
       "      <td>0.0</td>\n",
       "      <td>1.0</td>\n",
       "      <td>0.0</td>\n",
       "    </tr>\n",
       "    <tr>\n",
       "      <td>16</td>\n",
       "      <td>0.0</td>\n",
       "      <td>0.0</td>\n",
       "      <td>1.0</td>\n",
       "      <td>0.0</td>\n",
       "      <td>0.0</td>\n",
       "      <td>1.0</td>\n",
       "      <td>0.0</td>\n",
       "      <td>0.0</td>\n",
       "      <td>0.0</td>\n",
       "      <td>0.0</td>\n",
       "      <td>0.0</td>\n",
       "    </tr>\n",
       "    <tr>\n",
       "      <td>17</td>\n",
       "      <td>0.0</td>\n",
       "      <td>0.0</td>\n",
       "      <td>1.0</td>\n",
       "      <td>0.0</td>\n",
       "      <td>0.0</td>\n",
       "      <td>1.0</td>\n",
       "      <td>1.0</td>\n",
       "      <td>0.0</td>\n",
       "      <td>0.0</td>\n",
       "      <td>0.0</td>\n",
       "      <td>0.0</td>\n",
       "    </tr>\n",
       "    <tr>\n",
       "      <td>18</td>\n",
       "      <td>0.0</td>\n",
       "      <td>0.0</td>\n",
       "      <td>1.0</td>\n",
       "      <td>0.0</td>\n",
       "      <td>1.0</td>\n",
       "      <td>0.0</td>\n",
       "      <td>0.0</td>\n",
       "      <td>0.0</td>\n",
       "      <td>0.0</td>\n",
       "      <td>0.0</td>\n",
       "      <td>0.0</td>\n",
       "    </tr>\n",
       "    <tr>\n",
       "      <td>19</td>\n",
       "      <td>0.0</td>\n",
       "      <td>0.0</td>\n",
       "      <td>1.0</td>\n",
       "      <td>0.0</td>\n",
       "      <td>0.0</td>\n",
       "      <td>0.0</td>\n",
       "      <td>0.0</td>\n",
       "      <td>0.0</td>\n",
       "      <td>0.0</td>\n",
       "      <td>0.0</td>\n",
       "      <td>0.0</td>\n",
       "    </tr>\n",
       "  </tbody>\n",
       "</table>\n",
       "</div>"
      ],
      "text/plain": [
       "    Action  Adventure  Animation  Comedy  Drama  Family  Fantasy  Romance  \\\n",
       "0      0.0        1.0        1.0     0.0    0.0     0.0      1.0      0.0   \n",
       "1      0.0        1.0        1.0     0.0    1.0     1.0      1.0      0.0   \n",
       "2      0.0        1.0        1.0     1.0    0.0     0.0      0.0      0.0   \n",
       "3      0.0        1.0        1.0     0.0    0.0     0.0      1.0      0.0   \n",
       "4      0.0        1.0        1.0     0.0    1.0     1.0      1.0      0.0   \n",
       "5      1.0        1.0        1.0     0.0    0.0     1.0      1.0      1.0   \n",
       "6      0.0        1.0        1.0     0.0    0.0     0.0      1.0      0.0   \n",
       "7      0.0        1.0        1.0     0.0    0.0     0.0      1.0      0.0   \n",
       "8      0.0        0.0        1.0     0.0    0.0     1.0      1.0      0.0   \n",
       "9      0.0        0.0        1.0     0.0    1.0     0.0      0.0      0.0   \n",
       "10     0.0        0.0        1.0     0.0    1.0     1.0      0.0      0.0   \n",
       "11     0.0        0.0        1.0     0.0    0.0     1.0      0.0      0.0   \n",
       "12     0.0        0.0        1.0     0.0    0.0     1.0      1.0      0.0   \n",
       "13     0.0        0.0        1.0     0.0    1.0     0.0      0.0      1.0   \n",
       "14     0.0        1.0        1.0     0.0    0.0     0.0      1.0      0.0   \n",
       "15     0.0        0.0        1.0     0.0    1.0     0.0      0.0      1.0   \n",
       "16     0.0        0.0        1.0     0.0    0.0     1.0      0.0      0.0   \n",
       "17     0.0        0.0        1.0     0.0    0.0     1.0      1.0      0.0   \n",
       "18     0.0        0.0        1.0     0.0    1.0     0.0      0.0      0.0   \n",
       "19     0.0        0.0        1.0     0.0    0.0     0.0      0.0      0.0   \n",
       "\n",
       "    Science Fiction  TV Movie  War  \n",
       "0               0.0       0.0  0.0  \n",
       "1               0.0       0.0  0.0  \n",
       "2               0.0       0.0  0.0  \n",
       "3               0.0       0.0  0.0  \n",
       "4               0.0       0.0  0.0  \n",
       "5               0.0       0.0  0.0  \n",
       "6               0.0       0.0  0.0  \n",
       "7               0.0       0.0  0.0  \n",
       "8               0.0       0.0  0.0  \n",
       "9               0.0       0.0  1.0  \n",
       "10              0.0       0.0  0.0  \n",
       "11              0.0       0.0  0.0  \n",
       "12              0.0       0.0  0.0  \n",
       "13              0.0       0.0  0.0  \n",
       "14              1.0       0.0  0.0  \n",
       "15              0.0       1.0  0.0  \n",
       "16              0.0       0.0  0.0  \n",
       "17              0.0       0.0  0.0  \n",
       "18              0.0       0.0  0.0  \n",
       "19              0.0       0.0  0.0  "
      ]
     },
     "execution_count": 467,
     "metadata": {},
     "output_type": "execute_result"
    }
   ],
   "source": [
    "dummies"
   ]
  },
  {
   "cell_type": "code",
   "execution_count": 469,
   "metadata": {},
   "outputs": [],
   "source": [
    "#Combine this data frame with ghibli\n",
    "ghibli = ghibli.join(dummies.add_prefix('Genre_'))"
   ]
  },
  {
   "cell_type": "code",
   "execution_count": 471,
   "metadata": {},
   "outputs": [],
   "source": [
    "ghibli.drop(axis=1, columns = ['genre'], inplace=True)"
   ]
  },
  {
   "cell_type": "code",
   "execution_count": 481,
   "metadata": {
    "scrolled": true
   },
   "outputs": [
    {
     "data": {
      "text/plain": [
       "['1h', '57m']"
      ]
     },
     "execution_count": 481,
     "metadata": {},
     "output_type": "execute_result"
    }
   ],
   "source": [
    "ghibli.runtime[0].split()[1:]"
   ]
  },
  {
   "cell_type": "code",
   "execution_count": 518,
   "metadata": {},
   "outputs": [
    {
     "data": {
      "text/plain": [
       "datetime.time(1, 57)"
      ]
     },
     "execution_count": 518,
     "metadata": {},
     "output_type": "execute_result"
    }
   ],
   "source": [
    "pd.to_datetime('1h 57m',format='%Ih %Mm').time()"
   ]
  },
  {
   "cell_type": "code",
   "execution_count": 519,
   "metadata": {},
   "outputs": [],
   "source": [
    "def processTime(time):\n",
    "    time = ' '.join(time.split()[1:])\n",
    "    return pd.to_datetime(time, format='%Ih %Mm').time()"
   ]
  },
  {
   "cell_type": "code",
   "execution_count": 520,
   "metadata": {},
   "outputs": [
    {
     "data": {
      "text/plain": [
       "datetime.time(1, 57)"
      ]
     },
     "execution_count": 520,
     "metadata": {},
     "output_type": "execute_result"
    }
   ],
   "source": [
    "processTime(ghibli.runtime[0])"
   ]
  },
  {
   "cell_type": "code",
   "execution_count": 522,
   "metadata": {},
   "outputs": [],
   "source": [
    "ghibli.runtime = ghibli.runtime.map(lambda x: processTime(x))"
   ]
  },
  {
   "cell_type": "code",
   "execution_count": 525,
   "metadata": {},
   "outputs": [],
   "source": [
    "summary = ghibli.summary"
   ]
  },
  {
   "cell_type": "markdown",
   "metadata": {},
   "source": [
    "# Text mining"
   ]
  },
  {
   "cell_type": "code",
   "execution_count": 532,
   "metadata": {},
   "outputs": [],
   "source": [
    "text = summary[0]"
   ]
  },
  {
   "cell_type": "markdown",
   "metadata": {},
   "source": [
    "## NLTK for basic preprocessing"
   ]
  },
  {
   "cell_type": "code",
   "execution_count": 529,
   "metadata": {},
   "outputs": [],
   "source": [
    "import nltk\n",
    "#Import string for list of punctuation\n",
    "import string\n",
    "#Import the stop word list\n",
    "from nltk.corpus import stopwords\n",
    "#Import Tokenizer\n",
    "from nltk.tokenize import RegexpTokenizer\n",
    "#Import Lemmatizer\n",
    "from nltk.stem import WordNetLemmatizer\n",
    "#Import stemmer\n",
    "from nltk.stem.porter import PorterStemmer\n"
   ]
  },
  {
   "cell_type": "code",
   "execution_count": 531,
   "metadata": {},
   "outputs": [
    {
     "data": {
      "text/plain": [
       "'!\"#$%&\\'()*+,-./:;<=>?@[\\\\]^_`{|}~'"
      ]
     },
     "execution_count": 531,
     "metadata": {},
     "output_type": "execute_result"
    }
   ],
   "source": [
    "#remove punctuation\n",
    "string.punctuation"
   ]
  },
  {
   "cell_type": "code",
   "execution_count": 533,
   "metadata": {},
   "outputs": [],
   "source": [
    "def remove_punctuation(text):\n",
    "  no_punct = ''.join([c for c in text if c not in string.punctuation])\n",
    "  return no_punct\n",
    "    "
   ]
  },
  {
   "cell_type": "code",
   "execution_count": 534,
   "metadata": {},
   "outputs": [
    {
     "data": {
      "text/plain": [
       "'After a global war the seaside kingdom known as the Valley of the Wind remains one of the last strongholds on Earth untouched by a poisonous jungle and the powerful insects that guard it Led by the courageous Princess Nausicaä the people of the Valley engage in an epic struggle to restore the bond between humanity and Earth'"
      ]
     },
     "execution_count": 534,
     "metadata": {},
     "output_type": "execute_result"
    }
   ],
   "source": [
    "remove_punctuation(text)"
   ]
  },
  {
   "cell_type": "code",
   "execution_count": 535,
   "metadata": {},
   "outputs": [],
   "source": [
    "ghibli.summary = ghibli.summary.apply(lambda x: remove_punctuation(x))"
   ]
  },
  {
   "cell_type": "code",
   "execution_count": 542,
   "metadata": {},
   "outputs": [],
   "source": [
    "#tokenize\n",
    "tokenizer = RegexpTokenizer(r'\\w+')\n",
    "\n",
    "ghibli.summary = ghibli.summary.apply(lambda x: tokenizer.tokenize(x.lower()))"
   ]
  },
  {
   "cell_type": "code",
   "execution_count": 550,
   "metadata": {},
   "outputs": [],
   "source": [
    "#remove stop words\n",
    "from nltk.corpus import stopwords\n",
    "def remove_stopwords(text):\n",
    "    words = [w for w in text if w not in stopwords.words('english')]\n",
    "    return words\n",
    "\n",
    "ghibli.summary = ghibli.summary.apply(lambda x: remove_stopwords(x))"
   ]
  },
  {
   "cell_type": "code",
   "execution_count": 556,
   "metadata": {},
   "outputs": [
    {
     "data": {
      "text/plain": [
       "['global',\n",
       " 'war',\n",
       " 'seaside',\n",
       " 'kingdom',\n",
       " 'known',\n",
       " 'valley',\n",
       " 'wind',\n",
       " 'remains',\n",
       " 'one',\n",
       " 'last',\n",
       " 'stronghold',\n",
       " 'earth',\n",
       " 'untouched',\n",
       " 'poisonous',\n",
       " 'jungle',\n",
       " 'powerful',\n",
       " 'insect',\n",
       " 'guard',\n",
       " 'led',\n",
       " 'courageous',\n",
       " 'princess',\n",
       " 'nausicaä',\n",
       " 'people',\n",
       " 'valley',\n",
       " 'engage',\n",
       " 'epic',\n",
       " 'struggle',\n",
       " 'restore',\n",
       " 'bond',\n",
       " 'humanity',\n",
       " 'earth']"
      ]
     },
     "execution_count": 556,
     "metadata": {},
     "output_type": "execute_result"
    }
   ],
   "source": [
    "# lemmatizing\n",
    "\n",
    "lemmatizer = WordNetLemmatizer()\n",
    "\n",
    "def word_lemmatizer(text):\n",
    "    lem_text = [lemmatizer.lemmatize(i) for i in text]\n",
    "    return lem_text\n",
    "\n",
    "ghibli.summary.apply(lambda x: word_lemmatizer(x))[0]"
   ]
  },
  {
   "cell_type": "code",
   "execution_count": 555,
   "metadata": {},
   "outputs": [
    {
     "data": {
      "text/plain": [
       "['global',\n",
       " 'war',\n",
       " 'seasid',\n",
       " 'kingdom',\n",
       " 'known',\n",
       " 'valley',\n",
       " 'wind',\n",
       " 'remain',\n",
       " 'one',\n",
       " 'last',\n",
       " 'stronghold',\n",
       " 'earth',\n",
       " 'untouch',\n",
       " 'poison',\n",
       " 'jungl',\n",
       " 'power',\n",
       " 'insect',\n",
       " 'guard',\n",
       " 'led',\n",
       " 'courag',\n",
       " 'princess',\n",
       " 'nausicaä',\n",
       " 'peopl',\n",
       " 'valley',\n",
       " 'engag',\n",
       " 'epic',\n",
       " 'struggl',\n",
       " 'restor',\n",
       " 'bond',\n",
       " 'human',\n",
       " 'earth']"
      ]
     },
     "execution_count": 555,
     "metadata": {},
     "output_type": "execute_result"
    }
   ],
   "source": [
    "#Compate with Stemmer\n",
    "stemmer = PorterStemmer()\n",
    "\n",
    "def word_stemmer(text):\n",
    "    stem_text = [stemmer.stem(i) for i in text]\n",
    "    return stem_text\n",
    "\n",
    "ghibli.summary.apply(lambda x: word_stemmer(x))[0]"
   ]
  },
  {
   "cell_type": "markdown",
   "metadata": {},
   "source": [
    "## Sentiment Analysis"
   ]
  },
  {
   "cell_type": "code",
   "execution_count": 558,
   "metadata": {},
   "outputs": [],
   "source": [
    "#Choose Lemmatizer\n",
    "ghibli.summary = ghibli.summary.apply(lambda x: word_lemmatizer(x))"
   ]
  },
  {
   "cell_type": "code",
   "execution_count": 566,
   "metadata": {},
   "outputs": [
    {
     "data": {
      "text/html": [
       "<div>\n",
       "<style scoped>\n",
       "    .dataframe tbody tr th:only-of-type {\n",
       "        vertical-align: middle;\n",
       "    }\n",
       "\n",
       "    .dataframe tbody tr th {\n",
       "        vertical-align: top;\n",
       "    }\n",
       "\n",
       "    .dataframe thead th {\n",
       "        text-align: right;\n",
       "    }\n",
       "</style>\n",
       "<table border=\"1\" class=\"dataframe\">\n",
       "  <thead>\n",
       "    <tr style=\"text-align: right;\">\n",
       "      <th></th>\n",
       "      <th>PhraseId</th>\n",
       "      <th>SentenceId</th>\n",
       "      <th>Phrase</th>\n",
       "      <th>Sentiment</th>\n",
       "    </tr>\n",
       "  </thead>\n",
       "  <tbody>\n",
       "    <tr>\n",
       "      <td>0</td>\n",
       "      <td>1</td>\n",
       "      <td>1</td>\n",
       "      <td>A series of escapades demonstrating the adage ...</td>\n",
       "      <td>1</td>\n",
       "    </tr>\n",
       "    <tr>\n",
       "      <td>1</td>\n",
       "      <td>2</td>\n",
       "      <td>1</td>\n",
       "      <td>A series of escapades demonstrating the adage ...</td>\n",
       "      <td>2</td>\n",
       "    </tr>\n",
       "    <tr>\n",
       "      <td>2</td>\n",
       "      <td>3</td>\n",
       "      <td>1</td>\n",
       "      <td>A series</td>\n",
       "      <td>2</td>\n",
       "    </tr>\n",
       "    <tr>\n",
       "      <td>3</td>\n",
       "      <td>4</td>\n",
       "      <td>1</td>\n",
       "      <td>A</td>\n",
       "      <td>2</td>\n",
       "    </tr>\n",
       "    <tr>\n",
       "      <td>4</td>\n",
       "      <td>5</td>\n",
       "      <td>1</td>\n",
       "      <td>series</td>\n",
       "      <td>2</td>\n",
       "    </tr>\n",
       "    <tr>\n",
       "      <td>...</td>\n",
       "      <td>...</td>\n",
       "      <td>...</td>\n",
       "      <td>...</td>\n",
       "      <td>...</td>\n",
       "    </tr>\n",
       "    <tr>\n",
       "      <td>156055</td>\n",
       "      <td>156056</td>\n",
       "      <td>8544</td>\n",
       "      <td>Hearst 's</td>\n",
       "      <td>2</td>\n",
       "    </tr>\n",
       "    <tr>\n",
       "      <td>156056</td>\n",
       "      <td>156057</td>\n",
       "      <td>8544</td>\n",
       "      <td>forced avuncular chortles</td>\n",
       "      <td>1</td>\n",
       "    </tr>\n",
       "    <tr>\n",
       "      <td>156057</td>\n",
       "      <td>156058</td>\n",
       "      <td>8544</td>\n",
       "      <td>avuncular chortles</td>\n",
       "      <td>3</td>\n",
       "    </tr>\n",
       "    <tr>\n",
       "      <td>156058</td>\n",
       "      <td>156059</td>\n",
       "      <td>8544</td>\n",
       "      <td>avuncular</td>\n",
       "      <td>2</td>\n",
       "    </tr>\n",
       "    <tr>\n",
       "      <td>156059</td>\n",
       "      <td>156060</td>\n",
       "      <td>8544</td>\n",
       "      <td>chortles</td>\n",
       "      <td>2</td>\n",
       "    </tr>\n",
       "  </tbody>\n",
       "</table>\n",
       "<p>156060 rows × 4 columns</p>\n",
       "</div>"
      ],
      "text/plain": [
       "        PhraseId  SentenceId  \\\n",
       "0              1           1   \n",
       "1              2           1   \n",
       "2              3           1   \n",
       "3              4           1   \n",
       "4              5           1   \n",
       "...          ...         ...   \n",
       "156055    156056        8544   \n",
       "156056    156057        8544   \n",
       "156057    156058        8544   \n",
       "156058    156059        8544   \n",
       "156059    156060        8544   \n",
       "\n",
       "                                                   Phrase  Sentiment  \n",
       "0       A series of escapades demonstrating the adage ...          1  \n",
       "1       A series of escapades demonstrating the adage ...          2  \n",
       "2                                                A series          2  \n",
       "3                                                       A          2  \n",
       "4                                                  series          2  \n",
       "...                                                   ...        ...  \n",
       "156055                                          Hearst 's          2  \n",
       "156056                          forced avuncular chortles          1  \n",
       "156057                                 avuncular chortles          3  \n",
       "156058                                          avuncular          2  \n",
       "156059                                           chortles          2  \n",
       "\n",
       "[156060 rows x 4 columns]"
      ]
     },
     "execution_count": 566,
     "metadata": {},
     "output_type": "execute_result"
    }
   ],
   "source": [
    "#Import data from ttps://www.kaggle.com/c/sentiment-analysis-on-movie-reviews/data\n",
    "data=pd.read_csv('train.tsv', sep = '\\t')\n",
    "data"
   ]
  },
  {
   "cell_type": "code",
   "execution_count": 567,
   "metadata": {},
   "outputs": [
    {
     "name": "stdout",
     "output_type": "stream",
     "text": [
      "<class 'pandas.core.frame.DataFrame'>\n",
      "RangeIndex: 156060 entries, 0 to 156059\n",
      "Data columns (total 4 columns):\n",
      "PhraseId      156060 non-null int64\n",
      "SentenceId    156060 non-null int64\n",
      "Phrase        156060 non-null object\n",
      "Sentiment     156060 non-null int64\n",
      "dtypes: int64(3), object(1)\n",
      "memory usage: 4.8+ MB\n"
     ]
    }
   ],
   "source": [
    "data.info()"
   ]
  },
  {
   "cell_type": "code",
   "execution_count": 569,
   "metadata": {},
   "outputs": [
    {
     "data": {
      "text/plain": [
       "2    79582\n",
       "3    32927\n",
       "1    27273\n",
       "4     9206\n",
       "0     7072\n",
       "Name: Sentiment, dtype: int64"
      ]
     },
     "execution_count": 569,
     "metadata": {},
     "output_type": "execute_result"
    }
   ],
   "source": [
    "#0-negative, 1-somewhat negative 2-neutral 3-somewhat positive 4-positive\n",
    "data.Sentiment.value_counts()"
   ]
  },
  {
   "cell_type": "code",
   "execution_count": 585,
   "metadata": {},
   "outputs": [],
   "source": [
    "from sklearn.feature_extraction.text import CountVectorizer\n",
    "\n",
    "#remove unwanted elements from our data like symbols and numbers\n",
    "token = RegexpTokenizer(r'[a-zA-Z0-9]+')\n",
    "\n",
    "#Count the occurence of words in the matrix using CountVectorizer\n",
    "#Combine 2 or more words \n",
    "cv = CountVectorizer(lowercase=True, stop_words='english', ngram_range = (1,1), tokenizer = token.tokenize)"
   ]
  },
  {
   "cell_type": "code",
   "execution_count": 586,
   "metadata": {},
   "outputs": [],
   "source": [
    "#Split train and test set to understand model performance\n",
    "#Use TF_IDF to normalize the document term matrix\n",
    "from sklearn.model_selection import train_test_split\n",
    "X_train, X_test, y_train, y_test = train_test_split(\n",
    "    text_counts, data['Sentiment'], test_size=0.3, random_state=1)"
   ]
  },
  {
   "cell_type": "code",
   "execution_count": 587,
   "metadata": {},
   "outputs": [
    {
     "name": "stdout",
     "output_type": "stream",
     "text": [
      "MultinomialNB Accuracy: 0.6049169122986885\n"
     ]
    }
   ],
   "source": [
    "#Model building and evaluation using Multinomial Naive Bayes classifier\n",
    "from sklearn.naive_bayes import MultinomialNB\n",
    "#Import scikit-learn metrics module for accuracy calculation\n",
    "from sklearn import metrics\n",
    "# Model Generation Using Multinomial Naive Bayes\n",
    "clf = MultinomialNB().fit(X_train, y_train)\n",
    "predicted= clf.predict(X_test)\n",
    "print(\"MultinomialNB Accuracy:\",metrics.accuracy_score(y_test, predicted))"
   ]
  },
  {
   "cell_type": "code",
   "execution_count": 588,
   "metadata": {},
   "outputs": [
    {
     "data": {
      "text/plain": [
       "<46818x14988 sparse matrix of type '<class 'numpy.int64'>'\n",
       "\twith 179696 stored elements in Compressed Sparse Row format>"
      ]
     },
     "execution_count": 588,
     "metadata": {},
     "output_type": "execute_result"
    }
   ],
   "source": [
    "#Use this model to transform our data\n",
    "X_test"
   ]
  },
  {
   "cell_type": "code",
   "execution_count": null,
   "metadata": {},
   "outputs": [],
   "source": []
  }
 ],
 "metadata": {
  "kernelspec": {
   "display_name": "Python 3",
   "language": "python",
   "name": "python3"
  },
  "language_info": {
   "codemirror_mode": {
    "name": "ipython",
    "version": 3
   },
   "file_extension": ".py",
   "mimetype": "text/x-python",
   "name": "python",
   "nbconvert_exporter": "python",
   "pygments_lexer": "ipython3",
   "version": "3.7.4"
  }
 },
 "nbformat": 4,
 "nbformat_minor": 2
}
